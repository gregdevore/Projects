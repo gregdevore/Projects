{
 "cells": [
  {
   "cell_type": "markdown",
   "metadata": {},
   "source": [
    "# Generative Adversarial Network\n",
    "\n",
    "In this notebook, we'll be building a generative adversarial network (GAN) trained on the MNIST dataset. Using this network, we will be generated new digits!\n",
    "\n",
    "The idea behind GANs is that you have two networks, a generator $G$ and a discriminator $D$, competing against each other. The generator makes fake data to pass to the discriminator. The discriminator also sees real data and predicts if the data it's received is real or fake. The generator is trained to fool the discriminator, it wants to output data that looks _as close as possible_ to real data. And the discriminator is trained to figure out which data is real and which is fake. What ends up happening is that the generator learns to make data that is indistiguishable from real data to the discriminator."
   ]
  },
  {
   "cell_type": "markdown",
   "metadata": {},
   "source": [
    "## Generator network\n",
    "\n",
    "Here we'll build the generator network. We will use a leaky ReLU to allow gradients to flow backwards through the layer unimpeded. A leaky ReLU is like a normal ReLU, except that there is a small non-zero output for negative input values.\n",
    "\n",
    "#### Leaky ReLU\n",
    "Typically, a parameter `alpha` sets the magnitude of the output for negative values. So, the output for negative input (`x`) values is `alpha*x`, and the output for positive `x` is `x`:\n",
    "$$\n",
    "f(x) = max(\\alpha * x, x)\n",
    "$$\n",
    "For implementing the leaky relu, you could use the following resource https://keras.io/layers/advanced-activations/\n",
    "\n",
    "#### Tanh Output\n",
    "The generator has been found to perform the best with $tanh$ for the generator output. This means that we'll have to rescale the MNIST images to be between -1 and 1, instead of the usual 0 and 1 range. "
   ]
  },
  {
   "cell_type": "markdown",
   "metadata": {},
   "source": [
    "## Discriminator\n",
    "\n",
    "The discriminator network is almost exactly the same as the generator network, except that we're using a sigmoid output layer."
   ]
  },
  {
   "cell_type": "markdown",
   "metadata": {},
   "source": [
    "## Build network\n",
    "\n",
    "Now we're are going to build the generator and discrimator networks.\n",
    "\n",
    "We'll create the generator, `generator(input_z, input_size)`. This builds the generator with the appropriate input and output sizes.\n",
    "\n",
    "Then the discriminators. We'll build two of them, one for real data and one for fake data. Since we want the weights to be the same for both real and fake data, we need to reuse the variables. For the fake data, we're getting it from the generator as `g_model`. So the real data discriminator is `discriminator(input_real)` while the fake discriminator is `discriminator(g_model, reuse=True)`."
   ]
  },
  {
   "cell_type": "code",
   "execution_count": 1,
   "metadata": {},
   "outputs": [
    {
     "name": "stderr",
     "output_type": "stream",
     "text": [
      "/usr/lib/python3.5/importlib/_bootstrap.py:222: RuntimeWarning: numpy.dtype size changed, may indicate binary incompatibility. Expected 96, got 88\n",
      "  return f(*args, **kwds)\n",
      "Using TensorFlow backend.\n",
      "/usr/lib/python3.5/importlib/_bootstrap.py:222: RuntimeWarning: numpy.dtype size changed, may indicate binary incompatibility. Expected 96, got 88\n",
      "  return f(*args, **kwds)\n",
      "/usr/lib/python3.5/importlib/_bootstrap.py:222: RuntimeWarning: numpy.dtype size changed, may indicate binary incompatibility. Expected 96, got 88\n",
      "  return f(*args, **kwds)\n"
     ]
    }
   ],
   "source": [
    "import os\n",
    "os.environ[\"KERAS_BACKEND\"] = \"tensorflow\"\n",
    "from tqdm import tqdm\n",
    "from __future__ import print_function, division\n",
    "import matplotlib.pyplot as plt\n",
    "import sys\n",
    "import numpy as np\n",
    "\n",
    "import keras\n",
    "from keras import optimizers\n",
    "from keras.models import Sequential, Model\n",
    "from keras.layers import Input, Conv2D, UpSampling2D, Conv2DTranspose\n",
    "from keras.layers.core import Reshape, Dense, Dropout, Flatten\n",
    "from keras.layers.advanced_activations import LeakyReLU\n",
    "from keras import initializers\n",
    "from keras.optimizers import Adam\n",
    "\n",
    "from keras import backend as K "
   ]
  },
  {
   "cell_type": "code",
   "execution_count": 2,
   "metadata": {
    "collapsed": true,
    "nbgrader": {
     "grade": false,
     "locked": true,
     "solution": false
    }
   },
   "outputs": [],
   "source": [
    "# Load MNIST data\n",
    "def load_data(path='mnist.npz'):\n",
    "    \"\"\"Loads the MNIST dataset.\n",
    "    # Arguments\n",
    "        path: path where to cache the dataset locally\n",
    "            (relative to ~/.keras/datasets).\n",
    "    # Returns\n",
    "        Tuple of Numpy arrays: `(x_train, y_train), (x_test, y_test)`.\n",
    "    \"\"\"\n",
    "    path = \"mnist.npz\"\n",
    "    f = np.load(path)\n",
    "    x_train, y_train = f['x_train'], f['y_train']\n",
    "    x_test, y_test = f['x_test'], f['y_test']\n",
    "    f.close()\n",
    "    return (x_train, y_train), (x_test, y_test)"
   ]
  },
  {
   "cell_type": "code",
   "execution_count": 3,
   "metadata": {
    "collapsed": true
   },
   "outputs": [],
   "source": [
    "# Generator\n",
    "def build_generator(latent_dim):\n",
    "    # Make sure to use a tanh activation at the last layer and compile the model before returning it\n",
    "    # For upsampling the image, you could use UpSampling2D function from Keras library. \n",
    "    # Use adam optimizer with: adam = Adam(0.0002, 0.5)\n",
    "    \n",
    "    # Prepare model for inputs of shape latent_dim\n",
    "    generator_input = Input(shape=(latent_dim,))\n",
    "    \n",
    "    # Build model to mimic CIFAR10 example from textbook (with correct sizes for MNINST image - 28x28x1)\n",
    "    x = Dense(32 * 14 * 14)(generator_input)\n",
    "    \n",
    "    # Reshape to 14x14x32\n",
    "    x = LeakyReLU()(x)\n",
    "    x = Reshape((14, 14, 32))(x)\n",
    "    \n",
    "    x = Conv2D(64, 3, padding='same')(x)\n",
    "    x = LeakyReLU()(x)\n",
    "    \n",
    "    # Upsample to 28x28 (MNIST image resolution)\n",
    "    x = Conv2DTranspose(64, 4, strides=2, padding='same')(x)\n",
    "    x = LeakyReLU()(x)\n",
    "    \n",
    "    x = Conv2D(64, 3, padding='same')(x)\n",
    "    x = LeakyReLU()(x)\n",
    "    \n",
    "    x = Conv2D(64, 3, padding='same')(x)\n",
    "    x = LeakyReLU()(x)\n",
    "    \n",
    "    # Decrease to proper image size (28x28x1)    \n",
    "    x = Conv2D(1, 3, activation='tanh', padding='same')(x)\n",
    "    \n",
    "    generator = Model(generator_input, x)\n",
    "    generator.summary()\n",
    "    \n",
    "    adam = Adam(0.0002, 0.5)    \n",
    "    # Compile model\n",
    "    generator.compile(optimizer=adam, loss='binary_crossentropy')\n",
    "    \n",
    "    return generator"
   ]
  },
  {
   "cell_type": "code",
   "execution_count": 5,
   "metadata": {
    "collapsed": true
   },
   "outputs": [],
   "source": [
    "# Discriminator\n",
    "def build_discriminator(img_shape):\n",
    "    # Make sure to use a sigmoid at the last layer and compile the model before returning it\n",
    "    # Use adam optimizer with adam = Adam(0.0002, 0.5)\n",
    "    img_rows, img_cols, channels = img_shape\n",
    "    \n",
    "    # Accept inputs of 28x28x1\n",
    "    discriminator_input = Input(shape=(img_rows, img_cols, channels))\n",
    "    \n",
    "    x = Conv2D(32, 4)(discriminator_input)\n",
    "    x = LeakyReLU()(x)\n",
    "    \n",
    "    x = Conv2D(32, 4, strides=1)(x)\n",
    "    x = LeakyReLU()(x)\n",
    "    x = Conv2D(32, 4, strides=2)(x)\n",
    "    x = LeakyReLU()(x)\n",
    "    x = Conv2D(32, 4, strides=2)(x)\n",
    "    x = LeakyReLU()(x)\n",
    "    \n",
    "    x = Flatten()(x)\n",
    "    \n",
    "    x = Dropout(0.4)(x) # May need to tweak this\n",
    "    \n",
    "    x = Dense(1, activation='sigmoid')(x)\n",
    "    \n",
    "    discriminator = Model(discriminator_input, x)\n",
    "    discriminator.summary()\n",
    "    \n",
    "    adam = Adam(0.0002, 0.5)\n",
    "    \n",
    "    # Compile model\n",
    "    discriminator.compile(optimizer=adam, loss='binary_crossentropy')\n",
    "    \n",
    "    return discriminator"
   ]
  },
  {
   "cell_type": "code",
   "execution_count": 7,
   "metadata": {
    "collapsed": true
   },
   "outputs": [],
   "source": [
    "# Now that we've built the disriminator and generator, lets combine the two for the full end to end system.\n",
    "# This is where we are calculating D(G(z))!\n",
    "# We will set up a Model object to train the generator to fool the discriminator. We need to turn of\n",
    "# weight updates for the discriminator, create an Input object for the generator with the right\n",
    "# dimension, run that through the generator, and run the output of the generator through the discriminator. \n",
    "# You should compile this new Model object.\n",
    "def build_gan(discriminator, generator, latent_dim):\n",
    "    \n",
    "    discriminator.trainable = False\n",
    "    \n",
    "    gan_input = Input(shape=(latent_dim,))\n",
    "    gan_output = discriminator(generator(gan_input))\n",
    "    \n",
    "    gan = Model(gan_input, gan_output)\n",
    "    \n",
    "    adam = Adam(0.0002, 0.5)\n",
    "    \n",
    "    gan.compile(optimizer=adam, loss='binary_crossentropy')\n",
    "    \n",
    "    return gan"
   ]
  },
  {
   "cell_type": "code",
   "execution_count": 8,
   "metadata": {
    "collapsed": true
   },
   "outputs": [],
   "source": [
    "# Parameters for our mnist dataset. \n",
    "img_rows = 28\n",
    "img_cols = 28\n",
    "channels = 1\n",
    "# Feel free to change the order of channels, rows, and cols if you go ahead with a different order \n",
    "# in your discriminator and generator. \n",
    "# img_shape = (channels, img_rows, img_cols)\n",
    "img_shape = (img_rows, img_cols, channels)\n",
    "latent_dim = 100"
   ]
  },
  {
   "cell_type": "code",
   "execution_count": 9,
   "metadata": {
    "collapsed": true
   },
   "outputs": [],
   "source": [
    "# Create a wall of generated MNIST images\n",
    "def plotGeneratedImages(epoch, generator, examples=100, dim=(10, 10), figsize=(10, 10)):\n",
    "    noise = np.random.normal(0, 1, size=[examples, latent_dim])\n",
    "    generatedImages = generator.predict(noise)\n",
    "\n",
    "    plt.figure(figsize=figsize)\n",
    "    for i in range(generatedImages.shape[0]):\n",
    "        plt.subplot(dim[0], dim[1], i+1)\n",
    "        # Reshape image\n",
    "        image = generatedImages[i].reshape(28,28)\n",
    "        plt.imshow(image, interpolation='nearest', cmap='gray_r')\n",
    "        plt.axis('off')\n",
    "    plt.tight_layout()\n",
    "    plt.savefig('images/dcgan_generated_image_epoch_DeVore_final_%d.png' % epoch)"
   ]
  },
  {
   "cell_type": "code",
   "execution_count": 10,
   "metadata": {},
   "outputs": [
    {
     "name": "stdout",
     "output_type": "stream",
     "text": [
      "_________________________________________________________________\n",
      "Layer (type)                 Output Shape              Param #   \n",
      "=================================================================\n",
      "input_1 (InputLayer)         (None, 28, 28, 1)         0         \n",
      "_________________________________________________________________\n",
      "conv2d_1 (Conv2D)            (None, 25, 25, 32)        544       \n",
      "_________________________________________________________________\n",
      "leaky_re_lu_1 (LeakyReLU)    (None, 25, 25, 32)        0         \n",
      "_________________________________________________________________\n",
      "conv2d_2 (Conv2D)            (None, 22, 22, 32)        16416     \n",
      "_________________________________________________________________\n",
      "leaky_re_lu_2 (LeakyReLU)    (None, 22, 22, 32)        0         \n",
      "_________________________________________________________________\n",
      "conv2d_3 (Conv2D)            (None, 10, 10, 32)        16416     \n",
      "_________________________________________________________________\n",
      "leaky_re_lu_3 (LeakyReLU)    (None, 10, 10, 32)        0         \n",
      "_________________________________________________________________\n",
      "conv2d_4 (Conv2D)            (None, 4, 4, 32)          16416     \n",
      "_________________________________________________________________\n",
      "leaky_re_lu_4 (LeakyReLU)    (None, 4, 4, 32)          0         \n",
      "_________________________________________________________________\n",
      "flatten_1 (Flatten)          (None, 512)               0         \n",
      "_________________________________________________________________\n",
      "dropout_1 (Dropout)          (None, 512)               0         \n",
      "_________________________________________________________________\n",
      "dense_1 (Dense)              (None, 1)                 513       \n",
      "=================================================================\n",
      "Total params: 50,305\n",
      "Trainable params: 50,305\n",
      "Non-trainable params: 0\n",
      "_________________________________________________________________\n",
      "_________________________________________________________________\n",
      "Layer (type)                 Output Shape              Param #   \n",
      "=================================================================\n",
      "input_2 (InputLayer)         (None, 100)               0         \n",
      "_________________________________________________________________\n",
      "dense_2 (Dense)              (None, 6272)              633472    \n",
      "_________________________________________________________________\n",
      "leaky_re_lu_5 (LeakyReLU)    (None, 6272)              0         \n",
      "_________________________________________________________________\n",
      "reshape_1 (Reshape)          (None, 14, 14, 32)        0         \n",
      "_________________________________________________________________\n",
      "conv2d_5 (Conv2D)            (None, 14, 14, 64)        18496     \n",
      "_________________________________________________________________\n",
      "leaky_re_lu_6 (LeakyReLU)    (None, 14, 14, 64)        0         \n",
      "_________________________________________________________________\n",
      "conv2d_transpose_1 (Conv2DTr (None, 28, 28, 64)        65600     \n",
      "_________________________________________________________________\n",
      "leaky_re_lu_7 (LeakyReLU)    (None, 28, 28, 64)        0         \n",
      "_________________________________________________________________\n",
      "conv2d_6 (Conv2D)            (None, 28, 28, 64)        36928     \n",
      "_________________________________________________________________\n",
      "leaky_re_lu_8 (LeakyReLU)    (None, 28, 28, 64)        0         \n",
      "_________________________________________________________________\n",
      "conv2d_7 (Conv2D)            (None, 28, 28, 64)        36928     \n",
      "_________________________________________________________________\n",
      "leaky_re_lu_9 (LeakyReLU)    (None, 28, 28, 64)        0         \n",
      "_________________________________________________________________\n",
      "conv2d_8 (Conv2D)            (None, 28, 28, 1)         577       \n",
      "=================================================================\n",
      "Total params: 792,001\n",
      "Trainable params: 792,001\n",
      "Non-trainable params: 0\n",
      "_________________________________________________________________\n"
     ]
    },
    {
     "name": "stderr",
     "output_type": "stream",
     "text": [
      "\r",
      "  0%|          | 0/1875 [00:00<?, ?it/s]"
     ]
    },
    {
     "name": "stdout",
     "output_type": "stream",
     "text": [
      "--------------- Epoch 1 ---------------\n"
     ]
    },
    {
     "name": "stderr",
     "output_type": "stream",
     "text": [
      "100%|██████████| 1875/1875 [01:32<00:00, 20.25it/s]\n"
     ]
    },
    {
     "name": "stdout",
     "output_type": "stream",
     "text": [
      "discriminator loss: 0.60331225\n",
      "adversarial loss: 0.86873764\n"
     ]
    },
    {
     "name": "stderr",
     "output_type": "stream",
     "text": [
      "  0%|          | 2/1875 [00:00<02:00, 15.50it/s]"
     ]
    },
    {
     "name": "stdout",
     "output_type": "stream",
     "text": [
      "--------------- Epoch 2 ---------------\n"
     ]
    },
    {
     "name": "stderr",
     "output_type": "stream",
     "text": [
      "100%|██████████| 1875/1875 [01:30<00:00, 20.82it/s]\n",
      "  0%|          | 3/1875 [00:00<01:27, 21.40it/s]"
     ]
    },
    {
     "name": "stdout",
     "output_type": "stream",
     "text": [
      "discriminator loss: 0.5174006\n",
      "adversarial loss: 1.0115827\n",
      "--------------- Epoch 3 ---------------\n"
     ]
    },
    {
     "name": "stderr",
     "output_type": "stream",
     "text": [
      "100%|██████████| 1875/1875 [01:29<00:00, 20.90it/s]\n",
      "  0%|          | 3/1875 [00:00<01:28, 21.11it/s]"
     ]
    },
    {
     "name": "stdout",
     "output_type": "stream",
     "text": [
      "discriminator loss: 0.4913813\n",
      "adversarial loss: 1.0878357\n",
      "--------------- Epoch 4 ---------------\n"
     ]
    },
    {
     "name": "stderr",
     "output_type": "stream",
     "text": [
      "100%|██████████| 1875/1875 [01:30<00:00, 20.81it/s]\n",
      "  0%|          | 3/1875 [00:00<01:29, 20.89it/s]"
     ]
    },
    {
     "name": "stdout",
     "output_type": "stream",
     "text": [
      "discriminator loss: 0.5663186\n",
      "adversarial loss: 0.9296609\n",
      "--------------- Epoch 5 ---------------\n"
     ]
    },
    {
     "name": "stderr",
     "output_type": "stream",
     "text": [
      "100%|██████████| 1875/1875 [01:30<00:00, 20.77it/s]\n"
     ]
    },
    {
     "name": "stdout",
     "output_type": "stream",
     "text": [
      "discriminator loss: 0.5594814\n",
      "adversarial loss: 0.98968416\n"
     ]
    },
    {
     "name": "stderr",
     "output_type": "stream",
     "text": [
      "  0%|          | 2/1875 [00:00<01:58, 15.85it/s]"
     ]
    },
    {
     "name": "stdout",
     "output_type": "stream",
     "text": [
      "--------------- Epoch 6 ---------------\n"
     ]
    },
    {
     "name": "stderr",
     "output_type": "stream",
     "text": [
      "100%|██████████| 1875/1875 [01:29<00:00, 20.86it/s]\n",
      "  0%|          | 3/1875 [00:00<01:29, 20.91it/s]"
     ]
    },
    {
     "name": "stdout",
     "output_type": "stream",
     "text": [
      "discriminator loss: 0.5501053\n",
      "adversarial loss: 0.9014426\n",
      "--------------- Epoch 7 ---------------\n"
     ]
    },
    {
     "name": "stderr",
     "output_type": "stream",
     "text": [
      "100%|██████████| 1875/1875 [01:29<00:00, 20.85it/s]\n",
      "  0%|          | 3/1875 [00:00<01:29, 20.85it/s]"
     ]
    },
    {
     "name": "stdout",
     "output_type": "stream",
     "text": [
      "discriminator loss: 0.54522526\n",
      "adversarial loss: 0.86188567\n",
      "--------------- Epoch 8 ---------------\n"
     ]
    },
    {
     "name": "stderr",
     "output_type": "stream",
     "text": [
      "100%|██████████| 1875/1875 [01:30<00:00, 20.76it/s]\n",
      "  0%|          | 3/1875 [00:00<01:28, 21.25it/s]"
     ]
    },
    {
     "name": "stdout",
     "output_type": "stream",
     "text": [
      "discriminator loss: 0.54309314\n",
      "adversarial loss: 0.9855986\n",
      "--------------- Epoch 9 ---------------\n"
     ]
    },
    {
     "name": "stderr",
     "output_type": "stream",
     "text": [
      "100%|██████████| 1875/1875 [01:29<00:00, 20.89it/s]\n",
      "  0%|          | 3/1875 [00:00<01:29, 20.90it/s]"
     ]
    },
    {
     "name": "stdout",
     "output_type": "stream",
     "text": [
      "discriminator loss: 0.593326\n",
      "adversarial loss: 0.867559\n",
      "--------------- Epoch 10 ---------------\n"
     ]
    },
    {
     "name": "stderr",
     "output_type": "stream",
     "text": [
      "100%|██████████| 1875/1875 [01:29<00:00, 20.86it/s]\n"
     ]
    },
    {
     "name": "stdout",
     "output_type": "stream",
     "text": [
      "discriminator loss: 0.5853712\n",
      "adversarial loss: 0.97934216\n"
     ]
    }
   ],
   "source": [
    "# Build and compile the discriminator\n",
    "discriminator = build_discriminator(img_shape)\n",
    "\n",
    "# Build and compile the generator\n",
    "generator = build_generator(latent_dim)\n",
    "\n",
    "# Build and compile the combined network\n",
    "gan = build_gan(discriminator, generator, latent_dim)\n",
    "\n",
    "epochs = 10\n",
    "batch_size = 32\n",
    "save_interval = 50\n",
    "\n",
    "# Load MNIST data and rescale -1 to 1\n",
    "(X_train, y_train), (X_test, y_test) = load_data()\n",
    "X_train = (X_train.astype(np.float32) - 127.5)/127.5\n",
    "X_train = X_train[:, np.newaxis, :, :]\n",
    "# Reshape images\n",
    "X_train = X_train.reshape((X_train.shape[0],) + img_shape)\n",
    "\n",
    "# Store losses\n",
    "dloss_vec = []\n",
    "gloss_vec = []\n",
    "\n",
    "batchCount = X_train.shape[0] / batch_size\n",
    "for e in range(1, epochs+1):\n",
    "    start = 0\n",
    "    print('-'*15, 'Epoch %d' % e, '-'*15)\n",
    "    for c in tqdm(range(int(batchCount))):\n",
    "        \n",
    "        # Get a random sample from real images, and from random noise\n",
    "        # Sample from normal distribution, size should be 128x100\n",
    "        noise = np.random.normal(size=(batch_size, latent_dim))\n",
    "        # Keep track on position in training set, sample next 128 images\n",
    "        stop = start + batch_size\n",
    "        imageBatch = X_train[start:stop]\n",
    "        start += batch_size\n",
    "\n",
    "        # Generate fake MNIST images, from noise\n",
    "        generatedImages = generator.predict(noise)\n",
    "        \n",
    "        # Lets train the discriminator first. \n",
    "        # We will concatenate the real images and fake images into a variable X\n",
    "        X = np.concatenate([generatedImages, imageBatch])\n",
    "\n",
    "        # Create the labels for fake and real data, composed of 0s and 1s\n",
    "        # Note that ones are for fake images, and zeros are for real images\n",
    "        yDis = np.concatenate([np.ones((batch_size,1)), np.zeros((batch_size,1))])\n",
    "        # Consider adding noise to labels\n",
    "        yDis += 0.05 * np.random.random(yDis.shape)\n",
    "\n",
    "        # Train discriminator\n",
    "        discriminator.trainable = True\n",
    "        dloss = discriminator.train_on_batch(X, yDis)\n",
    "\n",
    "        # Now lets train the generator\n",
    "        # Generate batch_size sized random noise \n",
    "        noise = np.random.normal(size=(batch_size, latent_dim))\n",
    "        \n",
    "        # Generate the labels for the generator\n",
    "        # These labels should all be for 'real' images\n",
    "        yGen = np.zeros((batch_size,1))\n",
    "        discriminator.trainable = False\n",
    "        gloss = gan.train_on_batch(noise, yGen)\n",
    "        \n",
    "    # Try printing loss and saving weights after each epoch\n",
    "    gan.save_weights('gan.h5')\n",
    "    print('discriminator loss:', dloss)\n",
    "    print('adversarial loss:', gloss)\n",
    "    dloss_vec.append(dloss)\n",
    "    gloss_vec.append(gloss)\n",
    "        \n",
    "    if e == 1 or e % 5 == 0:\n",
    "        # Save after certain epochs\n",
    "        plotGeneratedImages(e, generator)"
   ]
  },
  {
   "cell_type": "markdown",
   "metadata": {},
   "source": [
    "## Results\n",
    "Please embed some of the images you have generated and turn them in with your notebook!"
   ]
  },
  {
   "cell_type": "markdown",
   "metadata": {},
   "source": [
    "Before we post some images, let's take a look at how the loss functions changed over the 10 epochs. Since there are two loss functions, the model won't converge to a single minimum, rather the two loss functions will achieve a balance where neither one is changing drastically between each epoch."
   ]
  },
  {
   "cell_type": "code",
   "execution_count": 12,
   "metadata": {},
   "outputs": [
    {
     "data": {
      "image/png": "[encoded data removed]",
      "text/plain": [
       "<matplotlib.figure.Figure at 0x7f7f145563c8>"
      ]
     },
     "metadata": {},
     "output_type": "display_data"
    }
   ],
   "source": [
    "plt.figure(figsize=(5,5))\n",
    "plt.plot(dloss_vec)\n",
    "plt.plot(gloss_vec)\n",
    "plt.legend(['dloss','gloss'])\n",
    "plt.show()"
   ]
  },
  {
   "cell_type": "markdown",
   "metadata": {},
   "source": [
    "Both loss functions seem stable, and more or less at equilibrium, which is the desired behavior for a GAN."
   ]
  },
  {
   "cell_type": "markdown",
   "metadata": {},
   "source": [
    "### Generator Images After First Epoch\n",
    "\n",
    "Let's take a look at a sample of generated images after the 1st epoch:"
   ]
  },
  {
   "cell_type": "markdown",
   "metadata": {
    "collapsed": true
   },
   "source": [
    "<img src=\"dcgan_generated_image_epoch_DeVore_final_1.png\",width=800,height=800>"
   ]
  },
  {
   "cell_type": "markdown",
   "metadata": {},
   "source": [
    "Even after just a single epoch, many of the generated images resemble actual numbers. That being said, there is plenty of room for improvement."
   ]
  },
  {
   "cell_type": "markdown",
   "metadata": {},
   "source": [
    "### Generator Images After Tenth Epoch\n",
    "\n",
    "Let's see how the fully trained generator compares by looking at the images generated after the 10th and final epoch."
   ]
  },
  {
   "cell_type": "markdown",
   "metadata": {},
   "source": [
    "<img src=\"dcgan_generated_image_epoch_DeVore_final_10.png\",width=800,height=800>"
   ]
  },
  {
   "cell_type": "markdown",
   "metadata": {},
   "source": [
    "These look much better, and are nearly indistinguishable from handwritten digits. The results are particularly impressive since the network was trained using only 10 iterations of the training set, and in just over 10 minutes."
   ]
  },
  {
   "cell_type": "markdown",
   "metadata": {
    "collapsed": true
   },
   "source": [
    "## Conceptual Overview\n",
    "\n"
   ]
  },
  {
   "cell_type": "markdown",
   "metadata": {
    "collapsed": true
   },
   "source": [
    "The structure of the GAN is different from anything we've seen so far. Rather than a single network, the GAN is actually composed of two networks. These networks, known as the generator and discriminator, have an adversarial relationship with one another (hence the name). In this exercise, both the generator and discriminator were convolutional neural networks, although this doesn't have to be the case. The generators job is to fool the discriminator by producing images that are indistinguishable from real images from a training set, and the discriminators job is to not be fooled by the generators attempts at forgery.\n",
    "\n",
    "One other major difference is that LeakyRelu activation functions are used for both networks. Sparsity is often your friend when it comes to deep learning, but not for GANs. Using the LeakyRelu allows for small negative outputs, as opposed to a standard Relu which would output zeros as a response to any negative input.\n",
    "\n",
    "The form of the generator network is rather unique. The input consists of a random sample of a predetermined size from a Gaussian distribution. This input is fed to a dense layer whose output is reshaped to a square tensor half the size of the output image (with some number of filters, in our case 32). This feature map tensor is passed through a convolution layer and then upsampled to the output image size. After several convolutions with varying numbers of filters (either 32 or 64 here), an image is produced as output from the generator with the proper size (in our case it's a 28x28x1). The final activation function is a hyperbolic tangent (tanh), which maps all values from -1 to 1.\n",
    "\n",
    "For the discriminator, the network structure looks much more familiar. The input is an image (28x28x1 here), and after several strided convolutions and a dropout layer, a final dense layer with a single node and sigmoid activation function outputs a probability of the image it just processed being real.\n",
    "\n",
    "The structure of the actual GAN is rather simple. The input is random noise (the input to the generator), and the output is the prediction made by the discriminator, which has been fed the output from the generator which has been fed the random noise input. Within the GAN, the discriminator is not trainable (this is very important!).\n",
    "\n",
    "The GAN training consists of two phases, which are repeated for each batch of images within each epoch. First, images are created by the generator and labeled as 'fake'. These are combined with images from the training set, which are labeled as 'real'. The discriminator is trained using these images. First, the fake images are just random noise, but they get better over time (as the generator learns how to produce more convincing images), which makes the discriminator better at spotting fake images. Second, another batch of images is created by the generator, except these are labeled as 'real' (to try and fool the discriminator). These images are fed to the discriminator within the GAN (recall that it's weights are frozen), and the weights of the generator are updated so that it is better able to fool the discriminator over time.\n",
    "\n",
    "During training, dual loss functions are monitored (from the discriminator and the GAN, which is really just the generator). There is no convergence here, rather the loss functions come to an equilibrium with one another. This state represents the generator producing images that are so convincing that the discriminator can't tell if they are real or not, and it settles to an accuracy of roughly 50% (it is no better than random guesses as to the authenticity of an image).\n",
    "\n",
    "Overall, I was really impressed with the generators ability to create convincing handwritten digit images after only 10 epochs of training. The biggest challenges encountered were that I made the network too complex at first (I modeled it after an example in the textbook which was used to generate more detailed color images). After some debugging I found that the model was overfitting after only 10 iterations, during the first epoch. Scaling back the number of filters created in the convolution layers helped immensely, and soon I was generating digits. The other challenge was that my generated numbers often had dark borders around the edges of the image. The numbers themselves looked good, but the border artifacts were distracting. Careful tuning of the filter sizes and stride lengths helped eliminate this phenomenon. Admittedly, this was an extremely simple implementation of a GAN, and they are notoriously hard to train. Still, these results were encouraging and give me the confidence to try a harder problem (like color images!)."
   ]
  },
  {
   "cell_type": "code",
   "execution_count": null,
   "metadata": {
    "collapsed": true
   },
   "outputs": [],
   "source": []
  }
 ],
 "metadata": {
  "kernelspec": {
   "display_name": "Python 2",
   "language": "python",
   "name": "python2"
  },
  "language_info": {
   "codemirror_mode": {
    "name": "ipython",
    "version": 2
   },
   "file_extension": ".py",
   "mimetype": "text/x-python",
   "name": "python",
   "nbconvert_exporter": "python",
   "pygments_lexer": "ipython2",
   "version": "2.7.13"
  }
 },
 "nbformat": 4,
 "nbformat_minor": 2
}
