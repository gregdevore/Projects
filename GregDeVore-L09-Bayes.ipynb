{
 "cells": [
  {
   "cell_type": "markdown",
   "metadata": {
    "collapsed": true
   },
   "source": [
    "# Assignment 9: Bayesian Analysis\n",
    "\n",
    "## Greg DeVore\n",
    "## ML210\n",
    "## March 10th, 2018"
   ]
  },
  {
   "cell_type": "markdown",
   "metadata": {
    "collapsed": true
   },
   "source": [
    "Dataset needed: Tennis weather from within (https://computersciencesource.wordpress.com/2010/01/28/year-2-machine-learning-naive-bayes-classifier/)"
   ]
  },
  {
   "cell_type": "markdown",
   "metadata": {},
   "source": [
    "## Naïve Bayes"
   ]
  },
  {
   "cell_type": "markdown",
   "metadata": {},
   "source": [
    "Train a Naïve Bayes model on the datset that appears as a table in the referenced URL."
   ]
  },
  {
   "cell_type": "markdown",
   "metadata": {},
   "source": [
    "The data is embedded in a table on the web page listed above. Rather than doing a simple copy paste, let's experiment with web scraping to extract the table directly."
   ]
  },
  {
   "cell_type": "code",
   "execution_count": 54,
   "metadata": {},
   "outputs": [
    {
     "data": {
      "text/html": [
       "<table>\n",
       "<thead><tr><th scope=col>X1</th><th scope=col>X2</th><th scope=col>X3</th><th scope=col>X4</th><th scope=col>X5</th><th scope=col>X6</th></tr></thead>\n",
       "<tbody>\n",
       "\t<tr><td>Day         </td><td>Outlook     </td><td>Temperature </td><td>Humidity    </td><td>Wind        </td><td>Play Tennis?</td></tr>\n",
       "\t<tr><td>1           </td><td>Sunny       </td><td>Hot         </td><td>High        </td><td>Weak        </td><td>No          </td></tr>\n",
       "\t<tr><td>2           </td><td>Sunny       </td><td>Hot         </td><td>High        </td><td>Strong      </td><td>No          </td></tr>\n",
       "\t<tr><td>3           </td><td>Overcast    </td><td>Hot         </td><td>High        </td><td>Weak        </td><td>Yes         </td></tr>\n",
       "\t<tr><td>4           </td><td>Rain        </td><td>Mild        </td><td>High        </td><td>Weak        </td><td>Yes         </td></tr>\n",
       "\t<tr><td>5           </td><td>Rain        </td><td>Cool        </td><td>Normal      </td><td>Weak        </td><td>Yes         </td></tr>\n",
       "</tbody>\n",
       "</table>\n"
      ],
      "text/latex": [
       "\\begin{tabular}{r|llllll}\n",
       " X1 & X2 & X3 & X4 & X5 & X6\\\\\n",
       "\\hline\n",
       "\t Day          & Outlook      & Temperature  & Humidity     & Wind         & Play Tennis?\\\\\n",
       "\t 1            & Sunny        & Hot          & High         & Weak         & No          \\\\\n",
       "\t 2            & Sunny        & Hot          & High         & Strong       & No          \\\\\n",
       "\t 3            & Overcast     & Hot          & High         & Weak         & Yes         \\\\\n",
       "\t 4            & Rain         & Mild         & High         & Weak         & Yes         \\\\\n",
       "\t 5            & Rain         & Cool         & Normal       & Weak         & Yes         \\\\\n",
       "\\end{tabular}\n"
      ],
      "text/markdown": [
       "\n",
       "X1 | X2 | X3 | X4 | X5 | X6 | \n",
       "|---|---|---|---|---|---|\n",
       "| Day          | Outlook      | Temperature  | Humidity     | Wind         | Play Tennis? | \n",
       "| 1            | Sunny        | Hot          | High         | Weak         | No           | \n",
       "| 2            | Sunny        | Hot          | High         | Strong       | No           | \n",
       "| 3            | Overcast     | Hot          | High         | Weak         | Yes          | \n",
       "| 4            | Rain         | Mild         | High         | Weak         | Yes          | \n",
       "| 5            | Rain         | Cool         | Normal       | Weak         | Yes          | \n",
       "\n",
       "\n"
      ],
      "text/plain": [
       "  X1  X2       X3          X4       X5     X6          \n",
       "1 Day Outlook  Temperature Humidity Wind   Play Tennis?\n",
       "2 1   Sunny    Hot         High     Weak   No          \n",
       "3 2   Sunny    Hot         High     Strong No          \n",
       "4 3   Overcast Hot         High     Weak   Yes         \n",
       "5 4   Rain     Mild        High     Weak   Yes         \n",
       "6 5   Rain     Cool        Normal   Weak   Yes         "
      ]
     },
     "metadata": {},
     "output_type": "display_data"
    }
   ],
   "source": [
    "# Load rvest package\n",
    "require(rvest)\n",
    "tennis_page <- 'https://computersciencesource.wordpress.com/2010/01/28/year-2-machine-learning-naive-bayes-classifier/'\n",
    "\n",
    "# Extract table from site\n",
    "table_data <- tennis_page %>% read_html() %>% \n",
    "  html_nodes(xpath = '//*[@id=\"content-left\"]/div[2]/div[1]/table[1]') %>% \n",
    "    html_table()\n",
    "# Grab data frame\n",
    "tennis_data <- table_data[[1]]\n",
    "# Inspect table\n",
    "head(tennis_data)"
   ]
  },
  {
   "cell_type": "markdown",
   "metadata": {},
   "source": [
    "This is almost what we want, except that the column headers are actually the first row of the data frame. Let's fix this and reinspect the table."
   ]
  },
  {
   "cell_type": "code",
   "execution_count": 55,
   "metadata": {},
   "outputs": [
    {
     "data": {
      "text/html": [
       "<table>\n",
       "<thead><tr><th scope=col>Outlook</th><th scope=col>Temperature</th><th scope=col>Humidity</th><th scope=col>Wind</th><th scope=col>Play</th></tr></thead>\n",
       "<tbody>\n",
       "\t<tr><td>Sunny   </td><td>Hot     </td><td>High    </td><td>Weak    </td><td>No      </td></tr>\n",
       "\t<tr><td>Sunny   </td><td>Hot     </td><td>High    </td><td>Strong  </td><td>No      </td></tr>\n",
       "\t<tr><td>Overcast</td><td>Hot     </td><td>High    </td><td>Weak    </td><td>Yes     </td></tr>\n",
       "\t<tr><td>Rain    </td><td>Mild    </td><td>High    </td><td>Weak    </td><td>Yes     </td></tr>\n",
       "\t<tr><td>Rain    </td><td>Cool    </td><td>Normal  </td><td>Weak    </td><td>Yes     </td></tr>\n",
       "\t<tr><td>Rain    </td><td>Cool    </td><td>Normal  </td><td>Strong  </td><td>No      </td></tr>\n",
       "\t<tr><td>Overcast</td><td>Cool    </td><td>Normal  </td><td>Strong  </td><td>Yes     </td></tr>\n",
       "\t<tr><td>Sunny   </td><td>Mild    </td><td>High    </td><td>Weak    </td><td>No      </td></tr>\n",
       "\t<tr><td>Sunny   </td><td>Cool    </td><td>Normal  </td><td>Weak    </td><td>Yes     </td></tr>\n",
       "\t<tr><td>Rain    </td><td>Mild    </td><td>Normal  </td><td>Weak    </td><td>Yes     </td></tr>\n",
       "\t<tr><td>Sunny   </td><td>Mild    </td><td>Normal  </td><td>Strong  </td><td>Yes     </td></tr>\n",
       "\t<tr><td>Overcast</td><td>Mild    </td><td>High    </td><td>Strong  </td><td>Yes     </td></tr>\n",
       "\t<tr><td>Overcast</td><td>Hot     </td><td>Normal  </td><td>Weak    </td><td>Yes     </td></tr>\n",
       "\t<tr><td>Rain    </td><td>Mild    </td><td>High    </td><td>Strong  </td><td>No      </td></tr>\n",
       "</tbody>\n",
       "</table>\n"
      ],
      "text/latex": [
       "\\begin{tabular}{r|lllll}\n",
       " Outlook & Temperature & Humidity & Wind & Play\\\\\n",
       "\\hline\n",
       "\t Sunny    & Hot      & High     & Weak     & No      \\\\\n",
       "\t Sunny    & Hot      & High     & Strong   & No      \\\\\n",
       "\t Overcast & Hot      & High     & Weak     & Yes     \\\\\n",
       "\t Rain     & Mild     & High     & Weak     & Yes     \\\\\n",
       "\t Rain     & Cool     & Normal   & Weak     & Yes     \\\\\n",
       "\t Rain     & Cool     & Normal   & Strong   & No      \\\\\n",
       "\t Overcast & Cool     & Normal   & Strong   & Yes     \\\\\n",
       "\t Sunny    & Mild     & High     & Weak     & No      \\\\\n",
       "\t Sunny    & Cool     & Normal   & Weak     & Yes     \\\\\n",
       "\t Rain     & Mild     & Normal   & Weak     & Yes     \\\\\n",
       "\t Sunny    & Mild     & Normal   & Strong   & Yes     \\\\\n",
       "\t Overcast & Mild     & High     & Strong   & Yes     \\\\\n",
       "\t Overcast & Hot      & Normal   & Weak     & Yes     \\\\\n",
       "\t Rain     & Mild     & High     & Strong   & No      \\\\\n",
       "\\end{tabular}\n"
      ],
      "text/markdown": [
       "\n",
       "Outlook | Temperature | Humidity | Wind | Play | \n",
       "|---|---|---|---|---|---|---|---|---|---|---|---|---|---|\n",
       "| Sunny    | Hot      | High     | Weak     | No       | \n",
       "| Sunny    | Hot      | High     | Strong   | No       | \n",
       "| Overcast | Hot      | High     | Weak     | Yes      | \n",
       "| Rain     | Mild     | High     | Weak     | Yes      | \n",
       "| Rain     | Cool     | Normal   | Weak     | Yes      | \n",
       "| Rain     | Cool     | Normal   | Strong   | No       | \n",
       "| Overcast | Cool     | Normal   | Strong   | Yes      | \n",
       "| Sunny    | Mild     | High     | Weak     | No       | \n",
       "| Sunny    | Cool     | Normal   | Weak     | Yes      | \n",
       "| Rain     | Mild     | Normal   | Weak     | Yes      | \n",
       "| Sunny    | Mild     | Normal   | Strong   | Yes      | \n",
       "| Overcast | Mild     | High     | Strong   | Yes      | \n",
       "| Overcast | Hot      | Normal   | Weak     | Yes      | \n",
       "| Rain     | Mild     | High     | Strong   | No       | \n",
       "\n",
       "\n"
      ],
      "text/plain": [
       "   Outlook  Temperature Humidity Wind   Play\n",
       "1  Sunny    Hot         High     Weak   No  \n",
       "2  Sunny    Hot         High     Strong No  \n",
       "3  Overcast Hot         High     Weak   Yes \n",
       "4  Rain     Mild        High     Weak   Yes \n",
       "5  Rain     Cool        Normal   Weak   Yes \n",
       "6  Rain     Cool        Normal   Strong No  \n",
       "7  Overcast Cool        Normal   Strong Yes \n",
       "8  Sunny    Mild        High     Weak   No  \n",
       "9  Sunny    Cool        Normal   Weak   Yes \n",
       "10 Rain     Mild        Normal   Weak   Yes \n",
       "11 Sunny    Mild        Normal   Strong Yes \n",
       "12 Overcast Mild        High     Strong Yes \n",
       "13 Overcast Hot         Normal   Weak   Yes \n",
       "14 Rain     Mild        High     Strong No  "
      ]
     },
     "metadata": {},
     "output_type": "display_data"
    }
   ],
   "source": [
    "library(dplyr)\n",
    "# Extract first row for column names\n",
    "col.names <- unlist(tennis_data[1,])\n",
    "# Change last column (response) to 'Play'\n",
    "col.names[length(col.names)] <- 'Play'\n",
    "# Rename columns\n",
    "names(tennis_data) <- col.names\n",
    "# Remove first row and renumber rows\n",
    "tennis_data <- tennis_data[-1, ]\n",
    "row.names(tennis_data) <- as.numeric(tennis_data$Day)\n",
    "# Finally, remove 'Day' feature\n",
    "tennis_data <- tennis_data %>% select(-Day)\n",
    "# Convert to factors\n",
    "tennis_data[, ] <- lapply(tennis_data[, ], as.factor)\n",
    "tennis_data"
   ]
  },
  {
   "cell_type": "markdown",
   "metadata": {},
   "source": [
    "This looks much better, and now we're ready to train a Naive Bayes model. We'll use the 'e1071' package to build our model."
   ]
  },
  {
   "cell_type": "code",
   "execution_count": 56,
   "metadata": {},
   "outputs": [
    {
     "name": "stdout",
     "output_type": "stream",
     "text": [
      "\n",
      "Naive Bayes Classifier for Discrete Predictors\n",
      "\n",
      "Call:\n",
      "naiveBayes.default(x = X, y = Y, laplace = laplace)\n",
      "\n",
      "A-priori probabilities:\n",
      "Y\n",
      "       No       Yes \n",
      "0.3571429 0.6428571 \n",
      "\n",
      "Conditional probabilities:\n",
      "     Outlook\n",
      "Y      Overcast      Rain     Sunny\n",
      "  No  0.0000000 0.4000000 0.6000000\n",
      "  Yes 0.4444444 0.3333333 0.2222222\n",
      "\n",
      "     Temperature\n",
      "Y          Cool       Hot      Mild\n",
      "  No  0.2000000 0.4000000 0.4000000\n",
      "  Yes 0.3333333 0.2222222 0.4444444\n",
      "\n",
      "     Humidity\n",
      "Y          High    Normal\n",
      "  No  0.8000000 0.2000000\n",
      "  Yes 0.3333333 0.6666667\n",
      "\n",
      "     Wind\n",
      "Y        Strong      Weak\n",
      "  No  0.6000000 0.4000000\n",
      "  Yes 0.3333333 0.6666667\n",
      "\n"
     ]
    }
   ],
   "source": [
    "require(e1071)\n",
    "tennis.nb <- naiveBayes(Play ~ ., data = tennis_data)\n",
    "print(tennis.nb)"
   ]
  },
  {
   "cell_type": "markdown",
   "metadata": {},
   "source": [
    "Note that all conditional probabilities sum to 1 (across columns), which is expected. Also note that the naive assumption in a Naive Bayes model is rarely valid, as it is assumed that all of the features are conditionally independent of one another given the value of the response (in this case, whether tennis was played or not). In reality, since we're dealing with weather, this assumption isn't strictly valid. For example, if the temperature is 'Hot', you are more likely to observe an outlook of 'Sunny' than 'Rainy'. Similarly, if the temperature is 'Cool', you are more likely to observe a humidity of 'Normal' than 'High'. Despite these violations, Naive Bayes models can still provide meaningful results.\n",
    "\n",
    "Let's see how the model does on predicting the training data."
   ]
  },
  {
   "cell_type": "code",
   "execution_count": 57,
   "metadata": {},
   "outputs": [
    {
     "data": {
      "text/plain": [
       "Confusion Matrix and Statistics\n",
       "\n",
       "          Reference\n",
       "Prediction No Yes\n",
       "       No   4   0\n",
       "       Yes  1   9\n",
       "                                          \n",
       "               Accuracy : 0.9286          \n",
       "                 95% CI : (0.6613, 0.9982)\n",
       "    No Information Rate : 0.6429          \n",
       "    P-Value [Acc > NIR] : 0.01807         \n",
       "                                          \n",
       "                  Kappa : 0.8372          \n",
       " Mcnemar's Test P-Value : 1.00000         \n",
       "                                          \n",
       "            Sensitivity : 1.0000          \n",
       "            Specificity : 0.8000          \n",
       "         Pos Pred Value : 0.9000          \n",
       "         Neg Pred Value : 1.0000          \n",
       "             Prevalence : 0.6429          \n",
       "         Detection Rate : 0.6429          \n",
       "   Detection Prevalence : 0.7143          \n",
       "      Balanced Accuracy : 0.9000          \n",
       "                                          \n",
       "       'Positive' Class : Yes             \n",
       "                                          "
      ]
     },
     "metadata": {},
     "output_type": "display_data"
    }
   ],
   "source": [
    "require(caret)\n",
    "tennis.preds <- predict(tennis.nb, newdata = tennis_data, type = 'class')\n",
    "confusionMatrix(tennis.preds,tennis_data$Play,positive = 'Yes')"
   ]
  },
  {
   "cell_type": "markdown",
   "metadata": {},
   "source": [
    "Overall, the model does a good job of predicting the training data, which it should. The accuracy is ~93%, and the true positive and false positive rates are 100% and 20%, respectively. Only one training observation was incorrectly classified.\n",
    "\n",
    "As one last check, let's create a few new observations and predict whether a match will be played."
   ]
  },
  {
   "cell_type": "code",
   "execution_count": 58,
   "metadata": {},
   "outputs": [
    {
     "name": "stdout",
     "output_type": "stream",
     "text": [
      "Test cases:"
     ]
    },
    {
     "data": {
      "text/html": [
       "<table>\n",
       "<thead><tr><th scope=col>Outlook</th><th scope=col>Temperature</th><th scope=col>Humidity</th><th scope=col>Wind</th><th scope=col>No</th><th scope=col>Yes</th></tr></thead>\n",
       "<tbody>\n",
       "\t<tr><td>Sunny    </td><td>Mild     </td><td>Normal   </td><td>Weak     </td><td>0.1954948</td><td>0.8045052</td></tr>\n",
       "\t<tr><td>Sunny    </td><td>Hot      </td><td>High     </td><td>Weak     </td><td>0.7954173</td><td>0.2045827</td></tr>\n",
       "\t<tr><td>Rain     </td><td>Cool     </td><td>Normal   </td><td>Strong   </td><td>0.1776316</td><td>0.8223684</td></tr>\n",
       "</tbody>\n",
       "</table>\n"
      ],
      "text/latex": [
       "\\begin{tabular}{r|llllll}\n",
       " Outlook & Temperature & Humidity & Wind & No & Yes\\\\\n",
       "\\hline\n",
       "\t Sunny     & Mild      & Normal    & Weak      & 0.1954948 & 0.8045052\\\\\n",
       "\t Sunny     & Hot       & High      & Weak      & 0.7954173 & 0.2045827\\\\\n",
       "\t Rain      & Cool      & Normal    & Strong    & 0.1776316 & 0.8223684\\\\\n",
       "\\end{tabular}\n"
      ],
      "text/markdown": [
       "\n",
       "Outlook | Temperature | Humidity | Wind | No | Yes | \n",
       "|---|---|---|\n",
       "| Sunny     | Mild      | Normal    | Weak      | 0.1954948 | 0.8045052 | \n",
       "| Sunny     | Hot       | High      | Weak      | 0.7954173 | 0.2045827 | \n",
       "| Rain      | Cool      | Normal    | Strong    | 0.1776316 | 0.8223684 | \n",
       "\n",
       "\n"
      ],
      "text/plain": [
       "  Outlook Temperature Humidity Wind   No        Yes      \n",
       "1 Sunny   Mild        Normal   Weak   0.1954948 0.8045052\n",
       "2 Sunny   Hot         High     Weak   0.7954173 0.2045827\n",
       "3 Rain    Cool        Normal   Strong 0.1776316 0.8223684"
      ]
     },
     "metadata": {},
     "output_type": "display_data"
    }
   ],
   "source": [
    "# Create observations for three different days, one nice and two not-so-nice\n",
    "test.outlook <- factor(c('Sunny','Sunny','Rain'),\n",
    "                        levels = levels(tennis_data$Outlook))\n",
    "test.temperature <- factor(c('Mild','Hot','Cool'),\n",
    "                        levels = levels(tennis_data$Temperature))\n",
    "test.humidity <- factor(c('Normal','High','Normal'),\n",
    "                        levels = levels(tennis_data$Humidity))\n",
    "test.wind <- factor(c('Weak','Weak','Strong'),\n",
    "                        levels = levels(tennis_data$Wind))\n",
    "# Create a new data frame\n",
    "test.data <- data.frame(Outlook = test.outlook, \n",
    "                        Temperature = test.temperature,\n",
    "                        Humidity = test.humidity, \n",
    "                        Wind = test.wind)\n",
    "cat('Test cases:')\n",
    "predict.test <- predict(tennis.nb, newdata = test.data, type = 'raw')\n",
    "cbind(test.data,predict.test)"
   ]
  },
  {
   "cell_type": "markdown",
   "metadata": {},
   "source": [
    "The first two results are intuitive, namely that tennis would be played on a sunny, mild day with low humidity and low wind, and that tennis wouldn't be played on a sunny, hot day with high humidity. The third result, on the \n",
    "other hand, is less intuitive. It seems that a cool, rainy day with high winds would be a bad day for tennis, however the model says we should play. \n",
    "\n",
    "Recall that there was one observation in the training data that was incorrectly classified when it was run through the model. Let's take a closer look:"
   ]
  },
  {
   "cell_type": "code",
   "execution_count": 59,
   "metadata": {},
   "outputs": [
    {
     "data": {
      "text/html": [
       "<table>\n",
       "<thead><tr><th></th><th scope=col>Outlook</th><th scope=col>Temperature</th><th scope=col>Humidity</th><th scope=col>Wind</th><th scope=col>Play</th></tr></thead>\n",
       "<tbody>\n",
       "\t<tr><th scope=row>6</th><td>Rain  </td><td>Cool  </td><td>Normal</td><td>Strong</td><td>No    </td></tr>\n",
       "</tbody>\n",
       "</table>\n"
      ],
      "text/latex": [
       "\\begin{tabular}{r|lllll}\n",
       "  & Outlook & Temperature & Humidity & Wind & Play\\\\\n",
       "\\hline\n",
       "\t6 & Rain   & Cool   & Normal & Strong & No    \\\\\n",
       "\\end{tabular}\n"
      ],
      "text/markdown": [
       "\n",
       "| <!--/--> | Outlook | Temperature | Humidity | Wind | Play | \n",
       "|---|\n",
       "| 6 | Rain   | Cool   | Normal | Strong | No     | \n",
       "\n",
       "\n"
      ],
      "text/plain": [
       "  Outlook Temperature Humidity Wind   Play\n",
       "6 Rain    Cool        Normal   Strong No  "
      ]
     },
     "metadata": {},
     "output_type": "display_data"
    }
   ],
   "source": [
    "# Find all observations that were misclassified\n",
    "idx <- which(tennis.preds != tennis_data$Play)\n",
    "tennis_data[idx, ]"
   ]
  },
  {
   "cell_type": "markdown",
   "metadata": {},
   "source": [
    "This is in fact the same test observation we created to simulate a not so nice day. In the training data, tennis was not played on this day, which makes sense, but the model predicted that it would. In this case, perhaps Naive Bayes is not the best approach, or we may be suffering from a lack of training data (there were only 14 observations)."
   ]
  },
  {
   "cell_type": "markdown",
   "metadata": {},
   "source": [
    "##  Bayesian Nets"
   ]
  },
  {
   "cell_type": "markdown",
   "metadata": {},
   "source": [
    "Shingles is a possible cause of nerve damage and is also an explanation for increased blood pressure. In turn, either of these could cause a stroke. Severe headaches could also be explained by nerve damage.\n",
    "\n",
    "a: shingles\n",
    "b: increased blood pressure\n",
    "c: nerve damage\n",
    "d: stroke\n",
    "e: severe headaches\n",
    "\n",
    "Create a Bayesian net that captures these relationships."
   ]
  },
  {
   "cell_type": "markdown",
   "metadata": {
    "collapsed": true
   },
   "source": [
    "Use these probabilities:  P(a)=0.2,P(b|a)=0.75,P(b|¬a) = 0.25,P(c|a)=0.2,Pr(c|¬a)=0.05, P(e|c)=0.8,Pr(e|¬c)=0.6, P (d|b∧c)=0.8,P(d|b∧ ¬c)=0.8,P(d|¬b ∧ c)=0.8,P(d|¬b ∧ ¬c)=0.05"
   ]
  },
  {
   "cell_type": "markdown",
   "metadata": {},
   "source": [
    "Train this dataset. Predict value of ) P(shingles|¬severe headaches)"
   ]
  },
  {
   "cell_type": "code",
   "execution_count": 60,
   "metadata": {},
   "outputs": [
    {
     "data": {
      "text/plain": [
       "\n",
       "  Bayesian network parameters\n",
       "\n",
       "  Parameters of node A (multinomial distribution)\n",
       "\n",
       "Conditional probability table:\n",
       " \n",
       "Yes  No \n",
       "0.2 0.8 \n",
       "\n",
       "  Parameters of node B (multinomial distribution)\n",
       "\n",
       "Conditional probability table:\n",
       " \n",
       "     A\n",
       "B      Yes   No\n",
       "  Yes 0.75 0.25\n",
       "  No  0.25 0.75\n",
       "\n",
       "  Parameters of node C (multinomial distribution)\n",
       "\n",
       "Conditional probability table:\n",
       " \n",
       "     A\n",
       "C      Yes   No\n",
       "  Yes 0.20 0.05\n",
       "  No  0.80 0.95\n",
       "\n",
       "  Parameters of node D (multinomial distribution)\n",
       "\n",
       "Conditional probability table:\n",
       " \n",
       ", , C = Yes\n",
       "\n",
       "     B\n",
       "D      Yes   No\n",
       "  Yes 0.80 0.80\n",
       "  No  0.20 0.20\n",
       "\n",
       ", , C = No\n",
       "\n",
       "     B\n",
       "D      Yes   No\n",
       "  Yes 0.80 0.05\n",
       "  No  0.20 0.95\n",
       "\n",
       "\n",
       "  Parameters of node E (multinomial distribution)\n",
       "\n",
       "Conditional probability table:\n",
       " \n",
       "     C\n",
       "E     Yes  No\n",
       "  Yes 0.8 0.6\n",
       "  No  0.2 0.4\n"
      ]
     },
     "metadata": {},
     "output_type": "display_data"
    }
   ],
   "source": [
    "require(bnlearn)\n",
    "# Structure is as follows:\n",
    "# A - Parent\n",
    "# B & C - Children of A\n",
    "# D - Child of B and C\n",
    "# E - Child of C\n",
    "# Network model\n",
    "net <-  model2network(\"[A][B|A][C|A][D|B:C][E|C]\")\n",
    "# Define conditional probabilities for the nodes\n",
    "YN <- c('Yes','No')\n",
    "# Shingles\n",
    "# Entires of the matrix are read as P(A) and P(-A)\n",
    "cptA <- matrix(c(0.2,0.8), ncol = 2, dimnames = list(NULL,YN))\n",
    "# Blood Pressure\n",
    "# First column corresponds to B conditioned on A = Yes\n",
    "# Second column corresponds to B conditioned on A = No\n",
    "# Columns must always sum to 1!\n",
    "cptB <- matrix(c(0.75, 0.25, 0.25, 0.75), ncol = 2, \n",
    "               dimnames = list('B' = YN, 'A' = YN))\n",
    "# Nerve Damage\n",
    "cptC <- matrix(c(0.2, 0.8, 0.05, 0.95), ncol = 2,\n",
    "               dimnames = list('C' = YN, 'A' = YN))\n",
    "# Severe Headaches\n",
    "cptE <- matrix(c(0.8, 0.2, 0.6, 0.4), ncol = 2,\n",
    "               dimnames = list('E' = YN, 'C' = YN))\n",
    "# Stroke\n",
    "# D depends on B and C, so we create a 3-D matrix here with 'slices' for C\n",
    "# Could also have done this with slices for B\n",
    "cptD <- c(0.8, 0.2, 0.8, 0.2, 0.8, 0.2, 0.05, 0.95)\n",
    "dim(cptD) <- c(2,2,2)\n",
    "dimnames(cptD) <- list('D' = YN, 'B' = YN, 'C' = YN)\n",
    "\n",
    "# Create bn.fit model using the custom tables\n",
    "shingles.net <- custom.fit(net, dist = list(A = cptA, B = cptB, C = cptC,\n",
    "                                            D = cptD, E = cptE))\n",
    "# View the model\n",
    "shingles.net"
   ]
  },
  {
   "cell_type": "markdown",
   "metadata": {},
   "source": [
    "The conditional probability tables above represent the Bayesian network form of the probabilities specified at the beginning of the problem.\n",
    "\n",
    "Before making the requested prediction, let's test the model using some known probabilities."
   ]
  },
  {
   "cell_type": "code",
   "execution_count": 61,
   "metadata": {},
   "outputs": [
    {
     "data": {
      "text/html": [
       "<table>\n",
       "<thead><tr><th scope=col>case</th><th scope=col>predicted</th><th scope=col>actual</th><th scope=col>delta</th></tr></thead>\n",
       "<tbody>\n",
       "\t<tr><td>P(A)       </td><td>0.2050000  </td><td>0.20       </td><td>0.005000000</td></tr>\n",
       "\t<tr><td>P(B|-A)    </td><td>0.2512500  </td><td>0.25       </td><td>0.001250000</td></tr>\n",
       "\t<tr><td>P(D|-B^-C) </td><td>0.0530303  </td><td>0.05       </td><td>0.003030303</td></tr>\n",
       "</tbody>\n",
       "</table>\n"
      ],
      "text/latex": [
       "\\begin{tabular}{r|llll}\n",
       " case & predicted & actual & delta\\\\\n",
       "\\hline\n",
       "\t P(A)        & 0.2050000   & 0.20        & 0.005000000\\\\\n",
       "\t P(B\\textbar{}-A)    & 0.2512500            & 0.25                 & 0.001250000         \\\\\n",
       "\t P(D\\textbar{}-B\\textasciicircum{}-C) & 0.0530303                              & 0.05                                   & 0.003030303                           \\\\\n",
       "\\end{tabular}\n"
      ],
      "text/markdown": [
       "\n",
       "case | predicted | actual | delta | \n",
       "|---|---|---|\n",
       "| P(A)        | 0.2050000   | 0.20        | 0.005000000 | \n",
       "| P(B|-A)     | 0.2512500   | 0.25        | 0.001250000 | \n",
       "| P(D|-B^-C)  | 0.0530303   | 0.05        | 0.003030303 | \n",
       "\n",
       "\n"
      ],
      "text/plain": [
       "  case       predicted actual delta      \n",
       "1 P(A)       0.2050000 0.20   0.005000000\n",
       "2 P(B|-A)    0.2512500 0.25   0.001250000\n",
       "3 P(D|-B^-C) 0.0530303 0.05   0.003030303"
      ]
     },
     "metadata": {},
     "output_type": "display_data"
    }
   ],
   "source": [
    "# Start with conditional probabilities from training\n",
    "case <- c('P(A)','P(B|-A)','P(D|-B^-C)')\n",
    "predicted <- vector(length = 3)\n",
    "# P(A), should return 0.2\n",
    "predicted[1] <- cpquery(shingles.net, (A == 'Yes'), TRUE)\n",
    "# P(B|-A), should return 0.25\n",
    "predicted[2] <- cpquery(shingles.net, (B == 'Yes'), (A == 'No'))\n",
    "# P(D|-B ^ -C), should return 0.05\n",
    "predicted[3] <- cpquery(shingles.net, (D == 'Yes'), \n",
    "                                       (B == 'No' & C == 'No'))\n",
    "actual <- c(0.2, 0.25, 0.05)\n",
    "delta = abs(predicted - actual)\n",
    "unit.test = data.frame(case = case,\n",
    "                       predicted = predicted, \n",
    "                       actual = actual, \n",
    "                       delta = delta)\n",
    "unit.test"
   ]
  },
  {
   "cell_type": "markdown",
   "metadata": {},
   "source": [
    "The model seems to be accurately representing the underlying probabilities used to build the network. Let's go ahead and predict the requested probability of the event of having shingles, given the absense of severe headaches."
   ]
  },
  {
   "cell_type": "code",
   "execution_count": 62,
   "metadata": {},
   "outputs": [
    {
     "name": "stdout",
     "output_type": "stream",
     "text": [
      "The probability of having shingles given that \n",
      "severe headaches are NOT present is:"
     ]
    },
    {
     "data": {
      "text/html": [
       "0.170326727370112"
      ],
      "text/latex": [
       "0.170326727370112"
      ],
      "text/markdown": [
       "0.170326727370112"
      ],
      "text/plain": [
       "[1] 0.1703267"
      ]
     },
     "metadata": {},
     "output_type": "display_data"
    }
   ],
   "source": [
    "# Predict P(A|-E)\n",
    "cat('The probability of having shingles given that \n",
    "severe headaches are NOT present is:')\n",
    "cpquery(shingles.net, (A == 'Yes'), (E == 'No'))"
   ]
  },
  {
   "cell_type": "markdown",
   "metadata": {},
   "source": [
    "There is just under a 20% that a patient has shingles, given that they are not presenting with severe headache."
   ]
  }
 ],
 "metadata": {
  "kernelspec": {
   "display_name": "R",
   "language": "R",
   "name": "ir"
  },
  "language_info": {
   "codemirror_mode": "r",
   "file_extension": ".r",
   "mimetype": "text/x-r-source",
   "name": "R",
   "pygments_lexer": "r",
   "version": "3.4.3"
  }
 },
 "nbformat": 4,
 "nbformat_minor": 2
}
