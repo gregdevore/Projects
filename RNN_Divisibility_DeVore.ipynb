{
 "cells": [
  {
   "cell_type": "markdown",
   "metadata": {
    "nbgrader": {
     "grade": false,
     "locked": true,
     "solution": false
    }
   },
   "source": [
    "# Lesson 5b: Recurrent Neural Networks: Categorization"
   ]
  },
  {
   "cell_type": "markdown",
   "metadata": {
    "nbgrader": {
     "grade": false,
     "locked": true,
     "solution": false
    }
   },
   "source": [
    "Recurrent Neural Networks (RNNs) can be used in many different ways, such as classification, single-step prediction, and the generation of an entire sequence. \n",
    "\n",
    "* **Classification**: the input is a sequence, and the output is a single category - this is the focus of this assignment. (Alternatively, a sequence of categories could be generated, one for each partial sequence as it is processed).\n",
    "\n",
    "* **Prediction**: the input is a sequence, and the output is a prediction for the next element in the sequence. You will explore this in lesson 5b.\n",
    "\n",
    "* **Sequence Generation** (Seq-to-Seq): both the input and the output are entire sequences. For example, RNN-based language translation may take in an input sequence (of characters or word tokens) in English, and generate as output a sequence (of characters or word tokens) in French.\n",
    "\n",
    "RNNs can be used to process inputs that occur naturally in time (such as an audio recording of speech or music represented as a stream of timestamped MIDI messages), but they can also be applied to material that has an order to it, even if it's not necessarly temporal in natures, such as written text (which can be read one character or one word at a time) or even written numbers or math equations (which can be read one digit or symbol at a time, from left to right, for instance.)  This is the problem we investigate today: looking at numbers such as \"1423\" as a sequence of digits ['1', '4', '2', '3'].\n",
    "\n",
    "Our problem comes curtosy of Distinguished Professor Douglas R. Hofstadter of Indiana University, author of books such as _Gödel, Escher, Bach: an Eternal Golden Braid_. Hofstadter writes [private communication, shared with permission)]:\n",
    "\n",
    "---\n",
    "\n",
    "_Lately, I have been musing about the seeming power of deep neural nets.  They learn to recognize members of all sorts of categories, when those members (and non-members) are fed to them as patterns of symbols or of pixels.  So, how about the following challenges involving the natural numbers?_\n",
    "\n",
    "* To recognize the even numbers, expressed in base 3.\n",
    "     (Specifically, 0, 2, 11, 20, 22, 101, 110, 112,...)\n",
    "* To recognize the multiples of 3, expressed in base 10.\n",
    "* To recognize the multiples of 9, expressed in base 10.\n",
    "* To recognize the multiples of 7, expressed in base 10.\n",
    "* To recognize the multiples of 29, expressed in base 10.\n",
    "\n",
    "_(I suppose that if a net can learn any particular one of the above list, it can learn all of them.  Just a guess...)_\n",
    "\n",
    " _Moving right along, how about the following somewhat harder challenges?_\n",
    "\n",
    "* To recognize the correct integer additions, expressed either in base 2 or in base 10.  (For example, the string “12+29=41”.)\n",
    "* To recognize the correct integer multiplications, expressed either in base 2 or in base 10.  (For example, the string “12x29=348”.)\n",
    "\n",
    "_(The latter of this pair seems significantly harder than the former.)_\n",
    "     \n",
    "_And then, of course, the canonical challenge of this sort:_\n",
    "\n",
    "* To recognize the prime numbers, expressed either in base 2 or in base 10.\n",
    "\n",
    "_Each of the above challenges involves a number-theoretical category that can easily be described in purely syntactic terms (i.e., as a rule-based pattern of symbols).  It would be trivial to generate millions of examples of such categories mechanically, and then you just feed them to the neural net.  You can also feed the network lots of counterexamples -- marking them, of course, as non-members of the category.  Can a deep neural network learn any of these categories?  All of them?  Some of them?_\n",
    "\n",
    "---\n",
    "\n",
    "In this assignment, you will use an RNN to try to solve the divisibility-by-3 problem (the rest are challenges you might want to try in your free time!): \n",
    "\n",
    "* **\"To recognize the multiples of 3, expressed in base 10.\"**  Specifically, you must:\n",
    "    * Design an RNN that takes a sequence of digits as input. \n",
    "    * Represent digits in base 10 by using a categorical, one-hot encoding, with one node for each digit from 0 through 9.\n",
    "    * Train the RNN to categorize a number as True if it is evenly divisible by 3, False otherwise.\n",
    "    * Test the RNN on a set of previously-unseen numbers, including numbers that are 4 digits long, such as 2225 and 3333.\n",
    "    * Acheive an accuracy of at least 95% on the test set (report the accuracy in the cell marked below).\n",
    "    * Answer the questions at the end of this notebook.\n",
    "\n",
    "\n"
   ]
  },
  {
   "cell_type": "markdown",
   "metadata": {
    "nbgrader": {
     "grade": false,
     "locked": true,
     "solution": false
    }
   },
   "source": [
    "# Setup\n",
    "## Imports"
   ]
  },
  {
   "cell_type": "code",
   "execution_count": 1,
   "metadata": {
    "collapsed": true
   },
   "outputs": [],
   "source": [
    "import os\n",
    "os.environ['CUDA_VISIBLE_DEVICES'] = '-1'"
   ]
  },
  {
   "cell_type": "code",
   "execution_count": 2,
   "metadata": {},
   "outputs": [
    {
     "name": "stderr",
     "output_type": "stream",
     "text": [
      "/usr/local/lib/python3.5/dist-packages/h5py/__init__.py:36: FutureWarning: Conversion of the second argument of issubdtype from `float` to `np.floating` is deprecated. In future, it will be treated as `np.float64 == np.dtype(float).type`.\n",
      "  from ._conv import register_converters as _register_converters\n",
      "Using TensorFlow backend.\n"
     ]
    }
   ],
   "source": [
    "%matplotlib inline\n",
    "from keras.models import Model, Sequential, load_model\n",
    "from keras.layers import Input, GRU, LSTM, Dense, Masking, Dropout\n",
    "from keras.optimizers import Adam, RMSprop, SGD\n",
    "from keras.preprocessing.sequence import pad_sequences\n",
    "from keras.regularizers import l1_l2\n",
    "from keras.utils import to_categorical\n",
    "import math\n",
    "import numpy as np\n",
    "import matplotlib.pyplot as plt\n",
    "from sklearn.model_selection import train_test_split"
   ]
  },
  {
   "cell_type": "markdown",
   "metadata": {
    "nbgrader": {
     "grade": false,
     "locked": true,
     "solution": false
    }
   },
   "source": [
    "## Constants"
   ]
  },
  {
   "cell_type": "code",
   "execution_count": 3,
   "metadata": {
    "collapsed": true
   },
   "outputs": [],
   "source": [
    "#Set up params for dataset.\n",
    "DIVISIBILITY_NUMBER = 3         # We want to test for divisilibity by 3.\n",
    "TRAIN_TEST_SPLIT = 0.7          # Percentage of data in training set\n",
    "NUM_EXAMPLES_PER_CLASS = 1000      # Generate the first 1000 multiples of 3 for training/testing\n",
    "                                # Also generate 1000 non-multiples of 3.\n",
    "NUM_CATEGORIES = 10             # 10 digits\n",
    "MAX_DIGITS = 5                  # Number of digits allowed in input strings\n",
    "\n",
    "# Neural net hyperparameters-- just an example. Adjust these as needed.\n",
    "BATCH_SIZE = 8\n",
    "NUM_LSTM_NODES = 32             \n",
    "DROPOUT = 0.0\n",
    "LEARNING_RATE = 0.001\n",
    "NUM_EPOCHS = 20\n",
    "\n",
    "# TODO: add/modify constants as needed\n"
   ]
  },
  {
   "cell_type": "markdown",
   "metadata": {
    "nbgrader": {
     "grade": false,
     "locked": true,
     "solution": false
    }
   },
   "source": [
    "## Helper functions to generate the dataset of training/testing examples"
   ]
  },
  {
   "cell_type": "code",
   "execution_count": 4,
   "metadata": {
    "collapsed": true
   },
   "outputs": [],
   "source": [
    "def generate_example_numbers(base_number=DIVISIBILITY_NUMBER, num_examples_per_class=NUM_EXAMPLES_PER_CLASS):\n",
    "    \"\"\"Return a tuple of two lists: (list_of_multiples, list_of_nonmultiples).\n",
    "    \n",
    "    For example, ([0, 3, 6, 9, 12, ...2997], [1, 4, 5, 8, 11, 13, 14,...,2999]).\n",
    "    Each list contains num_examples_per_class elements.\n",
    "    \"\"\"\n",
    "    # Create array of numbers from 0 to num_examples_per_class-1 and multiply by base_number to create multiples\n",
    "    multiples = np.array(range(num_examples_per_class))*base_number\n",
    "    # Add one to each number to create non_multiples\n",
    "    non_multiples = multiples+1\n",
    "\n",
    "    # Convert from numpy array back to list for export\n",
    "    multiples = list(multiples)\n",
    "    non_multiples = list(non_multiples)\n",
    "\n",
    "    return (multiples, non_multiples)"
   ]
  },
  {
   "cell_type": "code",
   "execution_count": 5,
   "metadata": {
    "collapsed": true
   },
   "outputs": [],
   "source": [
    "def generate_labels(size_multiples, size_non_multiples):\n",
    "    \"\"\"Return two list of labels one for the True case (multiples) and one for the False case (nonmultiples).\n",
    "    \n",
    "    Represent True as 1, False as 0.\n",
    "    For example, return ([1, 1, 1, 1.....], [0, 0, 0, 0, ....]) with each list the requested size.\n",
    "    \"\"\"\n",
    "    \n",
    "    true_labels = list(np.ones(size_multiples))\n",
    "    false_labels = list(np.zeros(size_non_multiples))\n",
    "    \n",
    "    return (true_labels, false_labels)"
   ]
  },
  {
   "cell_type": "code",
   "execution_count": 6,
   "metadata": {
    "collapsed": true
   },
   "outputs": [],
   "source": [
    "def digit_to_vector(digit):\n",
    "    \"\"\"Given a digit from 0-9, return a numpy array representing the digit using a 1-hot encoding.\n",
    "    keras.utils.to_categorical may be useful.\n",
    "    \"\"\"\n",
    "    return to_categorical(digit,NUM_CATEGORIES)"
   ]
  },
  {
   "cell_type": "markdown",
   "metadata": {},
   "source": [
    "Let's make sure the digit_to_vector function works as intended:"
   ]
  },
  {
   "cell_type": "code",
   "execution_count": 7,
   "metadata": {},
   "outputs": [
    {
     "name": "stdout",
     "output_type": "stream",
     "text": [
      "[0. 0. 0. 0. 0. 1. 0. 0. 0. 0.]\n"
     ]
    }
   ],
   "source": [
    "print(digit_to_vector(5))"
   ]
  },
  {
   "cell_type": "code",
   "execution_count": 8,
   "metadata": {
    "collapsed": true
   },
   "outputs": [],
   "source": [
    "def number_to_input_example(number, max_digits=MAX_DIGITS):\n",
    "    \"\"\"Given an integer number, return a numpy float array of 0.0s and 1.0s, of the correct shape to feed into the \n",
    "    neural net.\n",
    "    \n",
    "    For example, if you have a max of 5 digits then you should have a 2D numpy matrix: 5 rows (one for each\n",
    "    sequence index), and 10 columns (1 for each digit).\n",
    "    \n",
    "    In order to train in \"batch\" mode, the RNN expects every example to have the same shape. So if you have a 2-digit\n",
    "    number such as \"42\", you need to pad the example with a \"padding\" token somehow; for example, \"???42\", and then\n",
    "    use keras.layers.Masking to ignore the leading digits. Or just pad with 0s, as in \"00042\". \n",
    "    keras.preprocessing.sequence.pad_sequences can help with this.\n",
    "    \"\"\"\n",
    "    \n",
    "    # Create 2D output array\n",
    "    output = np.zeros((max_digits,NUM_CATEGORIES))\n",
    "    # Set first column to represent zeros (fill with ones)\n",
    "    output[:,0] = 1\n",
    "    # Because of variable size, fill last row first\n",
    "    # Process number from right to left\n",
    "    k = 1\n",
    "    while number > 0:\n",
    "        # Return modulo 10 to get next digit\n",
    "        digit = number % 10\n",
    "        row = digit_to_vector(digit)\n",
    "        output[-k,:] = row\n",
    "        k += 1\n",
    "        # Integer division by 10 to reduce number\n",
    "        number //= 10\n",
    "    \n",
    "    return output\n",
    "\n",
    "def generate_dataset(divisibility_number=DIVISIBILITY_NUMBER, train_test_split=TRAIN_TEST_SPLIT, \n",
    "                     num_examples_per_class=NUM_EXAMPLES_PER_CLASS):\n",
    "    \"\"\"Generate a dataset ready for training. Returns a list of tuples. Each tuple is of the form\n",
    "    (input_array, label). The dataset should be shuffled either here or during the training process to\n",
    "    mix divisible-by-DIVISIBILITY_NUMBER and not-divisible-by-DIVISIBILITY_NUMBER examples.\n",
    "    The dataset should consist of NUM_EXAMPLES_PER_CLASS positive examples (e.g., 1000 examples of divisible-by-3), and\n",
    "    also NUM_EXAMPLES_PER_CLASS negative examples (e.g., 1000 examples of not-divisible-by-3).\n",
    "    \"\"\"\n",
    "    \n",
    "    # Generate numbers\n",
    "    numbers = generate_example_numbers(divisibility_number, num_examples_per_class)\n",
    "    # Generate labels\n",
    "    labels = generate_labels(num_examples_per_class, num_examples_per_class)\n",
    "    \n",
    "    # Combine examples into single lists\n",
    "    numbers = numbers[0] + numbers[1]\n",
    "    labels = labels[0] + labels[1]\n",
    "    # Shuffle before processing\n",
    "    x = list(range(len(numbers)))\n",
    "    np.random.shuffle(x)\n",
    "    \n",
    "    dataset = []\n",
    "    # Process in shuffled order\n",
    "    for index in x:\n",
    "        num_array = number_to_input_example(numbers[index])\n",
    "        label = labels[index]\n",
    "        dataset.append((num_array, label))\n",
    "    \n",
    "    return dataset"
   ]
  },
  {
   "cell_type": "markdown",
   "metadata": {},
   "source": [
    "Let's make sure the number_to_input_example function works as intended:"
   ]
  },
  {
   "cell_type": "code",
   "execution_count": 9,
   "metadata": {},
   "outputs": [
    {
     "data": {
      "text/plain": [
       "array([[1., 0., 0., 0., 0., 0., 0., 0., 0., 0.],\n",
       "       [1., 0., 0., 0., 0., 0., 0., 0., 0., 0.],\n",
       "       [0., 0., 0., 0., 0., 1., 0., 0., 0., 0.],\n",
       "       [0., 0., 0., 0., 1., 0., 0., 0., 0., 0.],\n",
       "       [0., 0., 0., 1., 0., 0., 0., 0., 0., 0.]])"
      ]
     },
     "execution_count": 9,
     "metadata": {},
     "output_type": "execute_result"
    }
   ],
   "source": [
    "number_to_input_example(543)"
   ]
  },
  {
   "cell_type": "markdown",
   "metadata": {
    "nbgrader": {
     "grade": false,
     "locked": true,
     "solution": false
    }
   },
   "source": [
    "## Helper functions to generate the model"
   ]
  },
  {
   "cell_type": "code",
   "execution_count": 10,
   "metadata": {
    "collapsed": true
   },
   "outputs": [],
   "source": [
    "# Build RNN model.\n",
    "def build_model():\n",
    "    model = Sequential()\n",
    "    model.add(LSTM(NUM_LSTM_NODES, dropout=DROPOUT, input_shape=(MAX_DIGITS,NUM_CATEGORIES), return_sequences=False))  # Use return_sequences=True for multiple hidden layers    \n",
    "    model.add(Dense(48, activation='relu'))\n",
    "    model.add(Dense(1, activation='sigmoid'))  # Model should return 1 or 0 for divisible/not-divisible\n",
    "    return model"
   ]
  },
  {
   "cell_type": "code",
   "execution_count": 11,
   "metadata": {},
   "outputs": [
    {
     "name": "stdout",
     "output_type": "stream",
     "text": [
      "_________________________________________________________________\n",
      "Layer (type)                 Output Shape              Param #   \n",
      "=================================================================\n",
      "lstm_1 (LSTM)                (None, 32)                5504      \n",
      "_________________________________________________________________\n",
      "dense_1 (Dense)              (None, 48)                1584      \n",
      "_________________________________________________________________\n",
      "dense_2 (Dense)              (None, 1)                 49        \n",
      "=================================================================\n",
      "Total params: 7,137\n",
      "Trainable params: 7,137\n",
      "Non-trainable params: 0\n",
      "_________________________________________________________________\n"
     ]
    }
   ],
   "source": [
    "# Print the model configuration.\n",
    "model = build_model()\n",
    "model.summary()"
   ]
  },
  {
   "cell_type": "markdown",
   "metadata": {
    "nbgrader": {
     "grade": false,
     "locked": true,
     "solution": false
    }
   },
   "source": [
    "# Generate dataset and model"
   ]
  },
  {
   "cell_type": "code",
   "execution_count": 12,
   "metadata": {
    "collapsed": true
   },
   "outputs": [],
   "source": [
    "data = generate_dataset()\n",
    "X = [d[0] for d in data]\n",
    "y = [d[1] for d in data]"
   ]
  },
  {
   "cell_type": "code",
   "execution_count": 13,
   "metadata": {
    "collapsed": true
   },
   "outputs": [],
   "source": [
    "# Index to split training/validation data (70/30)\n",
    "idx = int(np.floor(len(X)*TRAIN_TEST_SPLIT))"
   ]
  },
  {
   "cell_type": "code",
   "execution_count": 14,
   "metadata": {
    "collapsed": true
   },
   "outputs": [],
   "source": [
    "# Split training validation sets accordingly\n",
    "train_inputs = np.array(X[:idx])\n",
    "train_labels = np.array(y[:idx])\n",
    "validation_inputs = np.array(X[idx:])\n",
    "validation_labels = np.array(y[idx:])"
   ]
  },
  {
   "cell_type": "markdown",
   "metadata": {},
   "source": [
    "Let's verify the train and validation data set shapes:"
   ]
  },
  {
   "cell_type": "code",
   "execution_count": 15,
   "metadata": {},
   "outputs": [
    {
     "name": "stdout",
     "output_type": "stream",
     "text": [
      "(1400, 5, 10)\n",
      "(600, 5, 10)\n"
     ]
    }
   ],
   "source": [
    "print(train_inputs.shape)\n",
    "print(validation_inputs.shape)"
   ]
  },
  {
   "cell_type": "code",
   "execution_count": 16,
   "metadata": {},
   "outputs": [
    {
     "name": "stdout",
     "output_type": "stream",
     "text": [
      "(1400,)\n",
      "(600,)\n"
     ]
    }
   ],
   "source": [
    "print(train_labels.shape)\n",
    "print(validation_labels.shape)"
   ]
  },
  {
   "cell_type": "markdown",
   "metadata": {},
   "source": [
    "Let's also make sure the divisible and non-divisible examples are evenly distributed between the training and validation sets:"
   ]
  },
  {
   "cell_type": "code",
   "execution_count": 17,
   "metadata": {},
   "outputs": [
    {
     "data": {
      "text/plain": [
       "0.5021428571428571"
      ]
     },
     "execution_count": 17,
     "metadata": {},
     "output_type": "execute_result"
    }
   ],
   "source": [
    "sum(train_labels)/len(train_labels)"
   ]
  },
  {
   "cell_type": "code",
   "execution_count": 18,
   "metadata": {},
   "outputs": [
    {
     "data": {
      "text/plain": [
       "0.495"
      ]
     },
     "execution_count": 18,
     "metadata": {},
     "output_type": "execute_result"
    }
   ],
   "source": [
    "sum(validation_labels)/len(validation_labels)"
   ]
  },
  {
   "cell_type": "code",
   "execution_count": 19,
   "metadata": {
    "collapsed": true
   },
   "outputs": [],
   "source": [
    "# Compile model\n",
    "adam = Adam(lr=LEARNING_RATE)   # Modify learning algorithm as needed\n",
    "model.compile(loss='binary_crossentropy', optimizer=adam, metrics=['accuracy'])"
   ]
  },
  {
   "cell_type": "markdown",
   "metadata": {
    "nbgrader": {
     "grade": false,
     "locked": true,
     "solution": false
    }
   },
   "source": [
    "# Train the model"
   ]
  },
  {
   "cell_type": "code",
   "execution_count": 20,
   "metadata": {},
   "outputs": [
    {
     "name": "stdout",
     "output_type": "stream",
     "text": [
      "Train on 1400 samples, validate on 600 samples\n",
      "Epoch 1/20\n",
      "1400/1400 [==============================] - 2s 1ms/step - loss: 0.6950 - acc: 0.4793 - val_loss: 0.6934 - val_acc: 0.4917\n",
      "Epoch 2/20\n",
      "1400/1400 [==============================] - 1s 956us/step - loss: 0.6939 - acc: 0.4779 - val_loss: 0.6938 - val_acc: 0.4750\n",
      "Epoch 3/20\n",
      "1400/1400 [==============================] - 1s 951us/step - loss: 0.6936 - acc: 0.4786 - val_loss: 0.6938 - val_acc: 0.4883\n",
      "Epoch 4/20\n",
      "1400/1400 [==============================] - 1s 956us/step - loss: 0.6926 - acc: 0.5093 - val_loss: 0.6930 - val_acc: 0.5333\n",
      "Epoch 5/20\n",
      "1400/1400 [==============================] - 1s 949us/step - loss: 0.6913 - acc: 0.5886 - val_loss: 0.6907 - val_acc: 0.6100\n",
      "Epoch 6/20\n",
      "1400/1400 [==============================] - 1s 975us/step - loss: 0.6865 - acc: 0.6093 - val_loss: 0.6815 - val_acc: 0.7200\n",
      "Epoch 7/20\n",
      "1400/1400 [==============================] - 1s 951us/step - loss: 0.6689 - acc: 0.7121 - val_loss: 0.6399 - val_acc: 0.8367\n",
      "Epoch 8/20\n",
      "1400/1400 [==============================] - 1s 944us/step - loss: 0.5657 - acc: 0.8043 - val_loss: 0.4427 - val_acc: 0.9133\n",
      "Epoch 9/20\n",
      "1400/1400 [==============================] - 1s 949us/step - loss: 0.3448 - acc: 0.9529 - val_loss: 0.2344 - val_acc: 0.9883\n",
      "Epoch 10/20\n",
      "1400/1400 [==============================] - 1s 947us/step - loss: 0.1901 - acc: 0.9836 - val_loss: 0.1355 - val_acc: 0.9900\n",
      "Epoch 11/20\n",
      "1400/1400 [==============================] - 1s 956us/step - loss: 0.1191 - acc: 0.9800 - val_loss: 0.0828 - val_acc: 0.9900\n",
      "Epoch 12/20\n",
      "1400/1400 [==============================] - 1s 963us/step - loss: 0.0828 - acc: 0.9814 - val_loss: 0.0596 - val_acc: 0.9900\n",
      "Epoch 13/20\n",
      "1400/1400 [==============================] - 1s 954us/step - loss: 0.0658 - acc: 0.9836 - val_loss: 0.0454 - val_acc: 0.9900\n",
      "Epoch 14/20\n",
      "1400/1400 [==============================] - 1s 954us/step - loss: 0.0470 - acc: 0.9886 - val_loss: 0.0324 - val_acc: 0.9900\n",
      "Epoch 15/20\n",
      "1400/1400 [==============================] - 1s 958us/step - loss: 0.0316 - acc: 0.9929 - val_loss: 0.0207 - val_acc: 1.0000\n",
      "Epoch 16/20\n",
      "1400/1400 [==============================] - 1s 954us/step - loss: 0.0201 - acc: 0.9979 - val_loss: 0.0141 - val_acc: 1.0000\n",
      "Epoch 17/20\n",
      "1400/1400 [==============================] - 1s 959us/step - loss: 0.0189 - acc: 0.9950 - val_loss: 0.0147 - val_acc: 1.0000\n",
      "Epoch 18/20\n",
      "1400/1400 [==============================] - 1s 952us/step - loss: 0.0097 - acc: 1.0000 - val_loss: 0.0087 - val_acc: 1.0000\n",
      "Epoch 19/20\n",
      "1400/1400 [==============================] - 1s 949us/step - loss: 0.0076 - acc: 1.0000 - val_loss: 0.0051 - val_acc: 1.0000\n",
      "Epoch 20/20\n",
      "1400/1400 [==============================] - 1s 949us/step - loss: 0.0049 - acc: 1.0000 - val_loss: 0.0042 - val_acc: 1.0000\n"
     ]
    }
   ],
   "source": [
    "# Fit the model\n",
    "history = model.fit(train_inputs, train_labels, validation_data=(validation_inputs,validation_labels), batch_size=BATCH_SIZE, epochs=NUM_EPOCHS, shuffle=True, verbose=1)"
   ]
  },
  {
   "cell_type": "markdown",
   "metadata": {
    "nbgrader": {
     "grade": false,
     "locked": true,
     "solution": false
    }
   },
   "source": [
    "Report your final accuracy on the validation dataset below."
   ]
  },
  {
   "cell_type": "markdown",
   "metadata": {
    "collapsed": true
   },
   "source": [
    "Final validation set accuracy = 100%"
   ]
  },
  {
   "cell_type": "markdown",
   "metadata": {
    "nbgrader": {
     "grade": false,
     "locked": true,
     "solution": false
    }
   },
   "source": [
    "## Examine model outputs"
   ]
  },
  {
   "cell_type": "markdown",
   "metadata": {},
   "source": [
    "Let's print the predicted and actual labels for the first 10 observations."
   ]
  },
  {
   "cell_type": "code",
   "execution_count": 21,
   "metadata": {},
   "outputs": [
    {
     "data": {
      "text/plain": [
       "[array([[0.00424126]], dtype=float32),\n",
       " array([[0.9959558]], dtype=float32),\n",
       " array([[0.99725586]], dtype=float32),\n",
       " array([[0.9983032]], dtype=float32),\n",
       " array([[0.00912879]], dtype=float32),\n",
       " array([[0.99905056]], dtype=float32),\n",
       " array([[0.99843293]], dtype=float32),\n",
       " array([[0.99665314]], dtype=float32),\n",
       " array([[0.9991222]], dtype=float32),\n",
       " array([[0.9971424]], dtype=float32)]"
      ]
     },
     "execution_count": 21,
     "metadata": {},
     "output_type": "execute_result"
    }
   ],
   "source": [
    "# Examine the outputs of the model on some test data.\n",
    "[model.predict(np.expand_dims(validation_inputs[i], 0)) for i in range(10)]"
   ]
  },
  {
   "cell_type": "code",
   "execution_count": 22,
   "metadata": {},
   "outputs": [
    {
     "name": "stdout",
     "output_type": "stream",
     "text": [
      "[0. 1. 1. 1. 0. 1. 1. 1. 1. 1.]\n"
     ]
    }
   ],
   "source": [
    "print(validation_labels[:10])"
   ]
  },
  {
   "cell_type": "markdown",
   "metadata": {},
   "source": [
    "As an additional check, let's compute the validation accuracy for the first 100 samples."
   ]
  },
  {
   "cell_type": "code",
   "execution_count": 23,
   "metadata": {},
   "outputs": [
    {
     "data": {
      "text/plain": [
       "100.0"
      ]
     },
     "execution_count": 23,
     "metadata": {},
     "output_type": "execute_result"
    }
   ],
   "source": [
    "samples = 100\n",
    "predicted_vals = [model.predict(np.expand_dims(validation_inputs[i], 0)) for i in range(samples)]\n",
    "predicted = [np.rint(x[0][0]) for x in predicted_vals]\n",
    "actual = validation_labels[:samples]\n",
    "sum(abs(predicted-actual) == 0)/len(predicted) * 100"
   ]
  },
  {
   "cell_type": "markdown",
   "metadata": {},
   "source": [
    "The accuracy is 100%, which matches the validation accuracy from the training report.\n",
    "\n",
    "In addition, let's compute the results of the first 100 numbers, many of which were not in the training or validation sets."
   ]
  },
  {
   "cell_type": "code",
   "execution_count": 24,
   "metadata": {
    "collapsed": true
   },
   "outputs": [],
   "source": [
    "# Plot some results\n",
    "results = []\n",
    "lo = 0\n",
    "hi = 100\n",
    "rng = range(lo,hi)\n",
    "for num in rng:\n",
    "    # Hint: to run on a single example, you can use \"np.expand_dims\" to add an extra \n",
    "    # dimension to a 2D array, in order to make a \"batch\" of 1.\n",
    "    #\n",
    "    # TODO something like this:\n",
    "    results.append(model.predict(np.expand_dims(number_to_input_example(num), 0))[0][0])"
   ]
  },
  {
   "cell_type": "code",
   "execution_count": 25,
   "metadata": {},
   "outputs": [
    {
     "data": {
      "image/png": "[encoded data removed]",
      "text/plain": [
       "<matplotlib.figure.Figure at 0x7fb0d8360f98>"
      ]
     },
     "metadata": {},
     "output_type": "display_data"
    }
   ],
   "source": [
    "plt.plot(rng[:100], results[:100])\n",
    "plt.show()"
   ]
  },
  {
   "cell_type": "markdown",
   "metadata": {},
   "source": [
    "The results are all close to 1 for divisible samples and 0 for indivisible samples, meaning the network reported high confidence in its predictions."
   ]
  },
  {
   "cell_type": "markdown",
   "metadata": {},
   "source": [
    "As an additional check, let's plot the training/validation loss and accuracy. Note that the accuracy smoothly approaches 100% and the loss smoothly approaches 0 for both the training and validation sets."
   ]
  },
  {
   "cell_type": "code",
   "execution_count": 26,
   "metadata": {},
   "outputs": [
    {
     "data": {
      "image/png": "[encoded data removed]",
      "text/plain": [
       "<matplotlib.figure.Figure at 0x7fb0d839bc88>"
      ]
     },
     "metadata": {},
     "output_type": "display_data"
    },
    {
     "data": {
      "image/png": "[encoded data removed]",
      "text/plain": [
       "<matplotlib.figure.Figure at 0x7fb0d82e5160>"
      ]
     },
     "metadata": {},
     "output_type": "display_data"
    }
   ],
   "source": [
    "# Plot accuracy and loss\n",
    "acc = history.history['acc']\n",
    "val_acc = history.history['val_acc']\n",
    "loss = history.history['loss']\n",
    "val_loss = history.history['val_loss']\n",
    "\n",
    "epochs = range(1, len(acc) + 1)\n",
    "\n",
    "plt.plot(epochs, acc, 'bo', label = 'Training acc')\n",
    "plt.plot(epochs, val_acc, 'b', label = 'Validation acc')\n",
    "plt.title('Training and Validation accuracy')\n",
    "plt.legend()\n",
    "\n",
    "plt.figure()\n",
    "plt.plot(epochs, loss, 'bo', label = 'Training loss')\n",
    "plt.plot(epochs, val_loss, 'b', label = 'Validation loss')\n",
    "plt.title('Training and Validation loss')\n",
    "plt.legend()\n",
    "\n",
    "plt.show()"
   ]
  },
  {
   "cell_type": "markdown",
   "metadata": {
    "collapsed": true,
    "nbgrader": {
     "grade": false,
     "locked": true,
     "solution": false
    }
   },
   "source": [
    "# Further Questions"
   ]
  },
  {
   "cell_type": "markdown",
   "metadata": {
    "nbgrader": {
     "grade": false,
     "locked": true,
     "solution": false
    }
   },
   "source": [
    "1) What happens if you give a 5-digit number or a 6-digit number to the trained model, after training on 1-, 2-, 3-, and 4- digit numbers?"
   ]
  },
  {
   "cell_type": "markdown",
   "metadata": {
    "collapsed": true
   },
   "source": [
    "Since our maximum number of digits was 5, let's run a test to see how the network does when predicting a five digit number. We can't use a six digit number because we can't format it properly. \n",
    "\n",
    "Let's try two numbers: 11,997, which is divisible by 3, and 11,998, which is not."
   ]
  },
  {
   "cell_type": "code",
   "execution_count": 27,
   "metadata": {},
   "outputs": [
    {
     "data": {
      "text/plain": [
       "0.99623716"
      ]
     },
     "execution_count": 27,
     "metadata": {},
     "output_type": "execute_result"
    }
   ],
   "source": [
    "# Five digit number that is divisible by three\n",
    "model.predict(np.expand_dims(number_to_input_example(11997), 0))[0][0]"
   ]
  },
  {
   "cell_type": "code",
   "execution_count": 28,
   "metadata": {},
   "outputs": [
    {
     "data": {
      "text/plain": [
       "0.019483972"
      ]
     },
     "execution_count": 28,
     "metadata": {},
     "output_type": "execute_result"
    }
   ],
   "source": [
    "# Five digit number that is NOT divisible by three\n",
    "model.predict(np.expand_dims(number_to_input_example(11998), 0))[0][0]"
   ]
  },
  {
   "cell_type": "markdown",
   "metadata": {},
   "source": [
    "The network returned a probability close to 1 (0.996) for the five digit number that is divisible by three, and a probability close to 0 (0.019) for the five digit number that is not divisible by three. This suggests it is able to handle five digit numbers despite not seeing any during training."
   ]
  },
  {
   "cell_type": "markdown",
   "metadata": {
    "nbgrader": {
     "grade": false,
     "locked": true,
     "solution": false
    }
   },
   "source": [
    "2) Pick another number from Hofstadter's list above, such as 9, 7, or 29. Train a model, and report the accuracy of your results. Did it work or not? Why or why not (your best guess)?"
   ]
  },
  {
   "cell_type": "markdown",
   "metadata": {
    "collapsed": true
   },
   "source": [
    "Let's try divisibility by 7 first."
   ]
  },
  {
   "cell_type": "code",
   "execution_count": 29,
   "metadata": {},
   "outputs": [
    {
     "name": "stdout",
     "output_type": "stream",
     "text": [
      "_________________________________________________________________\n",
      "Layer (type)                 Output Shape              Param #   \n",
      "=================================================================\n",
      "lstm_2 (LSTM)                (None, 32)                5504      \n",
      "_________________________________________________________________\n",
      "dense_3 (Dense)              (None, 48)                1584      \n",
      "_________________________________________________________________\n",
      "dense_4 (Dense)              (None, 1)                 49        \n",
      "=================================================================\n",
      "Total params: 7,137\n",
      "Trainable params: 7,137\n",
      "Non-trainable params: 0\n",
      "_________________________________________________________________\n"
     ]
    }
   ],
   "source": [
    "# Change divisibility to 7\n",
    "DIVISIBILITY_NUMBER = 7\n",
    "\n",
    "# Generate a new model\n",
    "model_div7 = build_model()\n",
    "model_div7.summary()"
   ]
  },
  {
   "cell_type": "code",
   "execution_count": 30,
   "metadata": {
    "collapsed": true
   },
   "outputs": [],
   "source": [
    "data_div7 = generate_dataset(DIVISIBILITY_NUMBER)\n",
    "X_div7 = [d[0] for d in data_div7]\n",
    "y_div7 = [d[1] for d in data_div7]"
   ]
  },
  {
   "cell_type": "code",
   "execution_count": 31,
   "metadata": {
    "collapsed": true
   },
   "outputs": [],
   "source": [
    "# Split training validation sets accordingly\n",
    "train_inputs_div7 = np.array(X_div7[:idx])\n",
    "train_labels_div7 = np.array(y_div7[:idx])\n",
    "validation_inputs_div7 = np.array(X_div7[idx:])\n",
    "validation_labels_div7 = np.array(y_div7[idx:])"
   ]
  },
  {
   "cell_type": "code",
   "execution_count": 32,
   "metadata": {
    "collapsed": true
   },
   "outputs": [],
   "source": [
    "# Compile model\n",
    "adam = Adam(lr=LEARNING_RATE)   # Modify learning algorithm as needed\n",
    "model_div7.compile(loss='binary_crossentropy', optimizer=adam, metrics=['accuracy'])"
   ]
  },
  {
   "cell_type": "code",
   "execution_count": 33,
   "metadata": {},
   "outputs": [
    {
     "name": "stdout",
     "output_type": "stream",
     "text": [
      "Train on 1400 samples, validate on 600 samples\n",
      "Epoch 1/20\n",
      "1400/1400 [==============================] - 2s 1ms/step - loss: 0.6944 - acc: 0.4821 - val_loss: 0.6950 - val_acc: 0.4600\n",
      "Epoch 2/20\n",
      "1400/1400 [==============================] - 1s 956us/step - loss: 0.6938 - acc: 0.4921 - val_loss: 0.6957 - val_acc: 0.4533\n",
      "Epoch 3/20\n",
      "1400/1400 [==============================] - 1s 966us/step - loss: 0.6933 - acc: 0.5014 - val_loss: 0.6967 - val_acc: 0.4433\n",
      "Epoch 4/20\n",
      "1400/1400 [==============================] - 1s 966us/step - loss: 0.6931 - acc: 0.4979 - val_loss: 0.6976 - val_acc: 0.4433\n",
      "Epoch 5/20\n",
      "1400/1400 [==============================] - 1s 979us/step - loss: 0.6928 - acc: 0.5064 - val_loss: 0.6969 - val_acc: 0.4383\n",
      "Epoch 6/20\n",
      "1400/1400 [==============================] - 1s 972us/step - loss: 0.6925 - acc: 0.5121 - val_loss: 0.6989 - val_acc: 0.4167\n",
      "Epoch 7/20\n",
      "1400/1400 [==============================] - 1s 958us/step - loss: 0.6929 - acc: 0.5171 - val_loss: 0.7004 - val_acc: 0.4267\n",
      "Epoch 8/20\n",
      "1400/1400 [==============================] - 1s 958us/step - loss: 0.6921 - acc: 0.5343 - val_loss: 0.7020 - val_acc: 0.4450\n",
      "Epoch 9/20\n",
      "1400/1400 [==============================] - 1s 963us/step - loss: 0.6917 - acc: 0.5229 - val_loss: 0.7023 - val_acc: 0.4100\n",
      "Epoch 10/20\n",
      "1400/1400 [==============================] - 1s 977us/step - loss: 0.6914 - acc: 0.5286 - val_loss: 0.7048 - val_acc: 0.4217\n",
      "Epoch 11/20\n",
      "1400/1400 [==============================] - 1s 979us/step - loss: 0.6909 - acc: 0.5307 - val_loss: 0.7056 - val_acc: 0.4217\n",
      "Epoch 12/20\n",
      "1400/1400 [==============================] - 1s 967us/step - loss: 0.6901 - acc: 0.5464 - val_loss: 0.7098 - val_acc: 0.4083\n",
      "Epoch 13/20\n",
      "1400/1400 [==============================] - 1s 979us/step - loss: 0.6905 - acc: 0.5271 - val_loss: 0.7109 - val_acc: 0.3983\n",
      "Epoch 14/20\n",
      "1400/1400 [==============================] - 1s 976us/step - loss: 0.6893 - acc: 0.5457 - val_loss: 0.7145 - val_acc: 0.4033\n",
      "Epoch 15/20\n",
      "1400/1400 [==============================] - 1s 977us/step - loss: 0.6889 - acc: 0.5314 - val_loss: 0.7162 - val_acc: 0.3917\n",
      "Epoch 16/20\n",
      "1400/1400 [==============================] - 1s 975us/step - loss: 0.6879 - acc: 0.5443 - val_loss: 0.7168 - val_acc: 0.3917\n",
      "Epoch 17/20\n",
      "1400/1400 [==============================] - 1s 973us/step - loss: 0.6875 - acc: 0.5514 - val_loss: 0.7220 - val_acc: 0.4200\n",
      "Epoch 18/20\n",
      "1400/1400 [==============================] - 1s 978us/step - loss: 0.6858 - acc: 0.5479 - val_loss: 0.7232 - val_acc: 0.3833\n",
      "Epoch 19/20\n",
      "1400/1400 [==============================] - 1s 976us/step - loss: 0.6855 - acc: 0.5629 - val_loss: 0.7306 - val_acc: 0.4150\n",
      "Epoch 20/20\n",
      "1400/1400 [==============================] - 1s 976us/step - loss: 0.6846 - acc: 0.5564 - val_loss: 0.7340 - val_acc: 0.3950\n"
     ]
    }
   ],
   "source": [
    "# Fit the model\n",
    "history_div7 = model_div7.fit(train_inputs_div7, train_labels_div7, validation_data=(validation_inputs_div7,validation_labels_div7), batch_size=BATCH_SIZE, epochs=NUM_EPOCHS, shuffle=True, verbose=1)"
   ]
  },
  {
   "cell_type": "markdown",
   "metadata": {},
   "source": [
    "At the last epoch, the validation set accuracy was only 43%. This did not appear to work, the model was not able to learn the divisibility by 7 rules. Just to be sure, let's try divisibility by 9."
   ]
  },
  {
   "cell_type": "code",
   "execution_count": 34,
   "metadata": {},
   "outputs": [
    {
     "name": "stdout",
     "output_type": "stream",
     "text": [
      "_________________________________________________________________\n",
      "Layer (type)                 Output Shape              Param #   \n",
      "=================================================================\n",
      "lstm_3 (LSTM)                (None, 32)                5504      \n",
      "_________________________________________________________________\n",
      "dense_5 (Dense)              (None, 48)                1584      \n",
      "_________________________________________________________________\n",
      "dense_6 (Dense)              (None, 1)                 49        \n",
      "=================================================================\n",
      "Total params: 7,137\n",
      "Trainable params: 7,137\n",
      "Non-trainable params: 0\n",
      "_________________________________________________________________\n"
     ]
    }
   ],
   "source": [
    "# Change divisibility to 9\n",
    "DIVISIBILITY_NUMBER = 9\n",
    "\n",
    "# Generate a new model\n",
    "model_div9 = build_model()\n",
    "model_div9.summary()"
   ]
  },
  {
   "cell_type": "code",
   "execution_count": 35,
   "metadata": {
    "collapsed": true
   },
   "outputs": [],
   "source": [
    "data_div9 = generate_dataset(DIVISIBILITY_NUMBER)\n",
    "X_div9 = [d[0] for d in data_div9]\n",
    "y_div9 = [d[1] for d in data_div9]"
   ]
  },
  {
   "cell_type": "code",
   "execution_count": 36,
   "metadata": {
    "collapsed": true
   },
   "outputs": [],
   "source": [
    "# Split training validation sets accordingly\n",
    "train_inputs_div9 = np.array(X_div9[:idx])\n",
    "train_labels_div9 = np.array(y_div9[:idx])\n",
    "validation_inputs_div9 = np.array(X_div9[idx:])\n",
    "validation_labels_div9 = np.array(y_div9[idx:])"
   ]
  },
  {
   "cell_type": "code",
   "execution_count": 37,
   "metadata": {
    "collapsed": true
   },
   "outputs": [],
   "source": [
    "# Compile model\n",
    "adam = Adam(lr=LEARNING_RATE)   # Modify learning algorithm as needed\n",
    "model_div9.compile(loss='binary_crossentropy', optimizer=adam, metrics=['accuracy'])"
   ]
  },
  {
   "cell_type": "code",
   "execution_count": 38,
   "metadata": {},
   "outputs": [
    {
     "name": "stdout",
     "output_type": "stream",
     "text": [
      "Train on 1400 samples, validate on 600 samples\n",
      "Epoch 1/20\n",
      "1400/1400 [==============================] - 2s 1ms/step - loss: 0.6946 - acc: 0.4757 - val_loss: 0.6943 - val_acc: 0.4750\n",
      "Epoch 2/20\n",
      "1400/1400 [==============================] - 1s 965us/step - loss: 0.6934 - acc: 0.5000 - val_loss: 0.6949 - val_acc: 0.4450\n",
      "Epoch 3/20\n",
      "1400/1400 [==============================] - 1s 957us/step - loss: 0.6928 - acc: 0.5157 - val_loss: 0.6953 - val_acc: 0.4683\n",
      "Epoch 4/20\n",
      "1400/1400 [==============================] - 1s 966us/step - loss: 0.6911 - acc: 0.5321 - val_loss: 0.6950 - val_acc: 0.4783\n",
      "Epoch 5/20\n",
      "1400/1400 [==============================] - 1s 965us/step - loss: 0.6878 - acc: 0.5500 - val_loss: 0.6928 - val_acc: 0.5183\n",
      "Epoch 6/20\n",
      "1400/1400 [==============================] - 1s 965us/step - loss: 0.6784 - acc: 0.6293 - val_loss: 0.6838 - val_acc: 0.5800\n",
      "Epoch 7/20\n",
      "1400/1400 [==============================] - 1s 977us/step - loss: 0.6517 - acc: 0.6829 - val_loss: 0.6563 - val_acc: 0.6600\n",
      "Epoch 8/20\n",
      "1400/1400 [==============================] - 1s 959us/step - loss: 0.5767 - acc: 0.7964 - val_loss: 0.5509 - val_acc: 0.8283\n",
      "Epoch 9/20\n",
      "1400/1400 [==============================] - 1s 963us/step - loss: 0.4324 - acc: 0.8793 - val_loss: 0.4036 - val_acc: 0.8833\n",
      "Epoch 10/20\n",
      "1400/1400 [==============================] - 1s 966us/step - loss: 0.3296 - acc: 0.9207 - val_loss: 0.3136 - val_acc: 0.9233\n",
      "Epoch 11/20\n",
      "1400/1400 [==============================] - 1s 967us/step - loss: 0.2605 - acc: 0.9371 - val_loss: 0.2752 - val_acc: 0.9183\n",
      "Epoch 12/20\n",
      "1400/1400 [==============================] - 1s 964us/step - loss: 0.2119 - acc: 0.9443 - val_loss: 0.2191 - val_acc: 0.9467\n",
      "Epoch 13/20\n",
      "1400/1400 [==============================] - 1s 960us/step - loss: 0.1671 - acc: 0.9657 - val_loss: 0.1800 - val_acc: 0.9500\n",
      "Epoch 14/20\n",
      "1400/1400 [==============================] - 1s 975us/step - loss: 0.1356 - acc: 0.9729 - val_loss: 0.1611 - val_acc: 0.9567\n",
      "Epoch 15/20\n",
      "1400/1400 [==============================] - 1s 959us/step - loss: 0.1125 - acc: 0.9743 - val_loss: 0.1290 - val_acc: 0.9650\n",
      "Epoch 16/20\n",
      "1400/1400 [==============================] - 1s 967us/step - loss: 0.0902 - acc: 0.9843 - val_loss: 0.1017 - val_acc: 0.9783\n",
      "Epoch 17/20\n",
      "1400/1400 [==============================] - 1s 963us/step - loss: 0.0762 - acc: 0.9886 - val_loss: 0.0877 - val_acc: 0.9883\n",
      "Epoch 18/20\n",
      "1400/1400 [==============================] - 1s 960us/step - loss: 0.0630 - acc: 0.9921 - val_loss: 0.0773 - val_acc: 0.9833\n",
      "Epoch 19/20\n",
      "1400/1400 [==============================] - 1s 960us/step - loss: 0.0516 - acc: 0.9943 - val_loss: 0.0637 - val_acc: 0.9900\n",
      "Epoch 20/20\n",
      "1400/1400 [==============================] - 1s 981us/step - loss: 0.0403 - acc: 0.9986 - val_loss: 0.0561 - val_acc: 0.9917\n"
     ]
    }
   ],
   "source": [
    "# Fit the model\n",
    "history_div9 = model_div9.fit(train_inputs_div9, train_labels_div9, validation_data=(validation_inputs_div9,validation_labels_div9), batch_size=BATCH_SIZE, epochs=NUM_EPOCHS, shuffle=True, verbose=1)"
   ]
  },
  {
   "cell_type": "markdown",
   "metadata": {},
   "source": [
    "At the last epoch, the validation set accuracy is over 99%. This worked, and the model was able to learn the divisibility by 9 rules.\n",
    "\n",
    "My best guess as to why 3 and 9 worked, and 7 didn't, has to do with the divisibility rules for each number. \n",
    "* A number is divisible by 3 if the $sum$ of its digits is divisible by 3. \n",
    "* The same goes for 9, a number is divisible by 9 if the $sum$ of its digits is divisible by 9. \n",
    "* The rule for divisiblity by 7 is more complicated. To determine if a number is divisible by 7, remove the last digit, double it, and subtract the result from the remaining number. If that number is divisible by 7, so was the original number.\n",
    "\n",
    "A RNN works by looping over timesteps and processing sequences of data, computing the output at each timestep using data from the previous timestep plus data from the current timestep. This additive behavior is conducive to learning rules for divisibility by 3 or 9, since they are based on additive operations. The structure of the RNN is not conducive to learning rules for divisibility by 7 as they are based on more complicated operations (trunation and division, specificially).  "
   ]
  },
  {
   "cell_type": "markdown",
   "metadata": {
    "nbgrader": {
     "grade": false,
     "locked": true,
     "solution": false
    }
   },
   "source": [
    "3) Record any other comments/insights from your model training process. What worked well? What caused trouble?"
   ]
  },
  {
   "cell_type": "markdown",
   "metadata": {
    "collapsed": true
   },
   "source": [
    "During my model training process, here's what worked well, and conversely, what caused trouble:\n",
    "\n",
    "* Keeping the model simple worked well. I ended up only using one LSTM layer and one dense layer. The model would still converge after adding an additional LSTM layer, but it also performed well without it, so I removed it in the name of simplicity. Adding too much complexity led to poor performance.\n",
    "* Keeping the learning rate low worked well. If the learning rate was too high the model was unable to follow the gradient smoothly, and the accuracy would get stuck near the random guess baseline of 50% (for binary classification).\n",
    "* Removing dropout worked well. I started training with the default dropout setting of 0.5, but soon realized that if the model is not displaying signs of overfitting (which it wasn't), there was no need to add dropout. Reducing and finally removing dropout led to a big gain in performance.\n",
    "* Increasing the number of LSTM nodes to 32 worked well. Too few led to performance issues, as the model did not have enough complexity to learn the divisibility rules.\n",
    "* Using too few nodes in the dense layer caused trouble. Specifically, using fewer nodes than the LSTM layer cause the loss function to stagnate. Increasing the number of nodes to a few more than the LSTM layer helped the model tremendously.\n",
    "* Using a smaller batch size worked well, one that was too large or too small caused performance issues with the model."
   ]
  },
  {
   "cell_type": "markdown",
   "metadata": {
    "nbgrader": {
     "grade": false,
     "locked": true,
     "solution": false
    }
   },
   "source": [
    "4) If you didn't have a training algorithm, how would you design a RNN-style system to recognize divisibility by 3?\n",
    "Ignoring the details of the weights, what kind of state must be carried over from step to step as each digit is read in\n",
    "successively?"
   ]
  },
  {
   "cell_type": "markdown",
   "metadata": {
    "collapsed": true
   },
   "source": [
    "If I was to design my own RNN-style algorithm to recognize divisibility by three, I would read in the number one digit at a time, as we did here. After each sequence, I would carry over the current sum of the digits read so far to the next state. I would initialize the carry over value to zero at first, then add the first digit and carry the sum to the second step, where I would add the second digit and carry the sum to the third step, etc. After the final step, I would check whether the total sum is divisible by three (if the sum is denoted by s, I would compute \"s modulo 3\" and check if it was equal to zero to denote divisibility by three). In RNN terms, the output of the RNN would be the current sum, which would become the state for the next element in the sequence."
   ]
  },
  {
   "cell_type": "markdown",
   "metadata": {
    "nbgrader": {
     "grade": false,
     "locked": true,
     "solution": false
    }
   },
   "source": [
    "5) BONUS (hard): Explain how the neural net you trained above works, with evidence from examining the node activations as the net runs. Does it do anything similar to what you would have designed as a human?"
   ]
  },
  {
   "cell_type": "markdown",
   "metadata": {},
   "source": [
    "To try and answer this, let's look at the activations from the dense layer (these are fed to the output layer and a probability is produced via the sigmoid activation). To do this, we'll create a new model using the weights of the previously trained model and get the node activations.\n",
    "\n",
    "In particular, let's look at two examples, one that's divisible by three and one that's not."
   ]
  },
  {
   "cell_type": "code",
   "execution_count": 308,
   "metadata": {
    "collapsed": true
   },
   "outputs": [],
   "source": [
    "model_diagnostic = Sequential()\n",
    "model_diagnostic.add(LSTM(NUM_LSTM_NODES, dropout=DROPOUT, input_shape=(MAX_DIGITS,NUM_CATEGORIES), return_sequences=False, weights=model.layers[0].get_weights()))  # Use return_sequences=True for multiple hidden layers \n",
    "model_diagnostic.add(Dense(48, activation='relu', weights=model.layers[1].get_weights()))\n",
    "activations1 = model_diagnostic.predict(np.expand_dims(number_to_input_example(3), 0))"
   ]
  },
  {
   "cell_type": "markdown",
   "metadata": {},
   "source": [
    "Let's look at the activations (there are 48 because of the 48 dense nodes)."
   ]
  },
  {
   "cell_type": "code",
   "execution_count": 309,
   "metadata": {},
   "outputs": [
    {
     "data": {
      "text/plain": [
       "array([[0.        , 0.00927135, 1.1682644 , 0.        , 0.        ,\n",
       "        3.9357522 , 0.        , 0.        , 0.        , 0.08311289,\n",
       "        0.        , 0.        , 0.        , 0.17626657, 0.        ,\n",
       "        3.2402065 , 0.        , 0.        , 0.        , 0.11079621,\n",
       "        0.        , 0.1187693 , 0.15067059, 0.05188487, 0.01576122,\n",
       "        2.3894532 , 0.        , 0.        , 0.        , 0.13994828,\n",
       "        0.        , 0.        , 2.9263024 , 3.5692434 , 0.        ,\n",
       "        0.        , 0.        , 0.        , 0.        , 3.8767538 ,\n",
       "        0.        , 0.        , 0.        , 0.        , 0.        ,\n",
       "        0.        , 0.03474749, 0.        ]], dtype=float32)"
      ]
     },
     "execution_count": 309,
     "metadata": {},
     "output_type": "execute_result"
    }
   ],
   "source": [
    "activations1"
   ]
  },
  {
   "cell_type": "markdown",
   "metadata": {},
   "source": [
    "Other than noting the sparsity, these are not particularly insightful. Let's plot them."
   ]
  },
  {
   "cell_type": "code",
   "execution_count": 310,
   "metadata": {},
   "outputs": [
    {
     "data": {
      "image/png": "[encoded data removed]",
      "text/plain": [
       "<matplotlib.figure.Figure at 0x7fb08e8f8940>"
      ]
     },
     "metadata": {},
     "output_type": "display_data"
    }
   ],
   "source": [
    "plt.bar(list(range(activations1.shape[-1])),activations1[0])\n",
    "plt.ylim([0,10])\n",
    "plt.title('Activation For Input of \\'3\\'')\n",
    "plt.show()"
   ]
  },
  {
   "cell_type": "markdown",
   "metadata": {},
   "source": [
    "Next, let's look at the activations for a number that's not divisible by 3 and plot the same results."
   ]
  },
  {
   "cell_type": "code",
   "execution_count": 311,
   "metadata": {
    "collapsed": true
   },
   "outputs": [],
   "source": [
    "activations2 = model_diagnostic.predict(np.expand_dims(number_to_input_example(4), 0))"
   ]
  },
  {
   "cell_type": "code",
   "execution_count": 312,
   "metadata": {},
   "outputs": [
    {
     "data": {
      "text/plain": [
       "array([[0.        , 0.9148389 , 0.04124343, 0.        , 0.        ,\n",
       "        4.7224813 , 0.        , 0.0752714 , 0.        , 1.6049025 ,\n",
       "        0.        , 0.        , 0.        , 0.8090172 , 0.        ,\n",
       "        0.75411195, 0.        , 0.        , 0.        , 3.547547  ,\n",
       "        0.        , 2.7413685 , 1.8003172 , 1.4638648 , 2.2379916 ,\n",
       "        0.2422885 , 0.        , 0.        , 0.        , 0.8980133 ,\n",
       "        0.        , 0.        , 3.2697895 , 3.8664684 , 0.        ,\n",
       "        0.        , 0.        , 0.        , 0.        , 2.9963987 ,\n",
       "        0.        , 0.00578071, 0.        , 0.        , 0.        ,\n",
       "        0.        , 2.6840148 , 0.        ]], dtype=float32)"
      ]
     },
     "execution_count": 312,
     "metadata": {},
     "output_type": "execute_result"
    }
   ],
   "source": [
    "activations2"
   ]
  },
  {
   "cell_type": "code",
   "execution_count": 313,
   "metadata": {},
   "outputs": [
    {
     "data": {
      "image/png": "[encoded data removed]",
      "text/plain": [
       "<matplotlib.figure.Figure at 0x7fb08eb49358>"
      ]
     },
     "metadata": {},
     "output_type": "display_data"
    }
   ],
   "source": [
    "plt.bar(list(range(activations2.shape[-1])),activations2[0])\n",
    "plt.ylim([0,10])\n",
    "plt.title('Activation For Input of \\'4\\'')\n",
    "plt.show()"
   ]
  },
  {
   "cell_type": "markdown",
   "metadata": {},
   "source": [
    "Comparing the two plots, it's clear that the example which is not divisible by three has a somewhat less sparse activation tensor, particularly near the middle. To see this, we can plot the difference between the two tensors."
   ]
  },
  {
   "cell_type": "code",
   "execution_count": 314,
   "metadata": {},
   "outputs": [
    {
     "data": {
      "image/png": "[encoded data removed]",
      "text/plain": [
       "<matplotlib.figure.Figure at 0x7fb08e503080>"
      ]
     },
     "metadata": {},
     "output_type": "display_data"
    }
   ],
   "source": [
    "plt.bar(list(range(activations1.shape[-1])),activations2[0]-activations1[0])\n",
    "plt.title('Difference Between Activation Tensors')\n",
    "plt.show()"
   ]
  },
  {
   "cell_type": "markdown",
   "metadata": {},
   "source": [
    "Looking at this plot, less than half of the activation values are different. In particular, 19 of the 48 are different. It's these deltas that turn the output value from positive to negative."
   ]
  },
  {
   "cell_type": "code",
   "execution_count": 315,
   "metadata": {},
   "outputs": [
    {
     "name": "stdout",
     "output_type": "stream",
     "text": [
      "[ 1  2  5  7  9 13 15 19 21 22 23 24 25 29 32 33 39 41 46]\n",
      "19\n"
     ]
    }
   ],
   "source": [
    "idx = np.where(np.abs(activations2[0]-activations1[0]) != 0)[0]\n",
    "print(idx)\n",
    "print(len(idx))"
   ]
  },
  {
   "cell_type": "markdown",
   "metadata": {},
   "source": [
    "Let's take a look at the weights between the dense layer and the output layer."
   ]
  },
  {
   "cell_type": "code",
   "execution_count": 316,
   "metadata": {},
   "outputs": [
    {
     "data": {
      "text/plain": [
       "array([[-0.761328  ],\n",
       "       [-0.38955086],\n",
       "       [ 0.25164682],\n",
       "       [-0.6806838 ],\n",
       "       [-0.07136458],\n",
       "       [ 0.3047489 ],\n",
       "       [-0.6385073 ],\n",
       "       [ 0.7835211 ],\n",
       "       [-0.6200232 ],\n",
       "       [-0.50170296],\n",
       "       [-0.6577847 ],\n",
       "       [ 0.29449475],\n",
       "       [-0.5312026 ],\n",
       "       [-0.6731623 ],\n",
       "       [-0.7349575 ],\n",
       "       [ 0.46927997],\n",
       "       [-0.3264277 ],\n",
       "       [-0.44371608],\n",
       "       [ 0.71423584],\n",
       "       [-0.85676545],\n",
       "       [-0.20595877],\n",
       "       [-0.46982706],\n",
       "       [-0.5891263 ],\n",
       "       [-1.1902316 ],\n",
       "       [-0.3210534 ],\n",
       "       [ 0.39882338],\n",
       "       [ 0.6444201 ],\n",
       "       [ 0.64645594],\n",
       "       [ 0.35224345],\n",
       "       [-0.983503  ],\n",
       "       [ 0.74834156],\n",
       "       [ 0.84980905],\n",
       "       [ 0.43780574],\n",
       "       [ 0.3155208 ],\n",
       "       [ 0.7870005 ],\n",
       "       [ 0.7171342 ],\n",
       "       [ 0.8682368 ],\n",
       "       [-0.20764922],\n",
       "       [ 0.6079553 ],\n",
       "       [ 0.22243673],\n",
       "       [-0.4050627 ],\n",
       "       [ 0.3087789 ],\n",
       "       [-0.4238536 ],\n",
       "       [ 1.3566773 ],\n",
       "       [-0.24332698],\n",
       "       [-0.22672048],\n",
       "       [-0.50912005],\n",
       "       [-0.56752187]], dtype=float32)"
      ]
     },
     "execution_count": 316,
     "metadata": {},
     "output_type": "execute_result"
    }
   ],
   "source": [
    "model.layers[-1].get_weights()[0]"
   ]
  },
  {
   "cell_type": "markdown",
   "metadata": {},
   "source": [
    "We can also plot this data, which makes it easier to digest."
   ]
  },
  {
   "cell_type": "code",
   "execution_count": 317,
   "metadata": {},
   "outputs": [
    {
     "data": {
      "image/png": "[encoded data removed]",
      "text/plain": [
       "<matplotlib.figure.Figure at 0x7fb08e4f1390>"
      ]
     },
     "metadata": {},
     "output_type": "display_data"
    }
   ],
   "source": [
    "plt.bar(list(range(model.layers[-1].get_weights()[0].shape[0])),np.reshape(model.layers[-1].get_weights()[0],(48,)))\n",
    "plt.show()"
   ]
  },
  {
   "cell_type": "markdown",
   "metadata": {},
   "source": [
    "Looking at the weight vector, most of the weights in the first half are negative, and most of the weights in the second half are positive. \n",
    "\n",
    "Given that a sigmoid activation function is used, and all of the activations from the dense layer are positive, my intuition as to how this network operates is that numbers that are divisible by three tend to activate positions that correspond to positive weights, and numbers that are not divisible by three tend to activation positions that correspond to negative weights (resulting in large positive and negative numbers respectively, which translate to probabilities close to 1 and 0, respectively). \n",
    "\n",
    "Looking into the activations within the LSTM layer directly after the input is processed would help shed more light on to how this is done, but I feel that would be difficult due to the fact that the LSTM activation returns 32 outputs. In addition, these 32 outputs are fed to 48 dense nodes, which makes it even more complicated. However, we can at least make sense of the final layer before a classification is produced, which is what we've done here. In general, this is more complex than what I would designed as a human, but it is fascinating to get a glimpse of how the network operates."
   ]
  },
  {
   "cell_type": "markdown",
   "metadata": {},
   "source": [
    "As a final check, let's compute the output from the model and verify that we do get the correct classifications."
   ]
  },
  {
   "cell_type": "code",
   "execution_count": 319,
   "metadata": {},
   "outputs": [
    {
     "name": "stdout",
     "output_type": "stream",
     "text": [
      "[6.67093]\n",
      "[0.9987344]\n"
     ]
    }
   ],
   "source": [
    "sum1 = np.dot(activations1[0],model.layers[-1].get_weights()[0]) + model.layers[-1].get_weights()[1]\n",
    "print(sum1)\n",
    "predict1 = 1/(1+np.exp(-sum1))\n",
    "print(predict1)"
   ]
  },
  {
   "cell_type": "code",
   "execution_count": 320,
   "metadata": {},
   "outputs": [
    {
     "name": "stdout",
     "output_type": "stream",
     "text": [
      "[-6.4659343]\n",
      "[0.00155312]\n"
     ]
    }
   ],
   "source": [
    "sum2 = np.dot(activations2[0],model.layers[-1].get_weights()[0]) + model.layers[-1].get_weights()[1]\n",
    "print(sum2)\n",
    "predict2 = 1/(1+np.exp(-sum2))\n",
    "print(predict2)"
   ]
  },
  {
   "cell_type": "markdown",
   "metadata": {},
   "source": [
    "The number that is divisible by three generates an output of 6.67, which when passed through the sigmoid function generates a probability quite close to one. Likewise, the number that is not divisible by three generates an output of -6.47, which when passed through the sigmoid function generates a probability quite close to zero. As a final check, the delta between the activation returns a value of -13 (ignoring the bias terms), and this roughly corresponds to the drop in output value between 6.67 and -6.47."
   ]
  },
  {
   "cell_type": "code",
   "execution_count": 321,
   "metadata": {},
   "outputs": [
    {
     "name": "stdout",
     "output_type": "stream",
     "text": [
      "[-13.136866]\n"
     ]
    }
   ],
   "source": [
    "sum_diff = np.dot(activations2[0]-activations1[0],model.layers[-1].get_weights()[0])\n",
    "print(sum_diff)"
   ]
  },
  {
   "cell_type": "markdown",
   "metadata": {
    "collapsed": true
   },
   "source": [
    "## Conceptual Overview\n",
    "\n",
    "As explained above, the final network structure is relatively simple. It consists of a single LSTM layer with 32 nodes, a dense layer with 48 nodes, and a output layer with a single node and sigmoid activation. Its purpose is to classify a digit as being divisible by three or not. It works by processing the digits of a number one at a time, maintaining a state between each one, and tuning the weights so that numbers that are divisible by three return a large positive output, and numbers that are not divisible by three return a large negative output (for the sigmoid activation to turn into a probability).\n",
    "\n",
    "I was pleasantly surprised that the model was able to achieve 100% validation accuracy, and thus completely learn the 'divisible by 3' rule. The structure of the RNN, specifically how it is able to 'remember' previous inputs and use this memory to influence future calculations is extremely powerful. Even though this was a simple example, it was something I would not have thought a neural network was capable of beforehand. However, after learning how RNN's operate, it makes perfect sense that this type of rule set would be learnable. As we showed, RNNs are only capable of learning specific types of rules (the network struggled with divisibility by 7), but given a well posed problem, the results can be very powerful."
   ]
  },
  {
   "cell_type": "code",
   "execution_count": null,
   "metadata": {
    "collapsed": true
   },
   "outputs": [],
   "source": []
  }
 ],
 "metadata": {
  "anaconda-cloud": {},
  "kernelspec": {
   "display_name": "Python 2",
   "language": "python",
   "name": "python2"
  },
  "language_info": {
   "codemirror_mode": {
    "name": "ipython",
    "version": 2
   },
   "file_extension": ".py",
   "mimetype": "text/x-python",
   "name": "python",
   "nbconvert_exporter": "python",
   "pygments_lexer": "ipython2",
   "version": "2.7.13"
  }
 },
 "nbformat": 4,
 "nbformat_minor": 2
}
