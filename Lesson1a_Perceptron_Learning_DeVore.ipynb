{
 "cells": [
  {
   "cell_type": "markdown",
   "metadata": {
    "nbgrader": {
     "grade": false,
     "locked": true,
     "solution": false
    }
   },
   "source": [
    "# Lesson 1a: Perceptron Learning"
   ]
  },
  {
   "cell_type": "markdown",
   "metadata": {
    "nbgrader": {
     "grade": false,
     "locked": true,
     "solution": false
    }
   },
   "source": [
    "In this lesson you will implement one of the first algorithms from the history of neural networks: the perceptron.\n",
    "\n",
    "You will NOT be using Keras/Tensorflow or other machine learning toolkits for this problem. Instead, you will implement the perceptron learning rule yourself.\n",
    "\n",
    "Read over the code below. Much has already been done. Areas where you need to add your own code are marked with \"TODO\" comments."
   ]
  },
  {
   "cell_type": "code",
   "execution_count": 35,
   "metadata": {
    "collapsed": true
   },
   "outputs": [],
   "source": [
    "%matplotlib inline\n",
    "import matplotlib.pyplot as plt\n",
    "import numpy as np\n",
    "from sklearn import datasets"
   ]
  },
  {
   "cell_type": "code",
   "execution_count": 36,
   "metadata": {
    "collapsed": true,
    "nbgrader": {
     "grade": false,
     "locked": true,
     "solution": false
    }
   },
   "outputs": [],
   "source": [
    "# Import the 'iris' dataset.\n",
    "iris = datasets.load_iris()\n",
    "X = iris.data[:, :2]  # Use the first two features.\n",
    "y = iris.target\n",
    "x_min = min(X[:, 0])\n",
    "x_max = max(X[:, 0])"
   ]
  },
  {
   "cell_type": "code",
   "execution_count": 37,
   "metadata": {
    "nbgrader": {
     "grade": false,
     "locked": true,
     "solution": false
    }
   },
   "outputs": [
    {
     "data": {
      "image/png": "[encoded data removed]",
      "text/plain": [
       "<matplotlib.figure.Figure at 0x115474ed0>"
      ]
     },
     "metadata": {},
     "output_type": "display_data"
    }
   ],
   "source": [
    "# Plot the data points.\n",
    "def make_plot():\n",
    "    plt.figure(figsize=(8, 6))\n",
    "    markers = ['o', 's', '_']\n",
    "    colors = 'tab:blue', 'tab:orange', 'tab:green'\n",
    "    for i, cat in enumerate(np.unique(y)):\n",
    "        plt.scatter(X[:, 0][y==cat], X[:, 1][y==cat], c=colors[i], marker=markers[i])\n",
    "    plt.xlabel('Sepal length')\n",
    "    plt.ylabel('Sepal width')\n",
    "    plt.legend(['0: Setosa', '1: Versicolour', '2: Virginica'])\n",
    "make_plot()"
   ]
  },
  {
   "cell_type": "markdown",
   "metadata": {
    "nbgrader": {
     "grade": false,
     "locked": true,
     "solution": false
    }
   },
   "source": [
    "## Build a perceptron to distinguish Setosa from the other two varieties"
   ]
  },
  {
   "cell_type": "markdown",
   "metadata": {
    "nbgrader": {
     "grade": false,
     "locked": true,
     "solution": false
    }
   },
   "source": [
    "Versicolour and Virginica are intermixed in this plot; note that some datapoints have identical (length, width) values but differente categories! Thus, we will focus on distinguishing Setosa from the other two, because perceptrons require data to be linearlly separable.\n",
    "\n",
    "The perceptron will have a simple structure:\n",
    "    \n",
    "    * Two input nodes: one for Sepal length, one for Sepal width.\n",
    "    * One output node: the output will be 0 for Setosa (category 0), and 1 for either of the other two categories."
   ]
  },
  {
   "cell_type": "code",
   "execution_count": 38,
   "metadata": {
    "collapsed": true
   },
   "outputs": [],
   "source": [
    "class Perceptron():\n",
    "    \"\"\"Simple perceptron with 2 inputs and 1 output.\"\"\"\n",
    "    \n",
    "    def __init__(self):\n",
    "        # Initialize the perceptron weights and the bias term.\n",
    "        self._w = [0, 0]\n",
    "        self._b = 0\n",
    "        # Add properties for tracking the accuracy during training\n",
    "        self._accuracy_tracker = []\n",
    "        self._acc = 0\n",
    "    \n",
    "    def predict(self, x, verbose=False):\n",
    "        \"\"\"x is the input weight vector. Output is the result of running the perceptron on this input.\n",
    "        \n",
    "        Implement the Perceptron rule that involves multiplying weights by input, adding in bias, using a threshold, etc.\n",
    "        \n",
    "        The returned output should be 1 or 0.\n",
    "        \n",
    "        Use the \"verbose\" flag to print debugging info if desired.\n",
    "        \"\"\"\n",
    "        # Compute z as dot product of weights and x plus the bias term\n",
    "        z = np.dot(self._w,x) + self._b\n",
    "        # Assuming a threshold of zero, return 1 if z > 0, 0 otherwise\n",
    "        y = 1 if z > 0 else 0\n",
    "        \n",
    "        if verbose:\n",
    "            # Print computation results here if desired.\n",
    "            print('--> Inside predict. Current weights: %s' % self._w)\n",
    "            print('--> Inside predict. Current bias: %s' % self._b)\n",
    "            print('--> Inside predict. X values: %s' % x)\n",
    "            print('--> Inside predict. z value: %f' % z)\n",
    "            print('--> Inside predict. y value: %f' % y)\n",
    "            pass\n",
    "        \n",
    "        return y\n",
    "        \n",
    "    def accuracy(self, x, y):\n",
    "        \"\"\"Compute the total % accuracy over a set of inputs x and corresponding outputs y.\"\"\"\n",
    "        correct = 0\n",
    "        for i in range(len(x)):\n",
    "            example_x = x[i]\n",
    "            example_y = y[i]\n",
    "            if self.predict(example_x) == example_y:\n",
    "                correct += 1\n",
    "        return float(correct) / len(x)\n",
    "            \n",
    "    def update_weights(self, x, target, verbose=False):\n",
    "        \"\"\"Update the perceptron's weights according to the perceptron learning rule.\n",
    "        \n",
    "        x is an input example, and target is the desired output.\n",
    "        \n",
    "        This function should modify self._b and self._w. It has no return value.\n",
    "        \n",
    "        Use the \"verbose\" flag to print debugging info if desired.\n",
    "        \"\"\"\n",
    "        current_output = self.predict(x, verbose)\n",
    "\n",
    "        if verbose:\n",
    "            print('--> Inside update weights. Target = %f' % target)\n",
    "            print('--> Inside update weights. Current output = %f' % current_output)\n",
    "        \n",
    "        # Update weights and bias\n",
    "        self._w += (target - current_output) * x\n",
    "        # For bias term, assume x = 1\n",
    "        self._b += (target - current_output)\n",
    "        \n",
    "    def train(self, x, y, num_iterations, verbose=False):\n",
    "        \"\"\"Train the perceptron for the given number of iterations on the input data x with \n",
    "        corresponding target values y.\n",
    "        \n",
    "        Use the \"verbose\" flag to print debugging info if desired.\n",
    "        \"\"\"\n",
    "        assert(len(x) == len(y))\n",
    "        for i in range(num_iterations):\n",
    "            for j in range(len(x)):\n",
    "                example_x = x[j]\n",
    "                example_y = y[j]\n",
    "\n",
    "                # Train the perceptron on this input/output example pair (example_x, example_y).\n",
    "                # This should update the perceptron's weights.\n",
    "                self.update_weights(example_x, example_y, verbose)\n",
    "                \n",
    "                if verbose:\n",
    "                    print('--> Inside train. Weights:', self._w)\n",
    "                    print('--> Inside train. Bias:', self._b)                      \n",
    "                    pass\n",
    "                    \n",
    "            # Print some useful info during training.\n",
    "            acc = self.accuracy(x, y)\n",
    "            self._acc = acc*100\n",
    "            self._accuracy_tracker.append(acc*100)\n",
    "            # Stop early if 100% accuracy achieved\n",
    "            if abs(acc-1) < 1e-6:\n",
    "                print('100% accuracy achieved. Exiting...')\n",
    "                return\n",
    "            "
   ]
  },
  {
   "cell_type": "markdown",
   "metadata": {},
   "source": [
    "## Set up dataset for training a Setosa/not-Setosa classifier"
   ]
  },
  {
   "cell_type": "code",
   "execution_count": 39,
   "metadata": {
    "collapsed": true,
    "nbgrader": {
     "grade": false,
     "locked": true,
     "solution": false
    }
   },
   "outputs": [],
   "source": [
    "def get_shuffled_data(x, y):\n",
    "    \"\"\"Convenient function to shuffle data and outputs, to inject some randomness into training.\"\"\"\n",
    "    # Create shuffle pattern of indices.\n",
    "    s = np.arange(x.shape[0])\n",
    "    np.random.shuffle(s)\n",
    "    \n",
    "    # Apply suffle pattern to x and y.\n",
    "    x_shuffled = x[s]\n",
    "    y_shuffled = y[s]\n",
    "    return x_shuffled, y_shuffled"
   ]
  },
  {
   "cell_type": "code",
   "execution_count": 40,
   "metadata": {
    "collapsed": true,
    "nbgrader": {
     "grade": false,
     "locked": true,
     "solution": false
    }
   },
   "outputs": [],
   "source": [
    "# Map data labels to just two categories.\n",
    "y_two_categories = np.array([0 if i==0 else 1 for i in y])"
   ]
  },
  {
   "cell_type": "code",
   "execution_count": 41,
   "metadata": {
    "collapsed": true,
    "nbgrader": {
     "grade": false,
     "locked": true,
     "solution": false
    }
   },
   "outputs": [],
   "source": [
    "X_shuffled, y_shuffled = get_shuffled_data(X, y_two_categories)"
   ]
  },
  {
   "cell_type": "markdown",
   "metadata": {
    "nbgrader": {
     "grade": false,
     "locked": true,
     "solution": false
    }
   },
   "source": [
    "## Train a perceptron on the shuffled data\n",
    "Try to get as high an accuracy as possible."
   ]
  },
  {
   "cell_type": "code",
   "execution_count": 42,
   "metadata": {
    "nbgrader": {
     "grade": false,
     "locked": false,
     "solution": false
    }
   },
   "outputs": [
    {
     "name": "stdout",
     "output_type": "stream",
     "text": [
      "100% accuracy achieved. Exiting...\n"
     ]
    }
   ],
   "source": [
    "p = Perceptron()\n",
    "# Train the model\n",
    "p.train(X_shuffled,y_shuffled,10000,verbose=False)"
   ]
  },
  {
   "cell_type": "markdown",
   "metadata": {},
   "source": [
    "The section below plots the accuracy as a function of the iteration number. Note that the algorithm was modified to stop if the accuracy achieves 100% before the given number of iterations."
   ]
  },
  {
   "cell_type": "code",
   "execution_count": 43,
   "metadata": {},
   "outputs": [
    {
     "name": "stdout",
     "output_type": "stream",
     "text": [
      "Accuracy using current parameters: 100.00%\n"
     ]
    },
    {
     "data": {
      "text/plain": [
       "[<matplotlib.lines.Line2D at 0x115d90650>]"
      ]
     },
     "execution_count": 43,
     "metadata": {},
     "output_type": "execute_result"
    },
    {
     "data": {
      "image/png": "[encoded data removed]",
      "text/plain": [
       "<matplotlib.figure.Figure at 0x11615f2d0>"
      ]
     },
     "metadata": {},
     "output_type": "display_data"
    }
   ],
   "source": [
    "print('Accuracy using current parameters: %4.2f%%' % p._acc)\n",
    "plt.figure(figsize=(8,6))\n",
    "plt.xlabel('Iteration')\n",
    "plt.ylabel('Accuracy (%)')\n",
    "plt.ylim(0,105)\n",
    "plt.plot(p._accuracy_tracker)"
   ]
  },
  {
   "cell_type": "markdown",
   "metadata": {
    "nbgrader": {
     "grade": false,
     "locked": true,
     "solution": false
    }
   },
   "source": [
    "## Plot the learned perceptron decision boundary"
   ]
  },
  {
   "cell_type": "markdown",
   "metadata": {
    "nbgrader": {
     "grade": false,
     "locked": true,
     "solution": false
    }
   },
   "source": [
    "Our perceptron makes decisions based on the value of b + w1x1 + w2x2. We can set this to 0 and solve to find the decision boundary. \n",
    "\n",
    "Complete the function below to compute x2 (the y axis in the plot above) as a function of b, w1, x1, w2 for a given perceptron:  \n",
    "x2 = (-b - w1x1) / w2"
   ]
  },
  {
   "cell_type": "code",
   "execution_count": 44,
   "metadata": {
    "collapsed": true,
    "nbgrader": {
     "grade": false,
     "locked": false,
     "solution": false
    }
   },
   "outputs": [],
   "source": [
    "def get_y_decision_boundary(x1, perceptron):\n",
    "    x2 = (-perceptron._b - perceptron._w[0]*x1)/perceptron._w[1]\n",
    "    return x2"
   ]
  },
  {
   "cell_type": "markdown",
   "metadata": {
    "nbgrader": {
     "grade": false,
     "locked": true,
     "solution": false
    }
   },
   "source": [
    "### Compute the decision boundary for the perceptron trained above, and plot it."
   ]
  },
  {
   "cell_type": "code",
   "execution_count": 45,
   "metadata": {
    "nbgrader": {
     "grade": false,
     "locked": true,
     "solution": false
    }
   },
   "outputs": [
    {
     "data": {
      "text/plain": [
       "(2.1121379310345243, 5.0467586206897677)"
      ]
     },
     "execution_count": 45,
     "metadata": {},
     "output_type": "execute_result"
    }
   ],
   "source": [
    "y1 = get_y_decision_boundary(x_min, p)\n",
    "y2 = get_y_decision_boundary(x_max, p)\n",
    "y1, y2"
   ]
  },
  {
   "cell_type": "code",
   "execution_count": 46,
   "metadata": {
    "nbgrader": {
     "grade": false,
     "locked": true,
     "solution": false
    }
   },
   "outputs": [
    {
     "data": {
      "text/plain": [
       "[<matplotlib.lines.Line2D at 0x111e403d0>]"
      ]
     },
     "execution_count": 46,
     "metadata": {},
     "output_type": "execute_result"
    },
    {
     "data": {
      "image/png": "[encoded data removed]",
      "text/plain": [
       "<matplotlib.figure.Figure at 0x111e40710>"
      ]
     },
     "metadata": {},
     "output_type": "display_data"
    }
   ],
   "source": [
    "make_plot()\n",
    "plt.plot([x_min,x_max], [y1,y2], ls='dashed', c='tab:red')"
   ]
  },
  {
   "cell_type": "markdown",
   "metadata": {
    "nbgrader": {
     "grade": false,
     "locked": true,
     "solution": false
    }
   },
   "source": [
    "## Another model: Virginica/not-Virginica classifier"
   ]
  },
  {
   "cell_type": "markdown",
   "metadata": {
    "nbgrader": {
     "grade": false,
     "locked": true,
     "solution": false
    }
   },
   "source": [
    "Build a new model, but grouping categories 0 and 1 together, trying to separate out Virginica from the other two classes."
   ]
  },
  {
   "cell_type": "code",
   "execution_count": 47,
   "metadata": {
    "collapsed": true,
    "nbgrader": {
     "grade": false,
     "locked": true,
     "solution": false
    }
   },
   "outputs": [],
   "source": [
    "y_two_categories_2 = np.array([0 if i==2 else 1 for i in y])"
   ]
  },
  {
   "cell_type": "code",
   "execution_count": 48,
   "metadata": {},
   "outputs": [],
   "source": [
    "X_shuffled, y_shuffled = get_shuffled_data(X, y_two_categories_2)\n",
    "p2 = Perceptron()\n",
    "# Train the perceptron\n",
    "p2.train(X_shuffled,y_shuffled,10000,verbose=False)"
   ]
  },
  {
   "cell_type": "code",
   "execution_count": 49,
   "metadata": {},
   "outputs": [
    {
     "name": "stdout",
     "output_type": "stream",
     "text": [
      "Accuracy using current parameters: 64.00%\n"
     ]
    },
    {
     "data": {
      "text/plain": [
       "[<matplotlib.lines.Line2D at 0x1161a2990>]"
      ]
     },
     "execution_count": 49,
     "metadata": {},
     "output_type": "execute_result"
    },
    {
     "data": {
      "image/png": "[encoded data removed]",
      "text/plain": [
       "<matplotlib.figure.Figure at 0x116168750>"
      ]
     },
     "metadata": {},
     "output_type": "display_data"
    }
   ],
   "source": [
    "print('Accuracy using current parameters: %4.2f%%' % p2._acc)\n",
    "plt.figure(figsize=(8,6))\n",
    "plt.xlabel('Iteration')\n",
    "plt.ylabel('Accuracy (%)')\n",
    "plt.ylim(0,105)\n",
    "plt.plot(p2._accuracy_tracker)"
   ]
  },
  {
   "cell_type": "markdown",
   "metadata": {},
   "source": [
    "Note that 100% accuracy was never achieved for this classifier, the upper limit appears to be just over 80%."
   ]
  },
  {
   "cell_type": "markdown",
   "metadata": {},
   "source": [
    "# Calculate the decision boundary and plot it."
   ]
  },
  {
   "cell_type": "code",
   "execution_count": 50,
   "metadata": {
    "collapsed": true,
    "nbgrader": {
     "grade": false,
     "locked": true,
     "solution": false
    }
   },
   "outputs": [],
   "source": [
    "y1 = get_y_decision_boundary(x_min, p2)\n",
    "y2 = get_y_decision_boundary(x_max, p2)"
   ]
  },
  {
   "cell_type": "code",
   "execution_count": 51,
   "metadata": {
    "nbgrader": {
     "grade": false,
     "locked": true,
     "solution": false
    }
   },
   "outputs": [
    {
     "data": {
      "text/plain": [
       "[<matplotlib.lines.Line2D at 0x11614c710>]"
      ]
     },
     "execution_count": 51,
     "metadata": {},
     "output_type": "execute_result"
    },
    {
     "data": {
      "image/png": "[encoded data removed]",
      "text/plain": [
       "<matplotlib.figure.Figure at 0x11614c450>"
      ]
     },
     "metadata": {},
     "output_type": "display_data"
    }
   ],
   "source": [
    "make_plot()\n",
    "plt.plot([x_min,x_max], [y1,y2], ls='dashed', c='tab:red')"
   ]
  },
  {
   "cell_type": "markdown",
   "metadata": {
    "collapsed": true,
    "nbgrader": {
     "grade": false,
     "locked": true,
     "solution": false
    }
   },
   "source": [
    "# Discuss the results in the cell below. How did the two perceptrons compare? "
   ]
  },
  {
   "cell_type": "markdown",
   "metadata": {},
   "source": [
    "The first perceptron was able to completely separate the Setosa from the Not-Setosa class. The maximum achievable accuracy of the classifier was 100%, and this is due to the fact that the classes are linearly separable, and there is no overlap between classes.\n",
    "\n",
    "The second perceptron was not able to completely separate the Virginica from the Not-Virginica class. The maximum achievable accuracy was approximately 83%, and this is due to the fact that the classes are not linearly separable, and there is significant overalap between the classes. In fact, some observations contained the same features but were assigned to both classes. A possible solution to this problem would be to try a different combination of features that better separate the classes, or to add hidden layers to enable a non-linear boundary."
   ]
  },
  {
   "cell_type": "markdown",
   "metadata": {
    "collapsed": true
   },
   "source": [
    "# Conceptual Overview"
   ]
  },
  {
   "cell_type": "markdown",
   "metadata": {
    "collapsed": true
   },
   "source": [
    "The network structure of the perceptron is a very simple. It consists of a finite number of input nodes that connect to a single central node, which connects to an output node. There are weights associated with each input node, and a single bias term. Its purpose is to model any function or decision boundary that is linearly separable, such as the logical AND or OR functions, or a binary classifier that is separable with a linear boundary, such as the iris example above. \n",
    "\n",
    "Assuming the input consists of a matrix (X) and a vector of expected results (y), the perceptron works as follows: For each row, compute the dot product of the row with the weights, and add the bias term. If this is greater than zero, the central node outputs 1, 0 otherwise. This output is compared with the expected value in y, and the weights are updated by adding the corresponding value of x multiplied by the delta between the current and expected values. This process repeats until convergence is achieved (assuming a linearly separable function or decision boundary), or until the desired number of iterations has passed.\n",
    "\n",
    "As seen in the first part of the assignment, for a linearly separable dataset the model can achieve 100% accuracy given enough iterations. However, as seen in the second part, if the dataset is not linearly separable, performance will be suboptimal, and there is no way to achieve 100% accuracy. In this case, a nonlinear method would be required to achieve higher accuracy."
   ]
  },
  {
   "cell_type": "code",
   "execution_count": null,
   "metadata": {
    "collapsed": true
   },
   "outputs": [],
   "source": []
  }
 ],
 "metadata": {
  "kernelspec": {
   "display_name": "Python 2",
   "language": "python",
   "name": "python2"
  },
  "language_info": {
   "codemirror_mode": {
    "name": "ipython",
    "version": 2
   },
   "file_extension": ".py",
   "mimetype": "text/x-python",
   "name": "python",
   "nbconvert_exporter": "python",
   "pygments_lexer": "ipython2",
   "version": "2.7.13"
  }
 },
 "nbformat": 4,
 "nbformat_minor": 2
}
