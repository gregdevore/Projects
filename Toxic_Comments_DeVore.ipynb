{
 "cells": [
  {
   "cell_type": "markdown",
   "metadata": {},
   "source": [
    "# Toxic Comment Classification\n",
    "## Greg DeVore\n",
    "## December 27th, 2018"
   ]
  },
  {
   "cell_type": "markdown",
   "metadata": {},
   "source": [
    "The purpose of this writeup is to try and determine whether an online comment is toxic. We will explore both shallow and deep learning approaches to a binary classification formulation (toxic vs. non-toxic), and a deep learning approach to a multilabel, multiclass formulation (individual flags for specific types of toxicity).\n",
    "\n",
    "After exploring these approaches, we'll find that a shallow learning approach (multinomial naive Bayes) works best for the binary classification formulation, and that a deep learning approach works fairly well for the more complicated multilabel, multiclass formulation."
   ]
  },
  {
   "cell_type": "markdown",
   "metadata": {},
   "source": [
    "## Data Import and Exploration\n",
    "\n",
    "To start, let's import the comment data."
   ]
  },
  {
   "cell_type": "code",
   "execution_count": 3,
   "metadata": {},
   "outputs": [],
   "source": [
    "from keras.models import Sequential\n",
    "from keras.layers import Flatten, Dense, Embedding\n",
    "from keras import preprocessing\n",
    "from keras import optimizers\n",
    "\n",
    "import pandas as pd\n",
    "import numpy as np\n",
    "\n",
    "from sklearn import model_selection\n",
    "from sklearn.feature_extraction.text import CountVectorizer\n",
    "from sklearn.feature_extraction.text import TfidfTransformer\n",
    "from sklearn.naive_bayes import MultinomialNB\n",
    "from sklearn.metrics import confusion_matrix\n",
    "from sklearn.pipeline import Pipeline\n",
    "from sklearn.metrics import label_ranking_average_precision_score\n",
    "\n",
    "import matplotlib.pyplot as plt\n",
    "import string\n",
    "import re\n",
    "import random"
   ]
  },
  {
   "cell_type": "code",
   "execution_count": 4,
   "metadata": {},
   "outputs": [],
   "source": [
    "# Load comment data\n",
    "comments = pd.read_csv('train.csv')"
   ]
  },
  {
   "cell_type": "markdown",
   "metadata": {},
   "source": [
    "Let's see how many comments are in our data set, along with the schema. We'll create a new field that indicates whether a comment is toxic to assist in the binary classification formulation."
   ]
  },
  {
   "cell_type": "code",
   "execution_count": 5,
   "metadata": {},
   "outputs": [
    {
     "data": {
      "text/plain": [
       "(159571, 8)"
      ]
     },
     "execution_count": 5,
     "metadata": {},
     "output_type": "execute_result"
    }
   ],
   "source": [
    "comments.shape"
   ]
  },
  {
   "cell_type": "code",
   "execution_count": 6,
   "metadata": {},
   "outputs": [],
   "source": [
    "# Create new binary feature for toxic vs non-toxic\n",
    "toxic_sum = np.sum(comments.iloc[:,2:],axis=1)\n",
    "toxic_sum[toxic_sum > 0] = 1\n",
    "comments['is_toxic'] = toxic_sum"
   ]
  },
  {
   "cell_type": "code",
   "execution_count": 7,
   "metadata": {},
   "outputs": [
    {
     "data": {
      "text/html": [
       "<div>\n",
       "<style scoped>\n",
       "    .dataframe tbody tr th:only-of-type {\n",
       "        vertical-align: middle;\n",
       "    }\n",
       "\n",
       "    .dataframe tbody tr th {\n",
       "        vertical-align: top;\n",
       "    }\n",
       "\n",
       "    .dataframe thead th {\n",
       "        text-align: right;\n",
       "    }\n",
       "</style>\n",
       "<table border=\"1\" class=\"dataframe\">\n",
       "  <thead>\n",
       "    <tr style=\"text-align: right;\">\n",
       "      <th></th>\n",
       "      <th>id</th>\n",
       "      <th>comment_text</th>\n",
       "      <th>toxic</th>\n",
       "      <th>severe_toxic</th>\n",
       "      <th>obscene</th>\n",
       "      <th>threat</th>\n",
       "      <th>insult</th>\n",
       "      <th>identity_hate</th>\n",
       "      <th>is_toxic</th>\n",
       "    </tr>\n",
       "  </thead>\n",
       "  <tbody>\n",
       "    <tr>\n",
       "      <th>0</th>\n",
       "      <td>0000997932d777bf</td>\n",
       "      <td>Explanation\\nWhy the edits made under my usern...</td>\n",
       "      <td>0</td>\n",
       "      <td>0</td>\n",
       "      <td>0</td>\n",
       "      <td>0</td>\n",
       "      <td>0</td>\n",
       "      <td>0</td>\n",
       "      <td>0</td>\n",
       "    </tr>\n",
       "    <tr>\n",
       "      <th>1</th>\n",
       "      <td>000103f0d9cfb60f</td>\n",
       "      <td>D'aww! He matches this background colour I'm s...</td>\n",
       "      <td>0</td>\n",
       "      <td>0</td>\n",
       "      <td>0</td>\n",
       "      <td>0</td>\n",
       "      <td>0</td>\n",
       "      <td>0</td>\n",
       "      <td>0</td>\n",
       "    </tr>\n",
       "    <tr>\n",
       "      <th>2</th>\n",
       "      <td>000113f07ec002fd</td>\n",
       "      <td>Hey man, I'm really not trying to edit war. It...</td>\n",
       "      <td>0</td>\n",
       "      <td>0</td>\n",
       "      <td>0</td>\n",
       "      <td>0</td>\n",
       "      <td>0</td>\n",
       "      <td>0</td>\n",
       "      <td>0</td>\n",
       "    </tr>\n",
       "    <tr>\n",
       "      <th>3</th>\n",
       "      <td>0001b41b1c6bb37e</td>\n",
       "      <td>\"\\nMore\\nI can't make any real suggestions on ...</td>\n",
       "      <td>0</td>\n",
       "      <td>0</td>\n",
       "      <td>0</td>\n",
       "      <td>0</td>\n",
       "      <td>0</td>\n",
       "      <td>0</td>\n",
       "      <td>0</td>\n",
       "    </tr>\n",
       "    <tr>\n",
       "      <th>4</th>\n",
       "      <td>0001d958c54c6e35</td>\n",
       "      <td>You, sir, are my hero. Any chance you remember...</td>\n",
       "      <td>0</td>\n",
       "      <td>0</td>\n",
       "      <td>0</td>\n",
       "      <td>0</td>\n",
       "      <td>0</td>\n",
       "      <td>0</td>\n",
       "      <td>0</td>\n",
       "    </tr>\n",
       "  </tbody>\n",
       "</table>\n",
       "</div>"
      ],
      "text/plain": [
       "                 id                                       comment_text  toxic  \\\n",
       "0  0000997932d777bf  Explanation\\nWhy the edits made under my usern...      0   \n",
       "1  000103f0d9cfb60f  D'aww! He matches this background colour I'm s...      0   \n",
       "2  000113f07ec002fd  Hey man, I'm really not trying to edit war. It...      0   \n",
       "3  0001b41b1c6bb37e  \"\\nMore\\nI can't make any real suggestions on ...      0   \n",
       "4  0001d958c54c6e35  You, sir, are my hero. Any chance you remember...      0   \n",
       "\n",
       "   severe_toxic  obscene  threat  insult  identity_hate  is_toxic  \n",
       "0             0        0       0       0              0         0  \n",
       "1             0        0       0       0              0         0  \n",
       "2             0        0       0       0              0         0  \n",
       "3             0        0       0       0              0         0  \n",
       "4             0        0       0       0              0         0  "
      ]
     },
     "execution_count": 7,
     "metadata": {},
     "output_type": "execute_result"
    }
   ],
   "source": [
    "comments.head()"
   ]
  },
  {
   "cell_type": "markdown",
   "metadata": {},
   "source": [
    "From the dataset, there are individual flags for specific types of toxicity. A value of zero for all of these fields indicates a non-toxic comment. Let's go ahead and plot the newly created 'is_toxic' field to get a sense of how well balanced the toxic and non-toxic classes are."
   ]
  },
  {
   "cell_type": "code",
   "execution_count": 6,
   "metadata": {},
   "outputs": [
    {
     "data": {
      "image/png": "[encoded data removed]",
      "text/plain": [
       "<Figure size 432x288 with 1 Axes>"
      ]
     },
     "metadata": {},
     "output_type": "display_data"
    }
   ],
   "source": [
    "toxic_sum.value_counts().plot('bar')\n",
    "plt.xlabel('Toxic')\n",
    "plt.ylabel('Count')\n",
    "plt.xticks(rotation=0)\n",
    "plt.draw()"
   ]
  },
  {
   "cell_type": "code",
   "execution_count": 7,
   "metadata": {},
   "outputs": [
    {
     "data": {
      "text/plain": [
       "10.167887648758233"
      ]
     },
     "execution_count": 7,
     "metadata": {},
     "output_type": "execute_result"
    }
   ],
   "source": [
    "# Percent of comments that are toxic\n",
    "np.sum(comments['is_toxic'])/comments.shape[0] * 100"
   ]
  },
  {
   "cell_type": "markdown",
   "metadata": {},
   "source": [
    "From the histogram, only about 10% of the comments are toxic. This is a relatively severe imbalance that needs to be taken into account when training our classifiers.\n",
    "\n",
    "As a final preprocessing step, let's clean up the comments by removing any special and newline characters, as well as numbers."
   ]
  },
  {
   "cell_type": "code",
   "execution_count": 8,
   "metadata": {},
   "outputs": [],
   "source": [
    "to_remove = '[' + string.punctuation + '1234567890' + ']'"
   ]
  },
  {
   "cell_type": "code",
   "execution_count": 9,
   "metadata": {},
   "outputs": [],
   "source": [
    "# Remove special characters and replace newline with space\n",
    "comments['comment_text'] = comments['comment_text'].apply(lambda x: re.sub(to_remove,'',x).replace('\\n',' '))"
   ]
  },
  {
   "cell_type": "markdown",
   "metadata": {},
   "source": [
    "Finally, it will be helpful to have a function that prints the constituent parts and common metrics from the confusion matrix (true/false positives/negatives, accuracy, precision, and recall) to help evaluate the effectiveness of our classifiers."
   ]
  },
  {
   "cell_type": "code",
   "execution_count": 10,
   "metadata": {},
   "outputs": [],
   "source": [
    "def printMetrics(pred,true):\n",
    "    cm = confusion_matrix(true,pred)\n",
    "    tn, fp, fn, tp = cm.ravel()\n",
    "    print('True negatives: %i' % tn)\n",
    "    print('False positives: %i' % fp)\n",
    "    print('False negatives: %i' % fn)\n",
    "    print('True positives: %i' % tp)\n",
    "    acc = np.sum(np.diag(cm))/np.sum(cm)\n",
    "    print('Accuracy: %4.2f' % acc)\n",
    "    precision = tp/(tp+fp)\n",
    "    recall = tp/(tp+fn)\n",
    "    print('Precision: %4.2f' % precision)\n",
    "    print('Recall: %4.2f' % recall)"
   ]
  },
  {
   "cell_type": "markdown",
   "metadata": {},
   "source": [
    "## Multinomial Naive Bayes\n",
    "\n",
    "Our first approach will be to use a multinomial naive Bayes model to predict whether a comment is toxic or not. This approach uses Bayes theorem and what is known as the 'bag of words' approach, where the words within a comment are considered independent of one another. Specifically, each word within a comment is given a probability of toxicity based on a set of comments used to train the model. Then, each review within a separate test set is assigned a probability of being toxic vs non-toxic based on the words it contains. The class with the highest probability determines the label assigned to the comment.\n",
    "\n",
    "First, let's randomly split the data into training and testing sets (70% and 30%, respectively)."
   ]
  },
  {
   "cell_type": "code",
   "execution_count": 11,
   "metadata": {},
   "outputs": [],
   "source": [
    "# Create separate training/testing sets\n",
    "x_train, x_test, y_train, y_test = model_selection.train_test_split(comments['comment_text'], comments['is_toxic'], test_size=0.3, random_state=327)"
   ]
  },
  {
   "cell_type": "markdown",
   "metadata": {},
   "source": [
    "Next, let's create a pipeline to assist in creating our model. First, we'll use a count vectorizer to create a dictionary of key/value pairs of the count for each unique word (each word is a key, and the value is the number of times the word appears). Next, we'll give each word a tf-idf (term frequency, inverse document frequency) score, which is highest for words that appear frequently in only a few comments (potential good indicators of toxicity, given the rarity of toxic comments). Finally, we'll use the tf-idf scored training dataset through a multinomial naive Bayes classifier."
   ]
  },
  {
   "cell_type": "code",
   "execution_count": 12,
   "metadata": {},
   "outputs": [],
   "source": [
    "comment_clf = Pipeline([('vect', CountVectorizer()), \n",
    "                       ('tf', TfidfTransformer()), \n",
    "                       ('clf', MultinomialNB())])"
   ]
  },
  {
   "cell_type": "markdown",
   "metadata": {},
   "source": [
    "Now that we have our pipeline, let's run the training dataset through it."
   ]
  },
  {
   "cell_type": "code",
   "execution_count": 13,
   "metadata": {},
   "outputs": [
    {
     "data": {
      "text/plain": [
       "Pipeline(memory=None,\n",
       "     steps=[('vect', CountVectorizer(analyzer='word', binary=False, decode_error='strict',\n",
       "        dtype=<class 'numpy.int64'>, encoding='utf-8', input='content',\n",
       "        lowercase=True, max_df=1.0, max_features=None, min_df=1,\n",
       "        ngram_range=(1, 1), preprocessor=None, stop_words=None,\n",
       "        strip...inear_tf=False, use_idf=True)), ('clf', MultinomialNB(alpha=1.0, class_prior=None, fit_prior=True))])"
      ]
     },
     "execution_count": 13,
     "metadata": {},
     "output_type": "execute_result"
    }
   ],
   "source": [
    "comment_clf.fit(x_train, y_train)"
   ]
  },
  {
   "cell_type": "markdown",
   "metadata": {},
   "source": [
    "Now, we can predict the toxicity of our test dataset and view the relevant metrics."
   ]
  },
  {
   "cell_type": "code",
   "execution_count": 14,
   "metadata": {},
   "outputs": [],
   "source": [
    "y_pred = comment_clf.predict(x_test)"
   ]
  },
  {
   "cell_type": "code",
   "execution_count": 15,
   "metadata": {},
   "outputs": [
    {
     "name": "stdout",
     "output_type": "stream",
     "text": [
      "True negatives: 42937\n",
      "False positives: 2\n",
      "False negatives: 4187\n",
      "True positives: 746\n",
      "Accuracy: 0.91\n",
      "Precision: 1.00\n",
      "Recall: 0.15\n"
     ]
    }
   ],
   "source": [
    "printMetrics(y_pred,y_test)"
   ]
  },
  {
   "cell_type": "markdown",
   "metadata": {},
   "source": [
    "At first glance, an accuracy of 91% seems impressive. However, recall that our class data set is imbalanced (roughly 90% of comments are non-toxic), so this accuracy could be achieved by simply classifying every comment as non-toxic, which is not useful at all. The most important quantities for us are the true positives (toxic comments classified as such), and false negatives (comments that we said were non-toxic but were actually toxic). If our ultimate goal is to remove toxic messages, the false negative count indicates the number that 'slipped through' our sensors. \n",
    "\n",
    "With this in mind, the most relevant metric for us is the recall, also known as the sensitivity or true positive rate. This metric gives the ratio of true positives to the sum of true positives and false negatives. In other words, what percentage of toxic comments did we correctly classify? The answer is only 15%! This result is typical when dealing with an imbalanced data set, and one of the easiest ways to help our classifier is to randomly upsample the minority class (in this case, artificially create more toxic comments so that the numbers are balanced)."
   ]
  },
  {
   "cell_type": "markdown",
   "metadata": {},
   "source": [
    "## Multinomial Naive Bayes (Upsampled)\n",
    "\n",
    "Let's randomly sample from the toxic comments (with replacement!), retrain our classifier, and recalculate the performance on our test dataset."
   ]
  },
  {
   "cell_type": "code",
   "execution_count": 16,
   "metadata": {},
   "outputs": [],
   "source": [
    "# Try upsampling minority class\n",
    "idx_clean = np.where(y_train == 0)[0]\n",
    "idx_toxic = np.where(y_train == 1)[0]"
   ]
  },
  {
   "cell_type": "code",
   "execution_count": 18,
   "metadata": {},
   "outputs": [
    {
     "name": "stdout",
     "output_type": "stream",
     "text": [
      "100407\n"
     ]
    }
   ],
   "source": [
    "idx_toxic_upsampled = np.random.choice(idx_toxic, size=len(idx_clean), replace=True)"
   ]
  },
  {
   "cell_type": "code",
   "execution_count": 19,
   "metadata": {},
   "outputs": [],
   "source": [
    "# Combine clean labels and upsample labels\n",
    "x_train_upsampled = pd.concat([x_train.iloc[idx_clean], x_train.iloc[idx_toxic_upsampled]])\n",
    "y_train_upsampled = pd.concat([y_train.iloc[idx_clean], y_train.iloc[idx_toxic_upsampled]])"
   ]
  },
  {
   "cell_type": "code",
   "execution_count": 20,
   "metadata": {},
   "outputs": [
    {
     "data": {
      "text/plain": [
       "Pipeline(memory=None,\n",
       "     steps=[('vect', CountVectorizer(analyzer='word', binary=False, decode_error='strict',\n",
       "        dtype=<class 'numpy.int64'>, encoding='utf-8', input='content',\n",
       "        lowercase=True, max_df=1.0, max_features=None, min_df=1,\n",
       "        ngram_range=(1, 1), preprocessor=None, stop_words=None,\n",
       "        strip...inear_tf=False, use_idf=True)), ('clf', MultinomialNB(alpha=1.0, class_prior=None, fit_prior=True))])"
      ]
     },
     "execution_count": 20,
     "metadata": {},
     "output_type": "execute_result"
    }
   ],
   "source": [
    "comment_clf.fit(x_train_upsampled, y_train_upsampled)"
   ]
  },
  {
   "cell_type": "code",
   "execution_count": 21,
   "metadata": {},
   "outputs": [],
   "source": [
    "y_pred = comment_clf.predict(x_test)"
   ]
  },
  {
   "cell_type": "code",
   "execution_count": 23,
   "metadata": {},
   "outputs": [
    {
     "name": "stdout",
     "output_type": "stream",
     "text": [
      "True negatives: 38798\n",
      "False positives: 4141\n",
      "False negatives: 762\n",
      "True positives: 4171\n",
      "Accuracy: 0.90\n",
      "Precision: 0.50\n",
      "Recall: 0.85\n"
     ]
    }
   ],
   "source": [
    "printMetrics(y_pred,y_test)"
   ]
  },
  {
   "cell_type": "markdown",
   "metadata": {},
   "source": [
    "This result is much more promising, although the improved performance came at a cost. Our accuracy is still around 90%, but our precision dropped from 100% to 50%. Precision helps us answer the question: How many comments that we flagged as toxic were actually toxic? The answer here is about 50%, and the drop in precision means we mistakenly flagged many more non-toxic comments as toxic, so they would be erroneously removed from whatever forum we were monitoring. However, if our ultimate goal is to remove toxic comments, this tradeoff may be worth it, as we are now correctly identifying 85% of all toxic comments, versus only 15% before."
   ]
  },
  {
   "cell_type": "markdown",
   "metadata": {},
   "source": [
    "## Neural Network (Keras)"
   ]
  },
  {
   "cell_type": "markdown",
   "metadata": {},
   "source": [
    "Next, let's try a deep learning approach on the same binary classification problem using Keras. First, we need to create a unique list of all words, as these will be used to build tokenized comments, where each word is replaced by a unique integer."
   ]
  },
  {
   "cell_type": "code",
   "execution_count": 11,
   "metadata": {},
   "outputs": [
    {
     "name": "stdout",
     "output_type": "stream",
     "text": [
      "278275\n"
     ]
    }
   ],
   "source": [
    "# Convert comments into tokenized vectors\n",
    "# Requires vocabulary dictionary with key = word, value = index\n",
    "word_set = set()\n",
    "parsed_comments = []\n",
    "comment_length = []\n",
    "for comment in comments['comment_text']:\n",
    "    words = comment.split()\n",
    "    for word in words:\n",
    "        word_set.add(word)\n",
    "    parsed_comments.append(words)\n",
    "    comment_length.append(len(words))\n",
    "print(len(word_set))"
   ]
  },
  {
   "cell_type": "markdown",
   "metadata": {},
   "source": [
    "There are just under 280,000 unique words among the nearly 160,000 comments. Let's take a look at the distribution of comment lengths, as this will be a parameter in our neural network."
   ]
  },
  {
   "cell_type": "code",
   "execution_count": 25,
   "metadata": {},
   "outputs": [
    {
     "data": {
      "text/plain": [
       "count    159571.000000\n",
       "mean         65.591035\n",
       "std          97.529897\n",
       "min           0.000000\n",
       "25%          16.000000\n",
       "50%          35.000000\n",
       "75%          73.000000\n",
       "max        1403.000000\n",
       "dtype: float64"
      ]
     },
     "execution_count": 25,
     "metadata": {},
     "output_type": "execute_result"
    }
   ],
   "source": [
    "pd.Series(comment_length).describe()"
   ]
  },
  {
   "cell_type": "markdown",
   "metadata": {},
   "source": [
    "From the plot below, the distribution is heavily right skewed. This is not surprising, as most comments are made up of only 2 or 3 sentences. As the 75th percentile is only 73 words, it is safe to say that most comments are under 100 words, and we will truncate all comments to this length when training our network. Hopefully we can infer the sentiment using only the first 100 words of the longer comments."
   ]
  },
  {
   "cell_type": "code",
   "execution_count": 26,
   "metadata": {},
   "outputs": [
    {
     "data": {
      "image/png": "[encoded data removed]",
      "text/plain": [
       "<Figure size 432x288 with 1 Axes>"
      ]
     },
     "metadata": {},
     "output_type": "display_data"
    }
   ],
   "source": [
    "plt.hist(comment_length)\n",
    "plt.draw()"
   ]
  },
  {
   "cell_type": "markdown",
   "metadata": {},
   "source": [
    "Next, we need to create a dictionary that maps all words to a unique integer, and convert all comments to their tokenized equivalents."
   ]
  },
  {
   "cell_type": "code",
   "execution_count": 12,
   "metadata": {},
   "outputs": [],
   "source": [
    "# Convert words to word-to-index dictionary\n",
    "word_to_index = {w: i+1 for i,w in enumerate(word_set)}"
   ]
  },
  {
   "cell_type": "code",
   "execution_count": 13,
   "metadata": {},
   "outputs": [],
   "source": [
    "# Convert parsed comments to tokens\n",
    "tokenized_comments = [[word_to_index[w] for w in s] for s in parsed_comments]"
   ]
  },
  {
   "cell_type": "markdown",
   "metadata": {},
   "source": [
    "Here's an example of a tokenized comment."
   ]
  },
  {
   "cell_type": "code",
   "execution_count": 14,
   "metadata": {},
   "outputs": [
    {
     "name": "stdout",
     "output_type": "stream",
     "text": [
      "[133352, 223839, 227171, 235127, 251703, 39842, 52779, 199597, 98259, 110495, 12294, 116653, 74053, 248840, 126562, 28396, 106848, 255913, 141650, 267198, 128844, 31850, 61957, 104400, 41595, 188164, 155835, 13310, 198592, 75932, 275767, 215648, 139807, 227171, 73926, 104202, 227171, 29752, 227716, 179621, 238463, 114618, 41277]\n"
     ]
    }
   ],
   "source": [
    "print(tokenized_comments[0])"
   ]
  },
  {
   "cell_type": "markdown",
   "metadata": {},
   "source": [
    "Next, we need to randomly split our data into a training and testing set."
   ]
  },
  {
   "cell_type": "code",
   "execution_count": 15,
   "metadata": {},
   "outputs": [],
   "source": [
    "# Shuffle row indices for random split\n",
    "idx = list(range(len(tokenized_comments)))\n",
    "np.random.shuffle(idx)"
   ]
  },
  {
   "cell_type": "code",
   "execution_count": 16,
   "metadata": {},
   "outputs": [],
   "source": [
    "# Split random indices between training and testing\n",
    "train_frac = 0.7\n",
    "split_index = round(len(idx)*train_frac)\n",
    "train_ind = idx[:split_index]\n",
    "test_ind = idx[split_index:]"
   ]
  },
  {
   "cell_type": "code",
   "execution_count": 17,
   "metadata": {},
   "outputs": [],
   "source": [
    "# Create train set\n",
    "x_train = [tokenized_comments[i] for i in train_ind]\n",
    "y_train = [comments['is_toxic'].iloc[i] for i in train_ind]\n",
    "# Create test set\n",
    "x_test = [tokenized_comments[i] for i in test_ind]\n",
    "y_test = [comments['is_toxic'].iloc[i] for i in test_ind]"
   ]
  },
  {
   "cell_type": "markdown",
   "metadata": {},
   "source": [
    "Since our network requires all inputs to be of equal length, we'll truncate all comments to 100 words, and pad any necessary spaces with zeros."
   ]
  },
  {
   "cell_type": "code",
   "execution_count": 19,
   "metadata": {},
   "outputs": [],
   "source": [
    "# Pad sequences to turn comments into tensors\n",
    "x_train = preprocessing.sequence.pad_sequences(x_train, maxlen=100)\n",
    "x_test = preprocessing.sequence.pad_sequences(x_test, maxlen=100)"
   ]
  },
  {
   "cell_type": "code",
   "execution_count": 20,
   "metadata": {},
   "outputs": [],
   "source": [
    "y_train = np.array(y_train)\n",
    "y_test = np.array(y_test)"
   ]
  },
  {
   "cell_type": "markdown",
   "metadata": {},
   "source": [
    "Finally, we're ready to train our model. We'll use a densely connected network, with 8-dimensional embeddings for our vocabulary, and two fully connected layers with 64 nodes each. Since this is a binary classification problem, the output layer will be a single node with sigmoid activation (which forces the output to be between 0 and 1. This will be interpreted as the probability of a comment being toxic.\n",
    "\n",
    "After our model is trained, we'll plot the accuracy and loss as a function of the epoch."
   ]
  },
  {
   "cell_type": "code",
   "execution_count": 42,
   "metadata": {},
   "outputs": [
    {
     "name": "stdout",
     "output_type": "stream",
     "text": [
      "_________________________________________________________________\n",
      "Layer (type)                 Output Shape              Param #   \n",
      "=================================================================\n",
      "embedding_2 (Embedding)      (None, 100, 8)            2226208   \n",
      "_________________________________________________________________\n",
      "flatten_2 (Flatten)          (None, 800)               0         \n",
      "_________________________________________________________________\n",
      "dense_4 (Dense)              (None, 64)                51264     \n",
      "_________________________________________________________________\n",
      "dense_5 (Dense)              (None, 64)                4160      \n",
      "_________________________________________________________________\n",
      "dense_6 (Dense)              (None, 1)                 65        \n",
      "=================================================================\n",
      "Total params: 2,281,697\n",
      "Trainable params: 2,281,697\n",
      "Non-trainable params: 0\n",
      "_________________________________________________________________\n"
     ]
    }
   ],
   "source": [
    "# Create model\n",
    "vocab_size = len(word_set)\n",
    "model = Sequential()\n",
    "model.add(Embedding(vocab_size+1, 8, input_length=100))\n",
    "model.add(Flatten())\n",
    "model.add(Dense(64, activation='relu'))\n",
    "model.add(Dense(64, activation='relu'))\n",
    "model.add(Dense(1, activation='sigmoid'))\n",
    "model.compile(optimizer='rmsprop', loss='binary_crossentropy', metrics=['acc'])\n",
    "model.summary()"
   ]
  },
  {
   "cell_type": "code",
   "execution_count": 43,
   "metadata": {},
   "outputs": [
    {
     "name": "stdout",
     "output_type": "stream",
     "text": [
      "Train on 89360 samples, validate on 22340 samples\n",
      "Epoch 1/10\n",
      "89360/89360 [==============================] - 39s 434us/step - loss: 0.2043 - acc: 0.9274 - val_loss: 0.1696 - val_acc: 0.9397\n",
      "Epoch 2/10\n",
      "89360/89360 [==============================] - 39s 439us/step - loss: 0.1650 - acc: 0.9425 - val_loss: 0.1624 - val_acc: 0.9416\n",
      "Epoch 3/10\n",
      "89360/89360 [==============================] - 39s 438us/step - loss: 0.1514 - acc: 0.9485 - val_loss: 0.1772 - val_acc: 0.9434\n",
      "Epoch 4/10\n",
      "89360/89360 [==============================] - 37s 410us/step - loss: 0.1433 - acc: 0.9522 - val_loss: 0.1644 - val_acc: 0.9457\n",
      "Epoch 5/10\n",
      "89360/89360 [==============================] - 35s 389us/step - loss: 0.1345 - acc: 0.9569 - val_loss: 0.1816 - val_acc: 0.9459\n",
      "Epoch 6/10\n",
      "89360/89360 [==============================] - 38s 423us/step - loss: 0.1291 - acc: 0.9592 - val_loss: 0.2086 - val_acc: 0.9378\n",
      "Epoch 7/10\n",
      "89360/89360 [==============================] - 33s 375us/step - loss: 0.1235 - acc: 0.9615 - val_loss: 0.1900 - val_acc: 0.9470\n",
      "Epoch 8/10\n",
      "89360/89360 [==============================] - 32s 361us/step - loss: 0.1178 - acc: 0.9640 - val_loss: 0.1930 - val_acc: 0.9384\n",
      "Epoch 9/10\n",
      "89360/89360 [==============================] - 33s 364us/step - loss: 0.1122 - acc: 0.9667 - val_loss: 0.2292 - val_acc: 0.9471\n",
      "Epoch 10/10\n",
      "89360/89360 [==============================] - 33s 366us/step - loss: 0.1077 - acc: 0.9685 - val_loss: 0.2182 - val_acc: 0.9427\n"
     ]
    }
   ],
   "source": [
    "history = model.fit(x_train, y_train,\n",
    "                   epochs=10,\n",
    "                   batch_size=32,\n",
    "                   validation_split=0.2)"
   ]
  },
  {
   "cell_type": "code",
   "execution_count": 44,
   "metadata": {},
   "outputs": [
    {
     "data": {
      "image/png": "[encoded data removed]",
      "text/plain": [
       "<Figure size 432x288 with 1 Axes>"
      ]
     },
     "metadata": {},
     "output_type": "display_data"
    },
    {
     "data": {
      "image/png": "[encoded data removed]",
      "text/plain": [
       "<Figure size 432x288 with 1 Axes>"
      ]
     },
     "metadata": {},
     "output_type": "display_data"
    }
   ],
   "source": [
    "accuracy = history.history['acc']\n",
    "val_accuracy = history.history['val_acc']\n",
    "loss = history.history['loss']\n",
    "val_loss = history.history['val_loss']\n",
    "epochs = range(1,len(accuracy)+1)\n",
    "plt.plot(epochs,loss,'bo',label='Loss')\n",
    "plt.plot(epochs,val_loss,'b',label='Validation Loss')\n",
    "plt.legend()\n",
    "plt.show()\n",
    "\n",
    "plt.clf()\n",
    "plt.plot(epochs,accuracy,'bo',label='Accuracy')\n",
    "plt.plot(epochs,val_accuracy,'b',label='Validation Accuracy')\n",
    "plt.legend()\n",
    "plt.show()"
   ]
  },
  {
   "cell_type": "markdown",
   "metadata": {},
   "source": [
    "Our model begins to overfit after approximately four epochs (signified by the validation loss increasing as the training loss continues to decrease). Let's build another model and train for just four epochs."
   ]
  },
  {
   "cell_type": "code",
   "execution_count": 45,
   "metadata": {},
   "outputs": [
    {
     "name": "stdout",
     "output_type": "stream",
     "text": [
      "_________________________________________________________________\n",
      "Layer (type)                 Output Shape              Param #   \n",
      "=================================================================\n",
      "embedding_3 (Embedding)      (None, 100, 8)            2226208   \n",
      "_________________________________________________________________\n",
      "flatten_3 (Flatten)          (None, 800)               0         \n",
      "_________________________________________________________________\n",
      "dense_7 (Dense)              (None, 64)                51264     \n",
      "_________________________________________________________________\n",
      "dense_8 (Dense)              (None, 64)                4160      \n",
      "_________________________________________________________________\n",
      "dense_9 (Dense)              (None, 1)                 65        \n",
      "=================================================================\n",
      "Total params: 2,281,697\n",
      "Trainable params: 2,281,697\n",
      "Non-trainable params: 0\n",
      "_________________________________________________________________\n"
     ]
    }
   ],
   "source": [
    "# Create model\n",
    "vocab_size = len(word_set)\n",
    "model = Sequential()\n",
    "model.add(Embedding(vocab_size+1, 8, input_length=100))\n",
    "model.add(Flatten())\n",
    "model.add(Dense(64, activation='relu'))\n",
    "model.add(Dense(64, activation='relu'))\n",
    "model.add(Dense(1, activation='sigmoid'))\n",
    "model.compile(optimizer='rmsprop', loss='binary_crossentropy', metrics=['acc'])\n",
    "model.summary()"
   ]
  },
  {
   "cell_type": "code",
   "execution_count": 46,
   "metadata": {},
   "outputs": [
    {
     "name": "stdout",
     "output_type": "stream",
     "text": [
      "Train on 89360 samples, validate on 22340 samples\n",
      "Epoch 1/4\n",
      "89360/89360 [==============================] - 33s 364us/step - loss: 0.1995 - acc: 0.9302 - val_loss: 0.1713 - val_acc: 0.9388\n",
      "Epoch 2/4\n",
      "89360/89360 [==============================] - 33s 366us/step - loss: 0.1590 - acc: 0.9459 - val_loss: 0.2060 - val_acc: 0.9337\n",
      "Epoch 3/4\n",
      "89360/89360 [==============================] - 33s 366us/step - loss: 0.1484 - acc: 0.9507 - val_loss: 0.1605 - val_acc: 0.9470\n",
      "Epoch 4/4\n",
      "89360/89360 [==============================] - 33s 372us/step - loss: 0.1412 - acc: 0.9546 - val_loss: 0.1717 - val_acc: 0.9465\n"
     ]
    }
   ],
   "source": [
    "history = model.fit(x_train, y_train,\n",
    "                   epochs=4,\n",
    "                   batch_size=32,\n",
    "                   validation_split=0.2)"
   ]
  },
  {
   "cell_type": "markdown",
   "metadata": {},
   "source": [
    "Now, let's use our model to predict whether comments from the test set are toxic or not."
   ]
  },
  {
   "cell_type": "code",
   "execution_count": 47,
   "metadata": {},
   "outputs": [],
   "source": [
    "y_pred = model.predict_classes(x_test)"
   ]
  },
  {
   "cell_type": "code",
   "execution_count": 48,
   "metadata": {},
   "outputs": [
    {
     "name": "stdout",
     "output_type": "stream",
     "text": [
      "True negatives: 42482\n",
      "False positives: 571\n",
      "False negatives: 1974\n",
      "True positives: 2844\n",
      "Accuracy: 0.95\n",
      "Precision: 0.83\n",
      "Recall: 0.59\n"
     ]
    }
   ],
   "source": [
    "printMetrics(y_pred,y_test)"
   ]
  },
  {
   "cell_type": "markdown",
   "metadata": {},
   "source": [
    "Our deep learning model suffers from the same problem as our naive Bayes model, namely that the accuracy is high but the recall (what we really care about) is too low. The baseline here is better compared to the naive Bayes model (59% versus 15%), but it is not nearly good enough.\n",
    "\n",
    "Since our classes are quite imbalanced, one easy way to improve things is to add class weights, which will give more focus to the minority class."
   ]
  },
  {
   "cell_type": "markdown",
   "metadata": {},
   "source": [
    "## Neural Network (Keras) with Class Weights"
   ]
  },
  {
   "cell_type": "markdown",
   "metadata": {},
   "source": [
    "Since there are roughly 10 non-toxic comments for every toxic one, let's give the toxic class a weight of 10, and the non-toxic class a weight of 1. With this done, let's rebuild our model and check the results. Note that we had to decrease the learning rate slightly (from 1e-3 to 1e-4) to help the model converge."
   ]
  },
  {
   "cell_type": "code",
   "execution_count": 43,
   "metadata": {},
   "outputs": [],
   "source": [
    "# Try changing class weights to give more attention to positive instances (toxic comments)\n",
    "class_weight = {0:1, 1:10}"
   ]
  },
  {
   "cell_type": "code",
   "execution_count": 97,
   "metadata": {},
   "outputs": [
    {
     "name": "stdout",
     "output_type": "stream",
     "text": [
      "_________________________________________________________________\n",
      "Layer (type)                 Output Shape              Param #   \n",
      "=================================================================\n",
      "embedding_19 (Embedding)     (None, 100, 8)            2226208   \n",
      "_________________________________________________________________\n",
      "flatten_19 (Flatten)         (None, 800)               0         \n",
      "_________________________________________________________________\n",
      "dense_65 (Dense)             (None, 64)                51264     \n",
      "_________________________________________________________________\n",
      "dense_66 (Dense)             (None, 64)                4160      \n",
      "_________________________________________________________________\n",
      "dense_67 (Dense)             (None, 64)                4160      \n",
      "_________________________________________________________________\n",
      "dense_68 (Dense)             (None, 1)                 65        \n",
      "=================================================================\n",
      "Total params: 2,285,857\n",
      "Trainable params: 2,285,857\n",
      "Non-trainable params: 0\n",
      "_________________________________________________________________\n"
     ]
    }
   ],
   "source": [
    "# Create model\n",
    "rms = optimizers.RMSprop(lr=1e-4)\n",
    "vocab_size = len(word_set)\n",
    "model = Sequential()\n",
    "model.add(Embedding(vocab_size+1, 8, input_length=100))\n",
    "model.add(Flatten())\n",
    "model.add(Dense(64, activation='relu'))\n",
    "model.add(Dense(64, activation='relu'))\n",
    "model.add(Dense(64, activation='relu'))\n",
    "model.add(Dense(1, activation='sigmoid'))\n",
    "model.compile(optimizer=rms, loss='binary_crossentropy', metrics=['acc'])\n",
    "model.summary()"
   ]
  },
  {
   "cell_type": "code",
   "execution_count": 98,
   "metadata": {},
   "outputs": [
    {
     "name": "stdout",
     "output_type": "stream",
     "text": [
      "Train on 89360 samples, validate on 22340 samples\n",
      "Epoch 1/20\n",
      "89360/89360 [==============================] - 35s 397us/step - loss: 1.1451 - acc: 0.6105 - val_loss: 0.8580 - val_acc: 0.7816\n",
      "Epoch 2/20\n",
      "89360/89360 [==============================] - 34s 382us/step - loss: 0.7766 - acc: 0.8377 - val_loss: 0.7500 - val_acc: 0.8261\n",
      "Epoch 3/20\n",
      "89360/89360 [==============================] - 35s 392us/step - loss: 0.7077 - acc: 0.8536 - val_loss: 0.7363 - val_acc: 0.8749\n",
      "Epoch 4/20\n",
      "89360/89360 [==============================] - 35s 392us/step - loss: 0.6862 - acc: 0.8566 - val_loss: 0.7152 - val_acc: 0.8482\n",
      "Epoch 5/20\n",
      "89360/89360 [==============================] - 36s 404us/step - loss: 0.6724 - acc: 0.8581 - val_loss: 0.7143 - val_acc: 0.8165\n",
      "Epoch 6/20\n",
      "89360/89360 [==============================] - 35s 387us/step - loss: 0.6638 - acc: 0.8613 - val_loss: 0.7139 - val_acc: 0.8578\n",
      "Epoch 7/20\n",
      "89360/89360 [==============================] - 35s 392us/step - loss: 0.6535 - acc: 0.8642 - val_loss: 0.7658 - val_acc: 0.9045\n",
      "Epoch 8/20\n",
      "89360/89360 [==============================] - 36s 401us/step - loss: 0.6414 - acc: 0.8666 - val_loss: 0.7138 - val_acc: 0.8780\n",
      "Epoch 9/20\n",
      "89360/89360 [==============================] - 36s 404us/step - loss: 0.6331 - acc: 0.8697 - val_loss: 0.6970 - val_acc: 0.8734\n",
      "Epoch 10/20\n",
      "89360/89360 [==============================] - 34s 383us/step - loss: 0.6212 - acc: 0.8696 - val_loss: 0.6927 - val_acc: 0.8697\n",
      "Epoch 11/20\n",
      "89360/89360 [==============================] - 34s 379us/step - loss: 0.6152 - acc: 0.8711 - val_loss: 0.6994 - val_acc: 0.8696\n",
      "Epoch 12/20\n",
      "89360/89360 [==============================] - 34s 380us/step - loss: 0.6076 - acc: 0.8711 - val_loss: 0.7026 - val_acc: 0.8696\n",
      "Epoch 13/20\n",
      "89360/89360 [==============================] - 34s 380us/step - loss: 0.6005 - acc: 0.8738 - val_loss: 0.7647 - val_acc: 0.8957\n",
      "Epoch 14/20\n",
      "89360/89360 [==============================] - 34s 379us/step - loss: 0.5982 - acc: 0.8736 - val_loss: 0.7102 - val_acc: 0.8808\n",
      "Epoch 15/20\n",
      "89360/89360 [==============================] - 34s 377us/step - loss: 0.5875 - acc: 0.8766 - val_loss: 0.7069 - val_acc: 0.8184\n",
      "Epoch 16/20\n",
      "89360/89360 [==============================] - 34s 381us/step - loss: 0.5825 - acc: 0.8775 - val_loss: 0.7897 - val_acc: 0.9082\n",
      "Epoch 17/20\n",
      "89360/89360 [==============================] - 34s 386us/step - loss: 0.5762 - acc: 0.8806 - val_loss: 0.7097 - val_acc: 0.8499\n",
      "Epoch 18/20\n",
      "89360/89360 [==============================] - 34s 381us/step - loss: 0.5736 - acc: 0.8806 - val_loss: 0.7261 - val_acc: 0.8450\n",
      "Epoch 19/20\n",
      "89360/89360 [==============================] - 34s 384us/step - loss: 0.5706 - acc: 0.8819 - val_loss: 0.7317 - val_acc: 0.8863\n",
      "Epoch 20/20\n",
      "89360/89360 [==============================] - 50s 565us/step - loss: 0.5671 - acc: 0.8818 - val_loss: 0.7219 - val_acc: 0.8594\n"
     ]
    }
   ],
   "source": [
    "history = model.fit(x_train, y_train,\n",
    "                   epochs=20,\n",
    "                   batch_size=32,\n",
    "                   validation_split=0.2,\n",
    "                   class_weight=class_weight)"
   ]
  },
  {
   "cell_type": "code",
   "execution_count": 99,
   "metadata": {},
   "outputs": [
    {
     "data": {
      "image/png": "[encoded data removed]",
      "text/plain": [
       "<Figure size 432x288 with 1 Axes>"
      ]
     },
     "metadata": {},
     "output_type": "display_data"
    },
    {
     "data": {
      "image/png": "[encoded data removed]",
      "text/plain": [
       "<Figure size 432x288 with 1 Axes>"
      ]
     },
     "metadata": {},
     "output_type": "display_data"
    }
   ],
   "source": [
    "accuracy = history.history['acc']\n",
    "val_accuracy = history.history['val_acc']\n",
    "loss = history.history['loss']\n",
    "val_loss = history.history['val_loss']\n",
    "epochs = range(1,len(accuracy)+1)\n",
    "plt.plot(epochs,loss,'bo',label='Loss')\n",
    "plt.plot(epochs,val_loss,'b',label='Validation Loss')\n",
    "plt.legend()\n",
    "plt.show()\n",
    "\n",
    "plt.clf()\n",
    "plt.plot(epochs,accuracy,'bo',label='Accuracy')\n",
    "plt.plot(epochs,val_accuracy,'b',label='Validation Accuracy')\n",
    "plt.legend()\n",
    "plt.show()"
   ]
  },
  {
   "cell_type": "markdown",
   "metadata": {},
   "source": [
    "Once again, the model begins to overfit, this time after roughly 10 epochs. Let's build a second model as before, and check the results on the test set."
   ]
  },
  {
   "cell_type": "code",
   "execution_count": 100,
   "metadata": {},
   "outputs": [
    {
     "name": "stdout",
     "output_type": "stream",
     "text": [
      "_________________________________________________________________\n",
      "Layer (type)                 Output Shape              Param #   \n",
      "=================================================================\n",
      "embedding_20 (Embedding)     (None, 100, 8)            2226208   \n",
      "_________________________________________________________________\n",
      "flatten_20 (Flatten)         (None, 800)               0         \n",
      "_________________________________________________________________\n",
      "dense_69 (Dense)             (None, 64)                51264     \n",
      "_________________________________________________________________\n",
      "dense_70 (Dense)             (None, 64)                4160      \n",
      "_________________________________________________________________\n",
      "dense_71 (Dense)             (None, 64)                4160      \n",
      "_________________________________________________________________\n",
      "dense_72 (Dense)             (None, 1)                 65        \n",
      "=================================================================\n",
      "Total params: 2,285,857\n",
      "Trainable params: 2,285,857\n",
      "Non-trainable params: 0\n",
      "_________________________________________________________________\n"
     ]
    }
   ],
   "source": [
    "# Create model\n",
    "model = Sequential()\n",
    "model.add(Embedding(vocab_size+1, 8, input_length=100))\n",
    "model.add(Flatten())\n",
    "model.add(Dense(64, activation='relu'))\n",
    "model.add(Dense(64, activation='relu'))\n",
    "model.add(Dense(64, activation='relu'))\n",
    "model.add(Dense(1, activation='sigmoid'))\n",
    "model.compile(optimizer=rms, loss='binary_crossentropy', metrics=['acc'])\n",
    "model.summary()"
   ]
  },
  {
   "cell_type": "code",
   "execution_count": 101,
   "metadata": {},
   "outputs": [
    {
     "name": "stdout",
     "output_type": "stream",
     "text": [
      "Train on 89360 samples, validate on 22340 samples\n",
      "Epoch 1/10\n",
      "89360/89360 [==============================] - 35s 394us/step - loss: 1.1623 - acc: 0.6067 - val_loss: 0.8716 - val_acc: 0.7675\n",
      "Epoch 2/10\n",
      "89360/89360 [==============================] - 34s 377us/step - loss: 0.7905 - acc: 0.8337 - val_loss: 0.7764 - val_acc: 0.8758\n",
      "Epoch 3/10\n",
      "89360/89360 [==============================] - 34s 384us/step - loss: 0.7175 - acc: 0.8528 - val_loss: 0.7330 - val_acc: 0.8603\n",
      "Epoch 4/10\n",
      "89360/89360 [==============================] - 35s 389us/step - loss: 0.6884 - acc: 0.8550 - val_loss: 0.7263 - val_acc: 0.8697\n",
      "Epoch 5/10\n",
      "89360/89360 [==============================] - 34s 381us/step - loss: 0.6740 - acc: 0.8561 - val_loss: 0.7201 - val_acc: 0.8159\n",
      "Epoch 6/10\n",
      "89360/89360 [==============================] - 33s 368us/step - loss: 0.6664 - acc: 0.8587 - val_loss: 0.7169 - val_acc: 0.8735\n",
      "Epoch 7/10\n",
      "89360/89360 [==============================] - 34s 381us/step - loss: 0.6605 - acc: 0.8610 - val_loss: 0.7104 - val_acc: 0.8673\n",
      "Epoch 8/10\n",
      "89360/89360 [==============================] - 36s 400us/step - loss: 0.6503 - acc: 0.8630 - val_loss: 0.7050 - val_acc: 0.8632\n",
      "Epoch 9/10\n",
      "89360/89360 [==============================] - 35s 388us/step - loss: 0.6396 - acc: 0.8667 - val_loss: 0.7449 - val_acc: 0.7740\n",
      "Epoch 10/10\n",
      "89360/89360 [==============================] - 35s 391us/step - loss: 0.6309 - acc: 0.8679 - val_loss: 0.7061 - val_acc: 0.8266\n"
     ]
    }
   ],
   "source": [
    "history = model.fit(x_train, y_train,\n",
    "                   epochs=10,\n",
    "                   batch_size=32,\n",
    "                   validation_split=0.2,\n",
    "                   class_weight=class_weight)"
   ]
  },
  {
   "cell_type": "code",
   "execution_count": 102,
   "metadata": {},
   "outputs": [],
   "source": [
    "y_pred = model.predict_classes(x_test)"
   ]
  },
  {
   "cell_type": "code",
   "execution_count": 103,
   "metadata": {},
   "outputs": [
    {
     "name": "stdout",
     "output_type": "stream",
     "text": [
      "True negatives: 35177\n",
      "False positives: 7876\n",
      "False negatives: 743\n",
      "True positives: 4075\n",
      "Accuracy: 0.82\n",
      "Precision: 0.34\n",
      "Recall: 0.85\n"
     ]
    }
   ],
   "source": [
    "printMetrics(y_pred,y_test)"
   ]
  },
  {
   "cell_type": "markdown",
   "metadata": {},
   "source": [
    "The results have improved significantly, as the recall is up to 85%, which is on par with our naive Bayes model. However, the precision is quite a bit lower, which means we flagged more clean comments as toxic.\n",
    "\n",
    "Perhaps with more focused hyperparameter tuning, and a potential architecture change (trying a recurrent neural network instead of a densely connected one), we could improve these results. However, at first glance, the naive Bayes model would be the model of choice for this simple, binary sentiment analysis formulation. The overhead and time to train is significantly lower than that of the neural network, and it does a better job.\n",
    "\n",
    "That being said, the next exercise is one that is very well suited to a neural network, and that is a multilabel, multiclass formulation of the problem."
   ]
  },
  {
   "cell_type": "markdown",
   "metadata": {},
   "source": [
    "## Neural Network (Keras) with Multiclass, Multilabel Formulation"
   ]
  },
  {
   "cell_type": "markdown",
   "metadata": {},
   "source": [
    "Recall that the original dataset contained additional labels for the type of toxicity (hate speech, insult, etc.). Let's see if we can build a network to predict the associated labels. Rather than a binary classification problem, this is now a multilabel, multiclass problem.\n",
    "\n",
    "We'll start by building our training and testing sets, this time using all of the labels for each comment."
   ]
  },
  {
   "cell_type": "code",
   "execution_count": 23,
   "metadata": {},
   "outputs": [],
   "source": [
    "# Create train set\n",
    "x_train = [tokenized_comments[i] for i in train_ind]\n",
    "y_train = [comments.iloc[i,2:8] for i in train_ind]\n",
    "# Create test set\n",
    "x_test = [tokenized_comments[i] for i in test_ind]\n",
    "y_test = [comments.iloc[i,2:8] for i in test_ind]"
   ]
  },
  {
   "cell_type": "code",
   "execution_count": 24,
   "metadata": {},
   "outputs": [],
   "source": [
    "# Pad sequences to turn comments into tensors\n",
    "x_train = preprocessing.sequence.pad_sequences(x_train, maxlen=100)\n",
    "x_test = preprocessing.sequence.pad_sequences(x_test, maxlen=100)"
   ]
  },
  {
   "cell_type": "code",
   "execution_count": 25,
   "metadata": {},
   "outputs": [],
   "source": [
    "y_train = np.array(y_train)\n",
    "y_test = np.array(y_test)"
   ]
  },
  {
   "cell_type": "markdown",
   "metadata": {},
   "source": [
    "The major change to our network architecture will be that the last layer contains 6 nodes (one for each label). The activation function is still sigmoid (so each node will have an independent range of 0-1), and the loss is still binary crossentropy."
   ]
  },
  {
   "cell_type": "code",
   "execution_count": 65,
   "metadata": {},
   "outputs": [
    {
     "name": "stdout",
     "output_type": "stream",
     "text": [
      "_________________________________________________________________\n",
      "Layer (type)                 Output Shape              Param #   \n",
      "=================================================================\n",
      "embedding_3 (Embedding)      (None, 100, 16)           4452416   \n",
      "_________________________________________________________________\n",
      "flatten_3 (Flatten)          (None, 1600)              0         \n",
      "_________________________________________________________________\n",
      "dense_10 (Dense)             (None, 64)                102464    \n",
      "_________________________________________________________________\n",
      "dense_11 (Dense)             (None, 64)                4160      \n",
      "_________________________________________________________________\n",
      "dense_12 (Dense)             (None, 64)                4160      \n",
      "_________________________________________________________________\n",
      "dense_13 (Dense)             (None, 64)                4160      \n",
      "_________________________________________________________________\n",
      "dense_14 (Dense)             (None, 6)                 390       \n",
      "=================================================================\n",
      "Total params: 4,567,750\n",
      "Trainable params: 4,567,750\n",
      "Non-trainable params: 0\n",
      "_________________________________________________________________\n"
     ]
    }
   ],
   "source": [
    "# Create model with 6 node sigmoid output layer\n",
    "rms = optimizers.RMSprop(lr=1e-4)\n",
    "vocab_size = len(word_set)\n",
    "model = Sequential()\n",
    "model.add(Embedding(vocab_size+1, 16, input_length=100))\n",
    "model.add(Flatten())\n",
    "model.add(Dense(64, activation='relu'))\n",
    "model.add(Dense(64, activation='relu'))\n",
    "model.add(Dense(64, activation='relu'))\n",
    "model.add(Dense(64, activation='relu'))\n",
    "model.add(Dense(6, activation='sigmoid'))\n",
    "model.compile(optimizer=rms, loss='binary_crossentropy', metrics=['acc'])\n",
    "model.summary()"
   ]
  },
  {
   "cell_type": "code",
   "execution_count": 66,
   "metadata": {},
   "outputs": [
    {
     "name": "stdout",
     "output_type": "stream",
     "text": [
      "Train on 89360 samples, validate on 22340 samples\n",
      "Epoch 1/20\n",
      "89360/89360 [==============================] - 91s 1ms/step - loss: 0.1382 - acc: 0.9628 - val_loss: 0.0900 - val_acc: 0.9693\n",
      "Epoch 2/20\n",
      "89360/89360 [==============================] - 90s 1ms/step - loss: 0.0868 - acc: 0.9705 - val_loss: 0.0811 - val_acc: 0.9729\n",
      "Epoch 3/20\n",
      "89360/89360 [==============================] - 99s 1ms/step - loss: 0.0799 - acc: 0.9729 - val_loss: 0.0789 - val_acc: 0.9736\n",
      "Epoch 4/20\n",
      "89360/89360 [==============================] - 104s 1ms/step - loss: 0.0760 - acc: 0.9740 - val_loss: 0.0754 - val_acc: 0.9749\n",
      "Epoch 5/20\n",
      "89360/89360 [==============================] - 90s 1ms/step - loss: 0.0736 - acc: 0.9750 - val_loss: 0.0745 - val_acc: 0.9754\n",
      "Epoch 6/20\n",
      "89360/89360 [==============================] - 77s 858us/step - loss: 0.0716 - acc: 0.9754 - val_loss: 0.0733 - val_acc: 0.9757\n",
      "Epoch 7/20\n",
      "89360/89360 [==============================] - 76s 848us/step - loss: 0.0694 - acc: 0.9764 - val_loss: 0.0717 - val_acc: 0.9761\n",
      "Epoch 8/20\n",
      "89360/89360 [==============================] - 81s 909us/step - loss: 0.0672 - acc: 0.9771 - val_loss: 0.0734 - val_acc: 0.9753\n",
      "Epoch 9/20\n",
      "89360/89360 [==============================] - 83s 926us/step - loss: 0.0657 - acc: 0.9777 - val_loss: 0.0709 - val_acc: 0.9764\n",
      "Epoch 10/20\n",
      "89360/89360 [==============================] - 84s 942us/step - loss: 0.0640 - acc: 0.9782 - val_loss: 0.0734 - val_acc: 0.9752\n",
      "Epoch 11/20\n",
      "89360/89360 [==============================] - 82s 919us/step - loss: 0.0625 - acc: 0.9787 - val_loss: 0.0735 - val_acc: 0.9760\n",
      "Epoch 12/20\n",
      "89360/89360 [==============================] - 86s 958us/step - loss: 0.0611 - acc: 0.9791 - val_loss: 0.0715 - val_acc: 0.9766\n",
      "Epoch 13/20\n",
      "89360/89360 [==============================] - 90s 1ms/step - loss: 0.0595 - acc: 0.9797 - val_loss: 0.0715 - val_acc: 0.9768\n",
      "Epoch 14/20\n",
      "89360/89360 [==============================] - 80s 893us/step - loss: 0.0584 - acc: 0.9802 - val_loss: 0.0747 - val_acc: 0.9763\n",
      "Epoch 15/20\n",
      "89360/89360 [==============================] - 85s 951us/step - loss: 0.0569 - acc: 0.9806 - val_loss: 0.0754 - val_acc: 0.9767\n",
      "Epoch 16/20\n",
      "89360/89360 [==============================] - 85s 952us/step - loss: 0.0556 - acc: 0.9809 - val_loss: 0.0754 - val_acc: 0.9751\n",
      "Epoch 17/20\n",
      "89360/89360 [==============================] - 90s 1ms/step - loss: 0.0544 - acc: 0.9814 - val_loss: 0.0764 - val_acc: 0.9763\n",
      "Epoch 18/20\n",
      "89360/89360 [==============================] - 79s 887us/step - loss: 0.0530 - acc: 0.9818 - val_loss: 0.0791 - val_acc: 0.9763\n",
      "Epoch 19/20\n",
      "89360/89360 [==============================] - 83s 932us/step - loss: 0.0517 - acc: 0.9821 - val_loss: 0.0789 - val_acc: 0.9750\n",
      "Epoch 20/20\n",
      "89360/89360 [==============================] - 73s 815us/step - loss: 0.0508 - acc: 0.9825 - val_loss: 0.0791 - val_acc: 0.9758\n"
     ]
    }
   ],
   "source": [
    "history = model.fit(x_train, y_train,\n",
    "                   epochs=20,\n",
    "                   batch_size=32,\n",
    "                   validation_split=0.2)"
   ]
  },
  {
   "cell_type": "code",
   "execution_count": 67,
   "metadata": {},
   "outputs": [
    {
     "data": {
      "image/png": "[encoded data removed]",
      "text/plain": [
       "<Figure size 432x288 with 1 Axes>"
      ]
     },
     "metadata": {},
     "output_type": "display_data"
    },
    {
     "data": {
      "image/png": "[encoded data removed]",
      "text/plain": [
       "<Figure size 432x288 with 1 Axes>"
      ]
     },
     "metadata": {},
     "output_type": "display_data"
    }
   ],
   "source": [
    "accuracy = history.history['acc']\n",
    "val_accuracy = history.history['val_acc']\n",
    "loss = history.history['loss']\n",
    "val_loss = history.history['val_loss']\n",
    "epochs = range(1,len(accuracy)+1)\n",
    "plt.plot(epochs,loss,'bo',label='Loss')\n",
    "plt.plot(epochs,val_loss,'b',label='Validation Loss')\n",
    "plt.legend()\n",
    "plt.show()\n",
    "\n",
    "plt.clf()\n",
    "plt.plot(epochs,accuracy,'bo',label='Accuracy')\n",
    "plt.plot(epochs,val_accuracy,'b',label='Validation Accuracy')\n",
    "plt.legend()\n",
    "plt.show()"
   ]
  },
  {
   "cell_type": "markdown",
   "metadata": {},
   "source": [
    "As before, our model begins to overfit, this time after 13 epochs. Let's build a second model and check the results using a few techniques (it is not as simple as before, since now we have a vector output)."
   ]
  },
  {
   "cell_type": "code",
   "execution_count": 68,
   "metadata": {},
   "outputs": [
    {
     "name": "stdout",
     "output_type": "stream",
     "text": [
      "_________________________________________________________________\n",
      "Layer (type)                 Output Shape              Param #   \n",
      "=================================================================\n",
      "embedding_4 (Embedding)      (None, 100, 16)           4452416   \n",
      "_________________________________________________________________\n",
      "flatten_4 (Flatten)          (None, 1600)              0         \n",
      "_________________________________________________________________\n",
      "dense_15 (Dense)             (None, 64)                102464    \n",
      "_________________________________________________________________\n",
      "dense_16 (Dense)             (None, 64)                4160      \n",
      "_________________________________________________________________\n",
      "dense_17 (Dense)             (None, 64)                4160      \n",
      "_________________________________________________________________\n",
      "dense_18 (Dense)             (None, 64)                4160      \n",
      "_________________________________________________________________\n",
      "dense_19 (Dense)             (None, 6)                 390       \n",
      "=================================================================\n",
      "Total params: 4,567,750\n",
      "Trainable params: 4,567,750\n",
      "Non-trainable params: 0\n",
      "_________________________________________________________________\n"
     ]
    }
   ],
   "source": [
    "# Create model with 6 node sigmoid output layer\n",
    "rms = optimizers.RMSprop(lr=1e-4)\n",
    "vocab_size = len(word_set)\n",
    "model = Sequential()\n",
    "model.add(Embedding(vocab_size+1, 16, input_length=100))\n",
    "model.add(Flatten())\n",
    "model.add(Dense(64, activation='relu'))\n",
    "model.add(Dense(64, activation='relu'))\n",
    "model.add(Dense(64, activation='relu'))\n",
    "model.add(Dense(64, activation='relu'))\n",
    "model.add(Dense(6, activation='sigmoid'))\n",
    "model.compile(optimizer=rms, loss='binary_crossentropy', metrics=['acc'])\n",
    "model.summary()"
   ]
  },
  {
   "cell_type": "code",
   "execution_count": 69,
   "metadata": {},
   "outputs": [
    {
     "name": "stdout",
     "output_type": "stream",
     "text": [
      "Train on 89360 samples, validate on 22340 samples\n",
      "Epoch 1/13\n",
      "89360/89360 [==============================] - 83s 923us/step - loss: 0.1400 - acc: 0.9605 - val_loss: 0.0938 - val_acc: 0.9664\n",
      "Epoch 2/13\n",
      "89360/89360 [==============================] - 70s 788us/step - loss: 0.0894 - acc: 0.9696 - val_loss: 0.0847 - val_acc: 0.9717\n",
      "Epoch 3/13\n",
      "89360/89360 [==============================] - 70s 785us/step - loss: 0.0826 - acc: 0.9721 - val_loss: 0.0798 - val_acc: 0.9734\n",
      "Epoch 4/13\n",
      "89360/89360 [==============================] - 70s 789us/step - loss: 0.0781 - acc: 0.9734 - val_loss: 0.0768 - val_acc: 0.9740\n",
      "Epoch 5/13\n",
      "89360/89360 [==============================] - 383s 4ms/step - loss: 0.0745 - acc: 0.9745 - val_loss: 0.0788 - val_acc: 0.9740\n",
      "Epoch 6/13\n",
      "89360/89360 [==============================] - 72s 810us/step - loss: 0.0719 - acc: 0.9757 - val_loss: 0.0738 - val_acc: 0.9754\n",
      "Epoch 7/13\n",
      "89360/89360 [==============================] - 73s 822us/step - loss: 0.0699 - acc: 0.9764 - val_loss: 0.0735 - val_acc: 0.9756\n",
      "Epoch 8/13\n",
      "89360/89360 [==============================] - 74s 827us/step - loss: 0.0684 - acc: 0.9769 - val_loss: 0.0734 - val_acc: 0.9753\n",
      "Epoch 9/13\n",
      "89360/89360 [==============================] - 74s 829us/step - loss: 0.0668 - acc: 0.9774 - val_loss: 0.0727 - val_acc: 0.9764\n",
      "Epoch 10/13\n",
      "89360/89360 [==============================] - 74s 834us/step - loss: 0.0655 - acc: 0.9779 - val_loss: 0.0716 - val_acc: 0.9765\n",
      "Epoch 11/13\n",
      "89360/89360 [==============================] - 75s 834us/step - loss: 0.0639 - acc: 0.9782 - val_loss: 0.0721 - val_acc: 0.9767\n",
      "Epoch 12/13\n",
      "89360/89360 [==============================] - 74s 831us/step - loss: 0.0625 - acc: 0.9787 - val_loss: 0.0728 - val_acc: 0.9769\n",
      "Epoch 13/13\n",
      "89360/89360 [==============================] - 73s 818us/step - loss: 0.0612 - acc: 0.9793 - val_loss: 0.0743 - val_acc: 0.9771\n"
     ]
    }
   ],
   "source": [
    "history = model.fit(x_train, y_train,\n",
    "                   epochs=13,\n",
    "                   batch_size=32,\n",
    "                   validation_split=0.2)"
   ]
  },
  {
   "cell_type": "code",
   "execution_count": 70,
   "metadata": {},
   "outputs": [],
   "source": [
    "y_pred = model.predict(x_test)"
   ]
  },
  {
   "cell_type": "markdown",
   "metadata": {},
   "source": [
    "Now, our predictions are the probability of each label being assigned to a comment. Let's look at an example."
   ]
  },
  {
   "cell_type": "code",
   "execution_count": 71,
   "metadata": {},
   "outputs": [
    {
     "data": {
      "text/plain": [
       "array([1.3236671e-03, 2.6692546e-09, 3.7316061e-04, 5.6367964e-09,\n",
       "       1.6937651e-04, 2.2211088e-06], dtype=float32)"
      ]
     },
     "execution_count": 71,
     "metadata": {},
     "output_type": "execute_result"
    }
   ],
   "source": [
    "y_pred[10]"
   ]
  },
  {
   "cell_type": "markdown",
   "metadata": {},
   "source": [
    "One metric we can compute is the average precision score, which ranges from 0-1. Our value of 0.99 is quite high, meaning we didn't flag many non-toxic comments incorrectly."
   ]
  },
  {
   "cell_type": "code",
   "execution_count": 72,
   "metadata": {},
   "outputs": [
    {
     "data": {
      "text/plain": [
       "0.9943331383649118"
      ]
     },
     "execution_count": 72,
     "metadata": {},
     "output_type": "execute_result"
    }
   ],
   "source": [
    "label_ranking_average_precision_score(y_test,y_pred)"
   ]
  },
  {
   "cell_type": "markdown",
   "metadata": {},
   "source": [
    "Let's take a look at a random sample of results, comparing the true and predicted labels. In addition, we'll print the norm of the difference between the vectors. This gives an indication of how far apart the labels are."
   ]
  },
  {
   "cell_type": "code",
   "execution_count": 116,
   "metadata": {},
   "outputs": [],
   "source": [
    "toxic = list(np.where(np.sum(y_test,axis=1))[0])"
   ]
  },
  {
   "cell_type": "code",
   "execution_count": 152,
   "metadata": {},
   "outputs": [],
   "source": [
    "rand_ind = random.sample(toxic,10)"
   ]
  },
  {
   "cell_type": "code",
   "execution_count": 153,
   "metadata": {},
   "outputs": [
    {
     "name": "stdout",
     "output_type": "stream",
     "text": [
      "Predicted: [1 0 1 0 1 0], Actual: [1 0 1 0 1 0], Norm: 0.000000\n",
      "Predicted: [1 0 0 0 0 0], Actual: [1 0 0 0 0 0], Norm: 0.000000\n",
      "Predicted: [1 0 1 0 1 0], Actual: [1 0 0 0 0 0], Norm: 1.414214\n",
      "Predicted: [1 0 1 0 1 0], Actual: [1 1 1 1 1 1], Norm: 1.732051\n",
      "Predicted: [1 0 0 0 0 0], Actual: [1 0 1 0 1 1], Norm: 1.732051\n",
      "Predicted: [0 0 0 0 0 0], Actual: [1 0 0 0 0 0], Norm: 1.000000\n",
      "Predicted: [1 0 1 0 1 0], Actual: [1 0 0 0 0 0], Norm: 1.414214\n",
      "Predicted: [1 0 1 0 1 0], Actual: [1 0 0 0 1 0], Norm: 1.000000\n",
      "Predicted: [1 0 0 0 0 0], Actual: [1 0 0 0 0 0], Norm: 0.000000\n",
      "Predicted: [1 0 1 0 1 0], Actual: [1 0 1 0 0 0], Norm: 1.000000\n"
     ]
    }
   ],
   "source": [
    "for ind in rand_ind:\n",
    "    pred = np.round(y_pred[ind]).astype(int)\n",
    "    actual = y_test[ind]\n",
    "    norm = np.linalg.norm(pred-actual)\n",
    "    print('Predicted: %s, Actual: %s, Norm: %f' % (pred,actual,norm))"
   ]
  },
  {
   "cell_type": "markdown",
   "metadata": {},
   "source": [
    "Note that a few labels are exactly right, some had one mislabel, and a few had two or three. Let's plot these differences, to see the distribution of mislabels. Note that we don't know if the placement of labels is correct, only the number. Still, this gives us a general indication of how closely the labels align."
   ]
  },
  {
   "cell_type": "code",
   "execution_count": 171,
   "metadata": {},
   "outputs": [],
   "source": [
    "predict_sum = np.sum(np.round(y_pred),axis=1)\n",
    "actual_sum = np.sum(y_test,axis=1)"
   ]
  },
  {
   "cell_type": "code",
   "execution_count": 207,
   "metadata": {},
   "outputs": [],
   "source": [
    "diff = np.absolute(predict_sum-actual_sum).astype(float)"
   ]
  },
  {
   "cell_type": "code",
   "execution_count": 211,
   "metadata": {},
   "outputs": [
    {
     "data": {
      "image/png": "[encoded data removed]",
      "text/plain": [
       "<Figure size 432x288 with 1 Axes>"
      ]
     },
     "metadata": {},
     "output_type": "display_data"
    }
   ],
   "source": [
    "plt.hist(diff,align='left')\n",
    "plt.xlabel('Difference')\n",
    "plt.ylabel('Count')\n",
    "plt.draw()"
   ]
  },
  {
   "cell_type": "markdown",
   "metadata": {},
   "source": [
    "Note that of the roughly 47,000 samples, most had the labels exactly right, around 2,000 were off by one label, and only a few hundred were off by more.\n",
    "\n",
    "As a final check, let's see how many toxic comments received at least one toxic label."
   ]
  },
  {
   "cell_type": "code",
   "execution_count": 217,
   "metadata": {},
   "outputs": [],
   "source": [
    "predict_toxic = predict_sum > 0\n",
    "predict_toxic = predict_toxic.astype(int)"
   ]
  },
  {
   "cell_type": "code",
   "execution_count": 216,
   "metadata": {},
   "outputs": [],
   "source": [
    "actual_toxic = actual_sum > 0\n",
    "actual_toxic = actual_toxic.astype(int)"
   ]
  },
  {
   "cell_type": "code",
   "execution_count": 218,
   "metadata": {},
   "outputs": [
    {
     "name": "stdout",
     "output_type": "stream",
     "text": [
      "True negatives: 42626\n",
      "False positives: 477\n",
      "False negatives: 2452\n",
      "True positives: 2316\n",
      "Accuracy: 0.94\n",
      "Precision: 0.83\n",
      "Recall: 0.49\n"
     ]
    }
   ],
   "source": [
    "printMetrics(predict_toxic,actual_toxic)"
   ]
  },
  {
   "cell_type": "markdown",
   "metadata": {},
   "source": [
    "It looks like we only caught about half of the toxic comments. Since it's more difficult to assign class weights in the multilabel case, let's try upsampling the toxic comments, like we did in the naive Bayes formulation."
   ]
  },
  {
   "cell_type": "markdown",
   "metadata": {},
   "source": [
    "## Neural Network (Keras) with Multiclass, Multilabel Formulation, Upsampled"
   ]
  },
  {
   "cell_type": "markdown",
   "metadata": {},
   "source": [
    "As in the naive Bayes case, let's try upsampling the toxic comments (with replacement), and see if that helps our model."
   ]
  },
  {
   "cell_type": "code",
   "execution_count": 79,
   "metadata": {},
   "outputs": [],
   "source": [
    "y_train_sum = np.sum(y_train,axis=1)"
   ]
  },
  {
   "cell_type": "code",
   "execution_count": 80,
   "metadata": {},
   "outputs": [],
   "source": [
    "# Try upsampling minority class\n",
    "idx_clean = np.where(y_train_sum == 0)[0]\n",
    "idx_toxic = np.where(y_train_sum > 0)[0]"
   ]
  },
  {
   "cell_type": "code",
   "execution_count": 81,
   "metadata": {},
   "outputs": [],
   "source": [
    "idx_toxic_upsampled = np.random.choice(idx_toxic, size=len(idx_clean), replace=True)"
   ]
  },
  {
   "cell_type": "code",
   "execution_count": 82,
   "metadata": {},
   "outputs": [],
   "source": [
    "# Combine clean labels and upsample labels\n",
    "x_train_upsampled = np.concatenate([x_train[idx_clean], x_train[idx_toxic_upsampled]])\n",
    "y_train_upsampled = np.concatenate([y_train[idx_clean], y_train[idx_toxic_upsampled]])"
   ]
  },
  {
   "cell_type": "code",
   "execution_count": 86,
   "metadata": {},
   "outputs": [
    {
     "name": "stdout",
     "output_type": "stream",
     "text": [
      "_________________________________________________________________\n",
      "Layer (type)                 Output Shape              Param #   \n",
      "=================================================================\n",
      "embedding_22 (Embedding)     (None, 100, 16)           4452416   \n",
      "_________________________________________________________________\n",
      "flatten_22 (Flatten)         (None, 1600)              0         \n",
      "_________________________________________________________________\n",
      "dense_96 (Dense)             (None, 64)                102464    \n",
      "_________________________________________________________________\n",
      "dense_97 (Dense)             (None, 64)                4160      \n",
      "_________________________________________________________________\n",
      "dense_98 (Dense)             (None, 64)                4160      \n",
      "_________________________________________________________________\n",
      "dense_99 (Dense)             (None, 64)                4160      \n",
      "_________________________________________________________________\n",
      "dense_100 (Dense)            (None, 6)                 390       \n",
      "=================================================================\n",
      "Total params: 4,567,750\n",
      "Trainable params: 4,567,750\n",
      "Non-trainable params: 0\n",
      "_________________________________________________________________\n"
     ]
    }
   ],
   "source": [
    "# Create model with 6 node sigmoid output layer\n",
    "rms = optimizers.RMSprop(lr=1e-4)\n",
    "vocab_size = len(word_set)\n",
    "model = Sequential()\n",
    "model.add(Embedding(vocab_size+1, 16, input_length=100))\n",
    "model.add(Flatten())\n",
    "model.add(Dense(64, activation='relu'))\n",
    "model.add(Dense(64, activation='relu'))\n",
    "model.add(Dense(64, activation='relu'))\n",
    "model.add(Dense(64, activation='relu'))\n",
    "model.add(Dense(6, activation='sigmoid'))\n",
    "model.compile(optimizer=rms, loss='binary_crossentropy', metrics=['acc'])\n",
    "model.summary()"
   ]
  },
  {
   "cell_type": "code",
   "execution_count": 87,
   "metadata": {},
   "outputs": [
    {
     "name": "stdout",
     "output_type": "stream",
     "text": [
      "Train on 160684 samples, validate on 40172 samples\n",
      "Epoch 1/40\n",
      "160684/160684 [==============================] - 70s 435us/step - loss: 0.2546 - acc: 0.8992 - val_loss: 0.4192 - val_acc: 0.8207\n",
      "Epoch 2/40\n",
      "160684/160684 [==============================] - 65s 407us/step - loss: 0.1645 - acc: 0.9355 - val_loss: 0.3771 - val_acc: 0.8431\n",
      "Epoch 3/40\n",
      "160684/160684 [==============================] - 66s 411us/step - loss: 0.1426 - acc: 0.9445 - val_loss: 0.3291 - val_acc: 0.8680\n",
      "Epoch 4/40\n",
      "160684/160684 [==============================] - 66s 411us/step - loss: 0.1277 - acc: 0.9508 - val_loss: 0.3058 - val_acc: 0.8817\n",
      "Epoch 5/40\n",
      "160684/160684 [==============================] - 67s 414us/step - loss: 0.1152 - acc: 0.9561 - val_loss: 0.2770 - val_acc: 0.8933\n",
      "Epoch 6/40\n",
      "160684/160684 [==============================] - 67s 417us/step - loss: 0.1029 - acc: 0.9605 - val_loss: 0.2489 - val_acc: 0.9042\n",
      "Epoch 7/40\n",
      "160684/160684 [==============================] - 67s 419us/step - loss: 0.0905 - acc: 0.9651 - val_loss: 0.2412 - val_acc: 0.9075\n",
      "Epoch 8/40\n",
      "160684/160684 [==============================] - 67s 414us/step - loss: 0.0785 - acc: 0.9704 - val_loss: 0.2093 - val_acc: 0.9226\n",
      "Epoch 9/40\n",
      "160684/160684 [==============================] - 67s 417us/step - loss: 0.0670 - acc: 0.9756 - val_loss: 0.1727 - val_acc: 0.9377\n",
      "Epoch 10/40\n",
      "160684/160684 [==============================] - 67s 419us/step - loss: 0.0568 - acc: 0.9800 - val_loss: 0.1522 - val_acc: 0.9487\n",
      "Epoch 11/40\n",
      "160684/160684 [==============================] - 67s 420us/step - loss: 0.0485 - acc: 0.9835 - val_loss: 0.1399 - val_acc: 0.9547\n",
      "Epoch 12/40\n",
      "160684/160684 [==============================] - 68s 422us/step - loss: 0.0417 - acc: 0.9861 - val_loss: 0.1228 - val_acc: 0.9612\n",
      "Epoch 13/40\n",
      "160684/160684 [==============================] - 68s 422us/step - loss: 0.0362 - acc: 0.9882 - val_loss: 0.1076 - val_acc: 0.9676\n",
      "Epoch 14/40\n",
      "160684/160684 [==============================] - 67s 418us/step - loss: 0.0317 - acc: 0.9900 - val_loss: 0.0980 - val_acc: 0.9715\n",
      "Epoch 15/40\n",
      "160684/160684 [==============================] - 68s 422us/step - loss: 0.0278 - acc: 0.9914 - val_loss: 0.0899 - val_acc: 0.9732\n",
      "Epoch 16/40\n",
      "160684/160684 [==============================] - 68s 423us/step - loss: 0.0244 - acc: 0.9925 - val_loss: 0.0806 - val_acc: 0.9771\n",
      "Epoch 17/40\n",
      "160684/160684 [==============================] - 68s 421us/step - loss: 0.0215 - acc: 0.9936 - val_loss: 0.0764 - val_acc: 0.9788\n",
      "Epoch 18/40\n",
      "160684/160684 [==============================] - 68s 420us/step - loss: 0.0190 - acc: 0.9944 - val_loss: 0.0712 - val_acc: 0.9812\n",
      "Epoch 19/40\n",
      "160684/160684 [==============================] - 66s 410us/step - loss: 0.0168 - acc: 0.9952 - val_loss: 0.0659 - val_acc: 0.9829\n",
      "Epoch 20/40\n",
      "160684/160684 [==============================] - 68s 422us/step - loss: 0.0150 - acc: 0.9958 - val_loss: 0.0557 - val_acc: 0.9862\n",
      "Epoch 21/40\n",
      "160684/160684 [==============================] - 68s 423us/step - loss: 0.0133 - acc: 0.9963 - val_loss: 0.0535 - val_acc: 0.9865\n",
      "Epoch 22/40\n",
      "160684/160684 [==============================] - 71s 439us/step - loss: 0.0118 - acc: 0.9967 - val_loss: 0.0490 - val_acc: 0.9884\n",
      "Epoch 23/40\n",
      "160684/160684 [==============================] - 66s 411us/step - loss: 0.0108 - acc: 0.9971 - val_loss: 0.0690 - val_acc: 0.9802\n",
      "Epoch 24/40\n",
      "160684/160684 [==============================] - 66s 411us/step - loss: 0.0098 - acc: 0.9974 - val_loss: 0.0433 - val_acc: 0.9903\n",
      "Epoch 25/40\n",
      "160684/160684 [==============================] - 67s 418us/step - loss: 0.0090 - acc: 0.9977 - val_loss: 0.0417 - val_acc: 0.9910\n",
      "Epoch 26/40\n",
      "160684/160684 [==============================] - 70s 433us/step - loss: 0.0082 - acc: 0.9978 - val_loss: 0.0403 - val_acc: 0.9918\n",
      "Epoch 27/40\n",
      "160684/160684 [==============================] - 70s 433us/step - loss: 0.0076 - acc: 0.9980 - val_loss: 0.0374 - val_acc: 0.9922\n",
      "Epoch 28/40\n",
      "160684/160684 [==============================] - 70s 434us/step - loss: 0.0071 - acc: 0.9982 - val_loss: 0.0393 - val_acc: 0.9910\n",
      "Epoch 29/40\n",
      "160684/160684 [==============================] - 70s 436us/step - loss: 0.0066 - acc: 0.9984 - val_loss: 0.0340 - val_acc: 0.9931\n",
      "Epoch 30/40\n",
      "160684/160684 [==============================] - 70s 435us/step - loss: 0.0062 - acc: 0.9985 - val_loss: 0.0349 - val_acc: 0.9933\n",
      "Epoch 31/40\n",
      "160684/160684 [==============================] - 70s 436us/step - loss: 0.0059 - acc: 0.9986 - val_loss: 0.0361 - val_acc: 0.9925\n",
      "Epoch 32/40\n",
      "160684/160684 [==============================] - 70s 437us/step - loss: 0.0056 - acc: 0.9987 - val_loss: 0.0332 - val_acc: 0.9934\n",
      "Epoch 33/40\n",
      "160684/160684 [==============================] - 70s 436us/step - loss: 0.0053 - acc: 0.9987 - val_loss: 0.0311 - val_acc: 0.9944\n",
      "Epoch 34/40\n",
      "160684/160684 [==============================] - 69s 430us/step - loss: 0.0050 - acc: 0.9988 - val_loss: 0.0293 - val_acc: 0.9946\n",
      "Epoch 35/40\n",
      "160684/160684 [==============================] - 70s 434us/step - loss: 0.0047 - acc: 0.9989 - val_loss: 0.0295 - val_acc: 0.9949\n",
      "Epoch 36/40\n",
      "160684/160684 [==============================] - 65s 407us/step - loss: 0.0046 - acc: 0.9989 - val_loss: 0.0281 - val_acc: 0.9954\n",
      "Epoch 37/40\n",
      "160684/160684 [==============================] - 65s 407us/step - loss: 0.0045 - acc: 0.9990 - val_loss: 0.0300 - val_acc: 0.9945\n",
      "Epoch 38/40\n",
      "160684/160684 [==============================] - 65s 407us/step - loss: 0.0042 - acc: 0.9990 - val_loss: 0.0283 - val_acc: 0.9955\n",
      "Epoch 39/40\n",
      "160684/160684 [==============================] - 66s 408us/step - loss: 0.0042 - acc: 0.9990 - val_loss: 0.0291 - val_acc: 0.9957\n",
      "Epoch 40/40\n",
      "160684/160684 [==============================] - 74s 461us/step - loss: 0.0040 - acc: 0.9991 - val_loss: 0.0272 - val_acc: 0.9959\n"
     ]
    }
   ],
   "source": [
    "history = model.fit(x_train_upsampled, y_train_upsampled,\n",
    "                   epochs=40,\n",
    "                   batch_size=64,\n",
    "                   validation_split=0.2,\n",
    "                   shuffle=True)"
   ]
  },
  {
   "cell_type": "code",
   "execution_count": 88,
   "metadata": {},
   "outputs": [
    {
     "data": {
      "image/png": "[encoded data removed]",
      "text/plain": [
       "<Figure size 432x288 with 1 Axes>"
      ]
     },
     "metadata": {},
     "output_type": "display_data"
    },
    {
     "data": {
      "image/png": "[encoded data removed]",
      "text/plain": [
       "<Figure size 432x288 with 1 Axes>"
      ]
     },
     "metadata": {},
     "output_type": "display_data"
    }
   ],
   "source": [
    "accuracy = history.history['acc']\n",
    "val_accuracy = history.history['val_acc']\n",
    "loss = history.history['loss']\n",
    "val_loss = history.history['val_loss']\n",
    "epochs = range(1,len(accuracy)+1)\n",
    "plt.plot(epochs,loss,'bo',label='Loss')\n",
    "plt.plot(epochs,val_loss,'b',label='Validation Loss')\n",
    "plt.legend()\n",
    "plt.show()\n",
    "\n",
    "plt.clf()\n",
    "plt.plot(epochs,accuracy,'bo',label='Accuracy')\n",
    "plt.plot(epochs,val_accuracy,'b',label='Validation Accuracy')\n",
    "plt.legend()\n",
    "plt.show()"
   ]
  },
  {
   "cell_type": "markdown",
   "metadata": {},
   "source": [
    "The model converges quite smoothly, so let's check the performance on the test set."
   ]
  },
  {
   "cell_type": "code",
   "execution_count": 89,
   "metadata": {},
   "outputs": [],
   "source": [
    "y_pred = model.predict(x_test)"
   ]
  },
  {
   "cell_type": "code",
   "execution_count": 90,
   "metadata": {},
   "outputs": [
    {
     "data": {
      "text/plain": [
       "0.9833510371623746"
      ]
     },
     "execution_count": 90,
     "metadata": {},
     "output_type": "execute_result"
    }
   ],
   "source": [
    "label_ranking_average_precision_score(y_test,y_pred)"
   ]
  },
  {
   "cell_type": "code",
   "execution_count": 92,
   "metadata": {},
   "outputs": [],
   "source": [
    "toxic = list(np.where(np.sum(y_test,axis=1))[0])"
   ]
  },
  {
   "cell_type": "code",
   "execution_count": 105,
   "metadata": {},
   "outputs": [],
   "source": [
    "rand_ind = random.sample(toxic,10)"
   ]
  },
  {
   "cell_type": "code",
   "execution_count": 106,
   "metadata": {},
   "outputs": [
    {
     "name": "stdout",
     "output_type": "stream",
     "text": [
      "Predicted: [0 0 0 0 0 0], Actual: [1 0 1 0 1 0], Norm: 1.732051\n",
      "Predicted: [1 0 1 0 1 0], Actual: [1 0 1 0 1 0], Norm: 0.000000\n",
      "Predicted: [0 0 0 0 0 0], Actual: [1 0 0 0 0 0], Norm: 1.000000\n",
      "Predicted: [1 1 1 0 1 0], Actual: [1 1 1 0 1 0], Norm: 0.000000\n",
      "Predicted: [1 0 0 0 1 0], Actual: [1 0 1 0 1 0], Norm: 1.000000\n",
      "Predicted: [0 0 0 0 0 0], Actual: [1 0 1 0 1 0], Norm: 1.732051\n",
      "Predicted: [0 0 0 0 0 0], Actual: [1 0 0 0 0 0], Norm: 1.000000\n",
      "Predicted: [0 0 0 0 0 0], Actual: [1 0 0 0 0 0], Norm: 1.000000\n",
      "Predicted: [1 0 0 0 0 0], Actual: [1 0 0 0 0 0], Norm: 0.000000\n",
      "Predicted: [1 0 0 0 1 0], Actual: [1 0 1 0 1 0], Norm: 1.000000\n"
     ]
    }
   ],
   "source": [
    "for ind in rand_ind:\n",
    "    pred = np.round(y_pred[ind]).astype(int)\n",
    "    actual = y_test[ind]\n",
    "    norm = np.linalg.norm(pred-actual)\n",
    "    print('Predicted: %s, Actual: %s, Norm: %f' % (pred,actual,norm))"
   ]
  },
  {
   "cell_type": "markdown",
   "metadata": {},
   "source": [
    "Once again, some labels are exactly right, some are mislabeled once, and a few are off by more. Looking at the distribution of mislabels, it appears quite similar to the previous case, before upsampling."
   ]
  },
  {
   "cell_type": "code",
   "execution_count": 98,
   "metadata": {},
   "outputs": [],
   "source": [
    "predict_sum = np.sum(np.round(y_pred),axis=1)\n",
    "actual_sum = np.sum(y_test,axis=1)"
   ]
  },
  {
   "cell_type": "code",
   "execution_count": 107,
   "metadata": {},
   "outputs": [],
   "source": [
    "diff = np.absolute(predict_sum-actual_sum).astype(float)"
   ]
  },
  {
   "cell_type": "code",
   "execution_count": 108,
   "metadata": {},
   "outputs": [
    {
     "data": {
      "image/png": "[encoded data removed]",
      "text/plain": [
       "<Figure size 432x288 with 1 Axes>"
      ]
     },
     "metadata": {},
     "output_type": "display_data"
    }
   ],
   "source": [
    "plt.hist(diff,align='left')\n",
    "plt.xlabel('Difference')\n",
    "plt.ylabel('Count')\n",
    "plt.draw()"
   ]
  },
  {
   "cell_type": "code",
   "execution_count": 97,
   "metadata": {},
   "outputs": [],
   "source": [
    "predict_toxic = predict_sum > 0\n",
    "predict_toxic = predict_toxic.astype(int)"
   ]
  },
  {
   "cell_type": "markdown",
   "metadata": {},
   "source": [
    "As a final check, let's see how many toxic comments we actually flagged."
   ]
  },
  {
   "cell_type": "code",
   "execution_count": 99,
   "metadata": {},
   "outputs": [],
   "source": [
    "actual_toxic = actual_sum > 0\n",
    "actual_toxic = actual_toxic.astype(int)"
   ]
  },
  {
   "cell_type": "code",
   "execution_count": 100,
   "metadata": {},
   "outputs": [
    {
     "name": "stdout",
     "output_type": "stream",
     "text": [
      "True negatives: 41697\n",
      "False positives: 1221\n",
      "False negatives: 1905\n",
      "True positives: 3048\n",
      "Accuracy: 0.93\n",
      "Precision: 0.71\n",
      "Recall: 0.62\n"
     ]
    }
   ],
   "source": [
    "printMetrics(predict_toxic,actual_toxic)"
   ]
  },
  {
   "cell_type": "markdown",
   "metadata": {},
   "source": [
    "It looks like we only caught 62% of toxic comments, which is far less than the binary case. Given the more complex nature of this problem, and the fact that knowing something about the sequence of words might help the specific labeling, one other thing to try would be a recurrent network with one or more LSTM layers. That will be tried in a future version of this writeup. For now, we explored the binary classification formulation of the problem, and found that a simple naive Bayes model worked best. Some success was achieved using the multilabel, multiclass formulation, but a more complex network architecture is probably required to achieve better performance."
   ]
  },
  {
   "cell_type": "code",
   "execution_count": null,
   "metadata": {},
   "outputs": [],
   "source": []
  }
 ],
 "metadata": {
  "kernelspec": {
   "display_name": "Python 3",
   "language": "python",
   "name": "python3"
  },
  "language_info": {
   "codemirror_mode": {
    "name": "ipython",
    "version": 3
   },
   "file_extension": ".py",
   "mimetype": "text/x-python",
   "name": "python",
   "nbconvert_exporter": "python",
   "pygments_lexer": "ipython3",
   "version": "3.6.5"
  }
 },
 "nbformat": 4,
 "nbformat_minor": 2
}
