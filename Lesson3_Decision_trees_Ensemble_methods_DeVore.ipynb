{
 "cells": [
  {
   "cell_type": "markdown",
   "metadata": {},
   "source": [
    "Instructions:\n",
    "-\tYour solution for this assignment need to be in a pdf format\n",
    "-\tFor programming question, your code should be well documented, so anyone reading it can understand what's happening.\n"
   ]
  },
  {
   "cell_type": "markdown",
   "metadata": {},
   "source": [
    "# Problem 1: Conceptual\n",
    "\n",
    "#### Requisites\n",
    "Read relevant sections of *An Introduction to Statistical Learning* Ch.8 Tree-Based Methods"
   ]
  },
  {
   "cell_type": "markdown",
   "metadata": {},
   "source": [
    "### a)\tSuppose we produce ten bootstrapped samples from a data set containing red and green classes. We then apply a classification tree to each bootstrapped sample and, for a specific value of X , produce 10 estimates of P (Class is Red|X ):\n",
    "\n",
    "```0. 1,  0. 15,  0. 2,  0. 2,  0. 55,  0. 6,  0. 6,  0. 65,  0. 7,  and 0. 75.```\n",
    "\n",
    "There are two common ways to combine these results together into a single class prediction. One is the majority vote approach discussed in this chapter. The second approach is to classify based on the average probability. In this example, what is the final classification under each of these two approaches?"
   ]
  },
  {
   "cell_type": "markdown",
   "metadata": {},
   "source": [
    "### Solution\n",
    "\n",
    "The first step is to generate the data shown above:"
   ]
  },
  {
   "cell_type": "code",
   "execution_count": 1,
   "metadata": {},
   "outputs": [
    {
     "name": "stdout",
     "output_type": "stream",
     "text": [
      "[0.1  0.15 0.2  0.2  0.55 0.6  0.6  0.65 0.7  0.75]\n",
      "There are 10 estimates in total\n"
     ]
    }
   ],
   "source": [
    "import numpy as np\n",
    "estimates = np.array([0.1, 0.15, 0.2, 0.2, 0.55, 0.6, 0.6, 0.65, 0.7, 0.75])\n",
    "print(estimates)\n",
    "num_estimates = np.shape(estimates)\n",
    "print('There are %i estimates in total' % num_estimates)"
   ]
  },
  {
   "cell_type": "markdown",
   "metadata": {},
   "source": [
    "Assuming a decision threshold probability of 0.5, for the majority vote approach we need compare the number of instances where the estimate is greater than or equal to 0.5 (class Red) to the number of instances where the estimate is less than 0.5 (class Green). Whichever set has the largest number of instances determines the assigned class."
   ]
  },
  {
   "cell_type": "code",
   "execution_count": 2,
   "metadata": {},
   "outputs": [
    {
     "name": "stdout",
     "output_type": "stream",
     "text": [
      "Using the majority vote approach:\n",
      "\n",
      "The number of votes for class Red = 6\n",
      "The number of votes for class Green = 4\n",
      "The assigned class is Red\n"
     ]
    }
   ],
   "source": [
    "p_threshold = 0.5\n",
    "numRed = np.sum(estimates >= p_threshold)\n",
    "numGreen = np.sum(estimates < p_threshold)\n",
    "print('Using the majority vote approach:\\n')\n",
    "print('The number of votes for class Red = %i' % numRed)\n",
    "print('The number of votes for class Green = %i' % numGreen)\n",
    "if numRed >= numGreen:\n",
    "    print('The assigned class is Red')\n",
    "else:\n",
    "    print('The assigned class is Green')"
   ]
  },
  {
   "cell_type": "markdown",
   "metadata": {},
   "source": [
    "For the average probability approach, we simply need to determine the mean of the 10 predictions and compare that value to the threshold probability."
   ]
  },
  {
   "cell_type": "code",
   "execution_count": 3,
   "metadata": {},
   "outputs": [
    {
     "name": "stdout",
     "output_type": "stream",
     "text": [
      "Using the average vote approach:\n",
      "\n",
      "The mean estimate is 0.450000\n",
      "The assigned class is Green\n"
     ]
    }
   ],
   "source": [
    "print('Using the average vote approach:\\n')\n",
    "mean_estimate = np.mean(estimates)\n",
    "print('The mean estimate is %f' % mean_estimate)\n",
    "if mean_estimate >= p_threshold:\n",
    "    print('The assigned class is Red')\n",
    "else:\n",
    "    print('The assigned class is Green')"
   ]
  },
  {
   "cell_type": "markdown",
   "metadata": {},
   "source": [
    "In this case, the majority vote and average vote approachs produce different results. Part of the reason for the disagreement is that the average vote approach is more sensitive to values that are far from the threshold (the mean is sensitive to outliers). Within the estimates, even though there were only four values below the threshold, they were all closer to zero than they were to the threshold (less than or equal to 0.2). The six values above the threshold were all closer to the threshold than they were to one (none were above 0.75). Because of this, the mean of the estimates was pulled towards zero, resulting in a value below the threshold."
   ]
  },
  {
   "cell_type": "markdown",
   "metadata": {},
   "source": [
    "Consider the plot below, which shows a histogram of the estimates along with the threshold (black line) mean (red line) and median (blue line). The mean is pulled to the left of the threshold because of the cluster of estimates close to zero. The median is relatively unaffected by this and remains above the threshold.\n",
    "\n",
    "Note that this behavior may be ok, as we might want stronger probabilities (either towards 0 or 1) to help influence the decision. It depends on the specific problem, so each approach should be used appropriately."
   ]
  },
  {
   "cell_type": "code",
   "execution_count": 4,
   "metadata": {},
   "outputs": [
    {
     "data": {
      "image/png": "[encoded data removed]",
      "text/plain": [
       "<matplotlib.figure.Figure at 0x7fccafabb0d0>"
      ]
     },
     "metadata": {},
     "output_type": "display_data"
    }
   ],
   "source": [
    "import matplotlib.pyplot as plt\n",
    "plt.hist(estimates, color = 'green')\n",
    "plt.xlabel('Probability')\n",
    "plt.ylabel('Counts')\n",
    "plt.title('Decision Tree Estimates (Black - Threshold, Red - Mean, Blue - Median)')\n",
    "plt.xlim([0,1])\n",
    "# Add vertical lines to indicate mean and median\n",
    "plt.axvline(x = p_threshold, color = 'black')\n",
    "plt.axvline(x = mean_estimate, color = 'red')\n",
    "plt.axvline(x = np.median(estimates), color = 'blue')\n",
    "plt.show()"
   ]
  },
  {
   "cell_type": "markdown",
   "metadata": {},
   "source": [
    "### b)\tProvide a detailed explanation of the algorithm that is used to fit a regression tree.\n",
    "\n",
    "At a high level, there are two steps to building a regression tree. \n",
    "1. Divide the predictor space into J distinct, non-overlapping regions. \n",
    "2. For any test observation that lands a given region, assign the mean response value for the training observations in that region. \n",
    "\n",
    "The first phase is the fitting phase, which will be explained in more detail:\n",
    "1. When dividing the predictor space into $J$ distinct regions, each region is created such that the residual sum of squares (RSS) is minimized within the region. In other words, the sum of the squared differences between the actual and predicted response values is minimized.\n",
    "2. Because it is not computationally feasible to consider all possible partitions, a greedy algorithm is used. A greedy algorithm looks for a local optimum at each step with the hope of finding a global optimum (in general, it does not find the global optimum, but rather a locally optimal solution in a reasonable amount of time).\n",
    "3. The approach taken is called recursive binary splitting, which is a top-down, greedy algorithm. The greedy part was covered above, and the top-down part refers to the fact that the algorithm begins at the top of the tree (where no splits have been made yet) and successively splits the predictor space at each level. The algorithm is recursive because each split is performed in the same manner, just on a smaller subset of the predictor space.\n",
    "4. Each time a split is made, both a predictor (denoted $X_J$) and a cutpoint (denoted $s$) are selected such that the region created by the split where $X_J$ is less than $s$ on one side and $X_J$ is greater than s on the other leads to the greatest possible reduction in RSS out of all possible predictors and all possible cutpoints. The algorithm is greedy in this case because it considers the best possible split at that step, without looking ahead to see if a different split could be more globally beneficial at some future step.\n",
    "5. When considering a split, the RSS from the observations on one side of the split (call this region $R_1$) is added to the RSS from the observations on the other side of the split (call this region $R_2$) to compute the total RSS for the split. As mentioned above, the predictor and cutpoint that minimize this sum are chosen to make the split.\n",
    "6. Within each region created by the split defined above, perform the same procedure again in a recursive fashion. This continues until a stopping criterion is reached, for example once the predictor space in a region contains less than some minimum number of samples."
   ]
  },
  {
   "cell_type": "markdown",
   "metadata": {
    "collapsed": true
   },
   "source": [
    "# Problem 2: Train and fine-tune a Decision Tree"
   ]
  },
  {
   "cell_type": "markdown",
   "metadata": {},
   "source": [
    "### a) Generate a moons dataset in sklearn using make_moons(n_samples=10000, noise=0.4) and split your data into a training set and a test set. "
   ]
  },
  {
   "cell_type": "code",
   "execution_count": 5,
   "metadata": {
    "collapsed": true
   },
   "outputs": [],
   "source": [
    "from sklearn.datasets import make_moons\n",
    "from sklearn.model_selection import train_test_split\n",
    "\n",
    "X, y = make_moons(n_samples=10000, noise=0.4, random_state=42)\n",
    "\n",
    "#Split it into a training set and a test set using train_test_split().\n",
    "X_train, X_test, y_train, y_test = train_test_split(X, y, test_size=0.2, random_state=42)"
   ]
  },
  {
   "cell_type": "markdown",
   "metadata": {},
   "source": [
    "Let's take a look at the data that we just generated (in particular, the training set):"
   ]
  },
  {
   "cell_type": "code",
   "execution_count": 6,
   "metadata": {},
   "outputs": [
    {
     "name": "stdout",
     "output_type": "stream",
     "text": [
      "(8000, 2)\n",
      "(8000,)\n",
      "X data:\n",
      "[[-0.56413534  0.29283681]\n",
      " [-1.16033479  0.96512577]\n",
      " [-0.06598769 -0.15191052]\n",
      " [-0.38613603  0.4118307 ]\n",
      " [ 0.053037    0.3737536 ]\n",
      " [ 0.57508824 -0.16323848]\n",
      " [-0.29712957  0.47121385]\n",
      " [ 0.0564801   0.44764934]\n",
      " [ 0.69109639 -0.03407157]\n",
      " [ 0.56185775  1.06121326]]\n",
      "y data:\n",
      "[0 0 1 0 1 1 0 0 0 0]\n"
     ]
    },
    {
     "data": {
      "image/png": "[encoded data removed]",
      "text/plain": [
       "<matplotlib.figure.Figure at 0x7fcc9ff5a050>"
      ]
     },
     "metadata": {},
     "output_type": "display_data"
    }
   ],
   "source": [
    "# Look at size of data set\n",
    "print(np.shape(X_train))\n",
    "print(np.shape(y_train))\n",
    "print('X data:')\n",
    "print(X_train[0:10,:])\n",
    "print('y data:')\n",
    "print(y_train[0:10])\n",
    "# Make scatter plot\n",
    "plt.scatter(X_train[:,0],X_train[:,1], c = y_train)\n",
    "plt.xlabel('First feature of X')\n",
    "plt.ylabel('Second feature of X')\n",
    "plt.title('Moons Data Colored By Class Label')\n",
    "plt.show()"
   ]
  },
  {
   "cell_type": "markdown",
   "metadata": {},
   "source": [
    "Apparently we generated two overlapping 'crescents' of data. Our objective is to build a classifier using the training data and predict the class label from the test data, which follows the same pattern (both sets were randomly split from the same data)."
   ]
  },
  {
   "cell_type": "markdown",
   "metadata": {},
   "source": [
    "### b) Use grid search with cross-validation (with the help of the GridSearchCV class) to find good hyperparameter values for a DecisionTreeClassifier. Hint: try various values for max_leaf_nodes."
   ]
  },
  {
   "cell_type": "markdown",
   "metadata": {},
   "source": [
    "Our first task is to perform a grid search over a set of parameters to determine the optimal values to use in our tree. The parameters we will be tuning are:\n",
    "* min_samples_split - Minimum number of samples required to split an internal node\n",
    "* min_samples_leaf - Minimum number of samples required in a leaf (terminal) node\n",
    "* max_leaf_nodes - Maximum number of leaf nodes allowed in the tree\n",
    "* max_depth - Maximum depth of tree (in levels)\n",
    "\n",
    "We'll use 5-fold cross validation to evaluate each set of parameters in our search."
   ]
  },
  {
   "cell_type": "code",
   "execution_count": 7,
   "metadata": {},
   "outputs": [
    {
     "name": "stdout",
     "output_type": "stream",
     "text": [
      "Fitting 5 folds for each of 5544 candidates, totalling 27720 fits\n"
     ]
    },
    {
     "name": "stderr",
     "output_type": "stream",
     "text": [
      "[Parallel(n_jobs=1)]: Done 27720 out of 27720 | elapsed:  5.3min finished\n"
     ]
    },
    {
     "data": {
      "text/plain": [
       "GridSearchCV(cv=5, error_score='raise',\n",
       "       estimator=DecisionTreeClassifier(class_weight=None, criterion='gini', max_depth=None,\n",
       "            max_features=None, max_leaf_nodes=None,\n",
       "            min_impurity_split=1e-07, min_samples_leaf=1,\n",
       "            min_samples_split=2, min_weight_fraction_leaf=0.0,\n",
       "            presort=False, random_state=None, splitter='best'),\n",
       "       fit_params={}, iid=True, n_jobs=1,\n",
       "       param_grid={'min_samples_split': array([2, 3, 4, 5, 6, 7, 8]), 'max_leaf_nodes': array([20, 21, 22, 23, 24, 25, 26, 27, 28, 29, 30]), 'max_depth': array([ 2,  3,  4,  5,  6,  7,  8,  9, 10]), 'min_samples_leaf': array([1, 2, 3, 4, 5, 6, 7, 8])},\n",
       "       pre_dispatch='2*n_jobs', refit=True, return_train_score=True,\n",
       "       scoring=None, verbose=1)"
      ]
     },
     "execution_count": 7,
     "metadata": {},
     "output_type": "execute_result"
    }
   ],
   "source": [
    "from sklearn.tree import DecisionTreeClassifier as DTC\n",
    "from sklearn.model_selection import GridSearchCV\n",
    "\n",
    "# Define parameters for grid search\n",
    "params = {'min_samples_split':np.arange(2,9), 'min_samples_leaf':np.arange(1,9),\n",
    "         'max_leaf_nodes':np.arange(20,31),'max_depth':np.arange(2,11)}\n",
    "# Create decision tree object\n",
    "dtc = DTC()\n",
    "gsDTC = GridSearchCV(dtc,params,verbose=1,cv=5)\n",
    "gsDTC.fit(X_train,y_train)"
   ]
  },
  {
   "cell_type": "markdown",
   "metadata": {},
   "source": [
    "With our grid search completed, let's look at the optimum values of each of our parameters."
   ]
  },
  {
   "cell_type": "code",
   "execution_count": 8,
   "metadata": {},
   "outputs": [
    {
     "name": "stdout",
     "output_type": "stream",
     "text": [
      "{'min_samples_split': 2, 'max_leaf_nodes': 23, 'max_depth': 6, 'min_samples_leaf': 4}\n"
     ]
    }
   ],
   "source": [
    "# Print best params from grid search\n",
    "gsearch_params = gsDTC.best_params_\n",
    "print(gsearch_params)"
   ]
  },
  {
   "cell_type": "markdown",
   "metadata": {},
   "source": [
    "### c) Train it on the full training set using these hyperparameters, and measure your model's performance on the test set. You should get roughly 85% to 87% accuracy (bonus point if you get more than 88% accuracy)"
   ]
  },
  {
   "cell_type": "code",
   "execution_count": 9,
   "metadata": {},
   "outputs": [
    {
     "name": "stdout",
     "output_type": "stream",
     "text": [
      "DecisionTreeClassifier(class_weight=None, criterion='gini', max_depth=6,\n",
      "            max_features=None, max_leaf_nodes=23, min_impurity_split=1e-07,\n",
      "            min_samples_leaf=4, min_samples_split=2,\n",
      "            min_weight_fraction_leaf=0.0, presort=False, random_state=None,\n",
      "            splitter='best')\n",
      "\n",
      "Confusion matrix:\n",
      "[[875 138]\n",
      " [115 872]]\n",
      "\n",
      "The classification accuracy on the test set is 87.35%\n"
     ]
    }
   ],
   "source": [
    "from sklearn.metrics import confusion_matrix\n",
    "# Create a tree using the best params\n",
    "moonsTree = DTC(min_samples_split=gsearch_params['min_samples_split'],\n",
    "                max_leaf_nodes=gsearch_params['max_leaf_nodes'],\n",
    "                min_samples_leaf=gsearch_params['min_samples_leaf'],\n",
    "                max_depth=gsearch_params['max_depth'])\n",
    "\n",
    "print(moonsTree)\n",
    "# Fit to training data\n",
    "moonsTree.fit(X_train,y_train)\n",
    "# Predict values from test data\n",
    "predVals = moonsTree.predict(X_test)\n",
    "# Create confusion matrix\n",
    "cmatrix = confusion_matrix(y_test,predVals)\n",
    "print('\\nConfusion matrix:')\n",
    "print(cmatrix)\n",
    "# Calculate accuracy\n",
    "accuracy = float(np.sum(np.diag(cmatrix)))/len(y_test)\n",
    "print('\\nThe classification accuracy on the test set is %4.2f%%' % (accuracy*100))"
   ]
  },
  {
   "cell_type": "markdown",
   "metadata": {},
   "source": [
    "### d) Generate 1,000 subsets of the training set, each containing 100 instances selected randomly (Hint: you can use Scikit-Learn's ShuffleSplit class for this). "
   ]
  },
  {
   "cell_type": "code",
   "execution_count": 10,
   "metadata": {
    "collapsed": true
   },
   "outputs": [],
   "source": [
    "from sklearn.model_selection import ShuffleSplit\n",
    "\n",
    "n_trees = 1000\n",
    "n_instances = 100\n",
    "\n",
    "mini_sets = []\n",
    "# Create shuffle split and store indices for each of the 1000 trees\n",
    "cdt_shuffle = ShuffleSplit(n_splits = n_trees, train_size = n_instances, test_size = 0)\n",
    "train = cdt_shuffle.split(X_train)\n",
    "for train_index,test_index in train:\n",
    "    mini_sets.append(train_index)"
   ]
  },
  {
   "cell_type": "markdown",
   "metadata": {},
   "source": [
    "### e) Train one Decision Tree on each subset, using the best hyperparameter values found above. Evaluate these 1,000 Decision Trees on the test set. Since they were trained on smaller sets, these Decision Trees will likely perform worse than the first Decision Tree, achieving only about 80% accuracy."
   ]
  },
  {
   "cell_type": "code",
   "execution_count": 11,
   "metadata": {
    "collapsed": true
   },
   "outputs": [],
   "source": [
    "from sklearn.base import clone\n",
    "from sklearn.model_selection import GridSearchCV\n",
    "\n",
    "forest = []\n",
    "accuracy = []\n",
    "# For each mini set, train a decision tree and evaluate on the full test set\n",
    "# Store each tree and the accuracy of each\n",
    "for mset in mini_sets:\n",
    "    # Create single tree\n",
    "    single_tree = DTC(min_samples_split=gsearch_params['min_samples_split'],\n",
    "                max_leaf_nodes=gsearch_params['max_leaf_nodes'],\n",
    "                min_samples_leaf=gsearch_params['min_samples_leaf'],\n",
    "                max_depth=gsearch_params['max_depth'])\n",
    "    # Train on current mini set\n",
    "    single_tree.fit(X_train[mset,:],y_train[mset])\n",
    "    # Evaluate on full test set\n",
    "    predVals = single_tree.predict(X_test)\n",
    "    # Generate confusion matrix\n",
    "    cmatrix = confusion_matrix(y_test,predVals)\n",
    "    # Compute accuracy\n",
    "    acc = float(np.sum(np.diag(cmatrix)))/len(y_test)\n",
    "    # Store tree and associated accuracy\n",
    "    forest.append(single_tree)\n",
    "    accuracy.append(acc)"
   ]
  },
  {
   "cell_type": "markdown",
   "metadata": {},
   "source": [
    "Let's take a look at the accuracy of our 1,000 trees:"
   ]
  },
  {
   "cell_type": "code",
   "execution_count": 12,
   "metadata": {},
   "outputs": [
    {
     "data": {
      "image/png": "[encoded data removed]",
      "text/plain": [
       "<matplotlib.figure.Figure at 0x7fcc9c50ee10>"
      ]
     },
     "metadata": {},
     "output_type": "display_data"
    },
    {
     "name": "stdout",
     "output_type": "stream",
     "text": [
      "The median accuracy of the 1,000 trees was 81.05%\n"
     ]
    }
   ],
   "source": [
    "# Generate histogram of accuracy\n",
    "plt.hist(accuracy,bins=20)\n",
    "plt.xlabel('Accuracy')\n",
    "plt.ylabel('Count')\n",
    "plt.title('Accuracy of trees trained on 100 random instances of Moons data set')\n",
    "plt.show()\n",
    "print('The median accuracy of the 1,000 trees was %4.2f%%' % (np.median(accuracy)*100))"
   ]
  },
  {
   "cell_type": "markdown",
   "metadata": {},
   "source": [
    "As expected, because each tree was trained on only 100 randomly selected training instances, the median accuracy is significantly less than the tree trained on the full data set."
   ]
  },
  {
   "cell_type": "markdown",
   "metadata": {},
   "source": [
    "### f) For each test set instance, generate the predictions of the 1,000 Decision Trees, and keep only the most frequent prediction (you can use SciPy's mode() function for this). This gives you majority-vote predictions over the test set."
   ]
  },
  {
   "cell_type": "code",
   "execution_count": 13,
   "metadata": {
    "collapsed": true
   },
   "outputs": [],
   "source": [
    "# Create a 'RandomForest' class to evaluate test observations\n",
    "class RandomForest:\n",
    "    def __init__(self,trees):\n",
    "        # Store trees that comprise forest\n",
    "        self.Trees = trees\n",
    "    def predict(self,observations):\n",
    "        threshold = float(len(self.Trees))/2\n",
    "        predict = []\n",
    "        # Iterate over observations\n",
    "        for obs in observations:\n",
    "            preds = []\n",
    "            # For each observation, generate class predictions from forest\n",
    "            for tree in self.Trees:\n",
    "                result = tree.predict(obs.reshape(1,-1))\n",
    "                preds.append(result[0])\n",
    "            # Determine majority class from all predictions and store\n",
    "            if sum(preds) >= threshold:\n",
    "                majority = 1\n",
    "            else:\n",
    "                majority = 0\n",
    "            predict.append(majority)\n",
    "        return predict\n",
    "    \n",
    "# Create random forest using set of 1,000 trees created above\n",
    "rf = RandomForest(forest)\n",
    "# Predict values from test set and return majority vote for each instance\n",
    "predVals = rf.predict(X_test)"
   ]
  },
  {
   "cell_type": "markdown",
   "metadata": {},
   "source": [
    "### g) Evaluate these predictions on the test set: you should obtain a slightly higher accuracy than your first model (about 0.5 to 1.5% higher). Congratulations, you have trained a Random Forest classifier!"
   ]
  },
  {
   "cell_type": "markdown",
   "metadata": {},
   "source": [
    "Let's generate the confusion matrix for our random forest predictions:"
   ]
  },
  {
   "cell_type": "code",
   "execution_count": 14,
   "metadata": {},
   "outputs": [
    {
     "name": "stdout",
     "output_type": "stream",
     "text": [
      "[[903 152]\n",
      " [110 835]]\n"
     ]
    }
   ],
   "source": [
    "cmatrix = confusion_matrix(predVals,y_test)\n",
    "print(cmatrix)"
   ]
  },
  {
   "cell_type": "markdown",
   "metadata": {},
   "source": [
    "From this, we can determine the accuracy:"
   ]
  },
  {
   "cell_type": "code",
   "execution_count": 15,
   "metadata": {},
   "outputs": [
    {
     "name": "stdout",
     "output_type": "stream",
     "text": [
      "\n",
      "The random forest classification accuracy on the test set is 86.90%\n"
     ]
    }
   ],
   "source": [
    "accuracy = float(np.sum(np.diag(cmatrix)))/len(y_test)\n",
    "print('\\nThe random forest classification accuracy on the test set is %4.2f%%' % (accuracy*100))"
   ]
  },
  {
   "cell_type": "markdown",
   "metadata": {},
   "source": [
    "The accuracy of the random forest classifier is on par with the first model built, which was a single tree trained on the full data set. Since each tree within the random forest was trained on only 100 samples, the accuracy of each tree was significantly lower than the first model. However, when combined into a random forest ensemble, the accuracy increased because the ensemble model decreases the variance of the grouped predictions (recall that the variance of the mean of n independent observations is inversely proportional to n, so more observations means a lower variance). For an ensemble model, that means that average of n predictions (majority vote) coming from n independent models will have a lower variance than the prediction from one of the models."
   ]
  }
 ],
 "metadata": {
  "kernelspec": {
   "display_name": "Python 2",
   "language": "python",
   "name": "python2"
  },
  "language_info": {
   "codemirror_mode": {
    "name": "ipython",
    "version": 2
   },
   "file_extension": ".py",
   "mimetype": "text/x-python",
   "name": "python",
   "nbconvert_exporter": "python",
   "pygments_lexer": "ipython2",
   "version": "2.7.12"
  }
 },
 "nbformat": 4,
 "nbformat_minor": 2
}
