{
 "cells": [
  {
   "cell_type": "markdown",
   "metadata": {},
   "source": [
    "_The main focus of this assignment is Frequent Patternset Mining from theoretical as well as practical perspective_"
   ]
  },
  {
   "cell_type": "markdown",
   "metadata": {},
   "source": [
    "## Problem 1: Association Rule Mining"
   ]
  },
  {
   "cell_type": "markdown",
   "metadata": {},
   "source": [
    "Consider the following dataset"
   ]
  },
  {
   "cell_type": "markdown",
   "metadata": {},
   "source": [
    "{onion, apple, butter, yogurt, eggs, apple} <br>\n",
    "{onion, apple, butter, yogurt, eggs, milk} <br>\n",
    "{eggs, milk, butter, yogurt, eggs, milk} <br>\n",
    "{cheese, milk, butter, yogurt, eggs, milk} <br>\n",
    "{cheese, milk, eggs, milk}"
   ]
  },
  {
   "cell_type": "markdown",
   "metadata": {},
   "source": [
    "- Using the FP-Tree algorithm with min support  = 0.6 and min confidence = 0.75 find all 3-frequent and all 4-frequent items. Show your work.\n",
    "- List 3 frequent item rulesets that can be derived from the previous set\n",
    "- Show that any 3-frequent itemsets can be derived from 2-frequent itemsets"
   ]
  },
  {
   "cell_type": "markdown",
   "metadata": {},
   "source": [
    "### Solution"
   ]
  },
  {
   "cell_type": "markdown",
   "metadata": {},
   "source": [
    "### Part 1\n",
    "The first step is to count all of the items in all of the transactions:\n",
    "* apple: 3\n",
    "* butter: 4\n",
    "* cheese: 2\n",
    "* eggs: 6\n",
    "* milk: 7\n",
    "* onion: 2\n",
    "* yogurt: 4\n",
    "\n",
    "Note that our minimum support threshold is 60%, which means that each item has to appear at least three times (since we have five transactions, 3/5 = 0.6). Two of our items, cheese and onion, do not pass this threshold, so we won't put them in our FP-Tree."
   ]
  },
  {
   "cell_type": "markdown",
   "metadata": {},
   "source": [
    "Next, we need to sort the items according to their support counts. We won't include cheese or onion, since they didn't meet the minimum support threshold.\n",
    "* milk: 7\n",
    "* eggs: 6\n",
    "* butter: 4\n",
    "* yogurt: 4\n",
    "* apple: 3"
   ]
  },
  {
   "cell_type": "markdown",
   "metadata": {},
   "source": [
    "Now, we can start to build our tree. The first transaction is {onion, apple, butter, yogurt, eggs, apple}. Note that the items are added in order of descending support."
   ]
  },
  {
   "cell_type": "markdown",
   "metadata": {
    "collapsed": true
   },
   "source": [
    "<img src=\"FP-Tree1.png\",width=300,height=300>"
   ]
  },
  {
   "cell_type": "markdown",
   "metadata": {
    "collapsed": true
   },
   "source": [
    "The next transaction is {onion, apple, butter, yogurt, eggs, milk}."
   ]
  },
  {
   "cell_type": "markdown",
   "metadata": {},
   "source": [
    "<img src=\"FP-Tree2.png\",width=350,height=350>"
   ]
  },
  {
   "cell_type": "markdown",
   "metadata": {},
   "source": [
    "Note that because the first item in the list was milk, which was not in the previous transaction, we had to start a new branch. The next transaction is {eggs, milk, butter, yogurt, eggs, milk}."
   ]
  },
  {
   "cell_type": "markdown",
   "metadata": {
    "collapsed": true
   },
   "source": [
    "<img src=\"FP-Tree3.png\",width=350,height=350>"
   ]
  },
  {
   "cell_type": "markdown",
   "metadata": {},
   "source": [
    "Note that this transaction was entirely contained within the rightmost branch, so the support counts there were simply updated, and no new branches were formed. The next transaction is {cheese, milk, butter, yogurt, eggs, milk}."
   ]
  },
  {
   "cell_type": "markdown",
   "metadata": {},
   "source": [
    "<img src=\"FP-Tree4.png\",width=350,height=350>"
   ]
  },
  {
   "cell_type": "markdown",
   "metadata": {},
   "source": [
    "Once again, all of the items were contained within the rightmost branch, so the counts were updated again. The last transaction is {cheese, milk, eggs, milk}."
   ]
  },
  {
   "cell_type": "markdown",
   "metadata": {},
   "source": [
    "<img src=\"FP-Tree5.png\",width=350,height=350>"
   ]
  },
  {
   "cell_type": "markdown",
   "metadata": {},
   "source": [
    "Now, with our tree complete, the next step is to form the conditional pattern bases for each item. We start with apples, which are the last item in our sorted list. \n",
    "\n",
    "There are two paths that lead to apple: <br>\n",
    "apple: {eggs, butter, yogurt: 2}, {milk, eggs, butter, yogurt: 1} <br>\n",
    "\n",
    "We can repeat the process for yogurt, then butter, then eggs, and finally milk. <br>\n",
    "yogurt: {eggs, butter: 1}, {milk, eggs, butter: 3} <br>\n",
    "butter: {eggs: 1}, {milk, eggs: 3} <br>\n",
    "eggs: {milk: 5}"
   ]
  },
  {
   "cell_type": "markdown",
   "metadata": {},
   "source": [
    "For each of these conditional pattern bases, we can form a conditional FP-Tree by combining the items in a new tree. \n",
    "\n",
    "For apple, the pattern bases each start from with a different item, so we can't combine them.\n",
    "\n",
    "apple: {eggs: 2, butter: 2, yogurt: 2}, {milk: 1, eggs: 1, butter: 1, yogurt: 1}\n",
    "\n",
    "Neither of these meet the support threshold, so we can't keep either.\n",
    "\n",
    "For yogurt, the pattern bases also start with a different item, so we can't combine them.\n",
    "\n",
    "yogurt: {eggs: 1, butter: 1}, {milk: 3, eggs: 3, butter: 3}\n",
    "\n",
    "We can only keep the latter, since the first does not meet the support threshold.\n",
    "\n",
    "yogurt: {milk: 3, eggs: 3, butter: 3}\n",
    "\n",
    "For butter, we also have two paths:\n",
    "\n",
    "butter: {eggs: 1}, {milk: 3, eggs: 3}\n",
    "\n",
    "We can only keep the latter, since the first does not meet the support threshold.\n",
    "\n",
    "butter: {milk: 3, eggs: 3}\n",
    "\n",
    "Finally, for eggs we have one path:\n",
    "\n",
    "eggs: {milk: 5}\n",
    "\n",
    "To summarize, here are our FP-Trees:\n",
    "\n",
    "yogurt: {milk: 3, eggs: 3, butter: 3} <br>\n",
    "butter: {milk: 3, eggs: 3} <br>\n",
    "eggs: {milk: 5}"
   ]
  },
  {
   "cell_type": "markdown",
   "metadata": {},
   "source": [
    "Finally, from these we can generate all 3-count and 4-count frequent itemsets by recursively combining the items:\n",
    "\n",
    "{yogurt, milk, eggs, butter: 3} <br>\n",
    "{yogurt, milk, eggs: 3} <br>\n",
    "{yogurt, milk, butter: 3} <br>\n",
    "{yogurt, eggs, butter: 4} <br>\n",
    "{butter, milk, eggs: 3}"
   ]
  },
  {
   "cell_type": "markdown",
   "metadata": {
    "collapsed": true
   },
   "source": [
    "### Part 2\n",
    "Given the above frequent itemsets, we can develop several rules, ensuring that they meet the confidence threshold of 75% (the support threshold has already been enforced). Note that there are many potential rules, we will only be creating three. An example of a rule is:\n",
    "* Yogurt, milk, eggs $\\rightarrow$ butter\n",
    "\n",
    "To check this rule, we need to compute the confidence, which is the support count of the all items divided by the support count of the left hand side. For this example, we have confidence equal to 3/3 = 100%.\n",
    "\n",
    "A second rule is\n",
    "* Milk $\\rightarrow$ eggs, butter\n",
    "<br> The confidence of this rule is equal to 3/4 = 75%. \n",
    "\n",
    "A potential third rule is: eggs $\\rightarrow$ yogurt, milk. However, the confidence of this rule is equal to 3/5 = 60%, which is not good enough, so we cannot use it. A better rule is\n",
    "* Butter $\\rightarrow$ yogurt, eggs\n",
    "<br> The confidence of this rule is equal to 4/4 = 100%.\n",
    "\n",
    "As stated above, there are many more rules that could be derived, but the above three represent rules that meet the minimum support and confidence."
   ]
  },
  {
   "cell_type": "markdown",
   "metadata": {},
   "source": [
    "### Part 3\n",
    "It is straightforward to show that any 3-frequent itemset can be derived from 2-frequent itemsets. To generate a 3-frequent itemset, you need two 2-frequent itemsets with one item in common. Each of those itemsets is already frequent, meaning it's members meet the minimum support threshold. Taking the union of both itemsets will automatically produce a 3-frequent itemset because all of the individual items are already frequent.\n",
    "\n",
    "As an example, take the 2-frequent itemsets {butter, yogurt} and {yogurt, milk}. The 3 itemset made from these is {butter, yogurt, milk}, which is indeed one of the 3-frequent itemsets defined in Part 1."
   ]
  },
  {
   "cell_type": "markdown",
   "metadata": {
    "collapsed": true
   },
   "source": [
    "## Problem 2: Applications of FP Mining"
   ]
  },
  {
   "cell_type": "markdown",
   "metadata": {},
   "source": [
    "Original Problem Statement: Using the NIS Flanders Traffic Accident Dataset apply Frequent Itemset Mining to identify the road conditions, type of roads associated with accidents. Identify other rules of interest that are associated with accidents or lack thereof. Make a case regarding how you can use these rules to reduce traffic accidents.\n",
    "\n",
    "Updated Problem Statement: Vary the min threshold for support and confidence. Plot the number of rules or item sets generated against support and confidence. Make recommendations regarding the ideal thresholds."
   ]
  },
  {
   "cell_type": "markdown",
   "metadata": {},
   "source": [
    "### Solution\n",
    "\n",
    "As stated, our goal is to see how sensitive the number of rules that are generated is to the minimum support and confidence supplied to the apriori algorithm.\n",
    "\n",
    "First, we need to load the data set and parse the lines, which as shown below are a series of strings containing comma separated integers."
   ]
  },
  {
   "cell_type": "code",
   "execution_count": 1,
   "metadata": {},
   "outputs": [
    {
     "name": "stdout",
     "output_type": "stream",
     "text": [
      "340183\n",
      "['1,2,3,4,5,6,7,8,9,10,11,12,13,14,15,16,17,18,19,20,21,22,23,24,25,26,27,28,29,30,31,,,,,,,,,,,,,,,,,,,,\\r\\n', '2,5,7,8,9,10,12,13,14,15,16,17,18,20,22,23,24,25,27,28,29,32,33,34,35,36,37,38,39,,,,,,,,,,,,,,,,,,,,,,\\r\\n', '7,10,12,13,14,15,16,17,18,20,25,28,29,30,33,40,41,42,43,44,45,46,47,48,49,50,51,52,,,,,,,,,,,,,,,,,,,,,,,\\r\\n', '1,5,8,10,12,14,15,16,17,18,19,20,21,22,24,25,26,27,28,29,30,31,41,43,46,48,49,51,52,53,54,55,56,57,58,59,60,61,,,,,,,,,,,,,\\r\\n', '5,8,10,12,14,15,16,17,18,21,22,24,25,26,27,28,29,31,33,36,38,39,41,43,46,56,62,63,64,65,66,67,68,,,,,,,,,,,,,,,,,,\\r\\n']\n"
     ]
    }
   ],
   "source": [
    "# Load the Relevant libraries\n",
    "import sklearn as sk\n",
    "import urllib\n",
    "import pandas as pd\n",
    "\n",
    "# URL for the Traffic Data (UW Repository)\n",
    "url = \"NISTraffic.csv\"\n",
    "\n",
    "# download the file\n",
    "raw_data = open(url,'r')\n",
    "lines = raw_data.readlines()\n",
    "print(len(lines))\n",
    "print(lines[0:5])"
   ]
  },
  {
   "cell_type": "code",
   "execution_count": 2,
   "metadata": {},
   "outputs": [
    {
     "name": "stdout",
     "output_type": "stream",
     "text": [
      "340183\n",
      "[[1, 2, 3, 4, 5, 6, 7, 8, 9, 10, 11, 12, 13, 14, 15, 16, 17, 18, 19, 20, 21, 22, 23, 24, 25, 26, 27, 28, 29, 30, 31], [2, 5, 7, 8, 9, 10, 12, 13, 14, 15, 16, 17, 18, 20, 22, 23, 24, 25, 27, 28, 29, 32, 33, 34, 35, 36, 37, 38, 39], [7, 10, 12, 13, 14, 15, 16, 17, 18, 20, 25, 28, 29, 30, 33, 40, 41, 42, 43, 44, 45, 46, 47, 48, 49, 50, 51, 52], [1, 5, 8, 10, 12, 14, 15, 16, 17, 18, 19, 20, 21, 22, 24, 25, 26, 27, 28, 29, 30, 31, 41, 43, 46, 48, 49, 51, 52, 53, 54, 55, 56, 57, 58, 59, 60, 61], [5, 8, 10, 12, 14, 15, 16, 17, 18, 21, 22, 24, 25, 26, 27, 28, 29, 31, 33, 36, 38, 39, 41, 43, 46, 56, 62, 63, 64, 65, 66, 67, 68]]\n"
     ]
    }
   ],
   "source": [
    "lines_formatted = []\n",
    "for i,line in enumerate(lines):\n",
    "    formatted = []\n",
    "    line = line.replace(',,','') # Remove blank entries at end of line\n",
    "    pieces = line.rstrip().split(',')\n",
    "    if len(pieces) > 0:\n",
    "        for item in pieces:\n",
    "            if len(item) > 0:\n",
    "                formatted.append(int(item))\n",
    "        lines_formatted.append(formatted)\n",
    "print(len(lines_formatted))\n",
    "print(lines_formatted[0:5])"
   ]
  },
  {
   "cell_type": "markdown",
   "metadata": {},
   "source": [
    "The format above is now usable by the apriori algorithm, as each line is represented by a comma separated list of integers corresponding to specific properties of each traffic accident.\n",
    "\n",
    "The next step is to run this data through the apriori algorithm, but unfortunately there is not one included in scikit learn. One was found at the following site, and it is reproduced below:\n",
    "\n",
    "http://adataanalyst.com/machine-learning/apriori-algorithm-python-3-0/"
   ]
  },
  {
   "cell_type": "code",
   "execution_count": 3,
   "metadata": {
    "collapsed": true
   },
   "outputs": [],
   "source": [
    "def createC1(dataSet):\n",
    "    C1 = []\n",
    "    for transaction in dataSet:\n",
    "        for item in transaction:\n",
    "            if not [item] in C1:\n",
    "                C1.append([item])\n",
    "                \n",
    "    C1.sort()\n",
    "    return list(map(frozenset, C1))#use frozen set so we\n",
    "                            #can use it as a key in a dict "
   ]
  },
  {
   "cell_type": "code",
   "execution_count": 4,
   "metadata": {
    "collapsed": true
   },
   "outputs": [],
   "source": [
    "def scanD(D, Ck, minSupport):\n",
    "    ssCnt = {}\n",
    "    for tid in D:\n",
    "        for can in Ck:\n",
    "            if can.issubset(tid):\n",
    "                if not can in ssCnt: ssCnt[can]=1\n",
    "                else: ssCnt[can] += 1\n",
    "    numItems = float(len(D))\n",
    "    retList = []\n",
    "    supportData = {}\n",
    "    for key in ssCnt:\n",
    "        support = ssCnt[key]/numItems\n",
    "        if support >= minSupport:\n",
    "            retList.insert(0,key)\n",
    "        supportData[key] = support\n",
    "    return retList, supportData"
   ]
  },
  {
   "cell_type": "code",
   "execution_count": 5,
   "metadata": {
    "collapsed": true
   },
   "outputs": [],
   "source": [
    "def aprioriGen(Lk, k): #creates Ck\n",
    "    retList = []\n",
    "    lenLk = len(Lk)\n",
    "    for i in range(lenLk):\n",
    "        for j in range(i+1, lenLk): \n",
    "            L1 = list(Lk[i])[:k-2]; L2 = list(Lk[j])[:k-2]\n",
    "            L1.sort(); L2.sort()\n",
    "            if L1==L2: #if first k-2 elements are equal\n",
    "                retList.append(Lk[i] | Lk[j]) #set union\n",
    "    return retList"
   ]
  },
  {
   "cell_type": "code",
   "execution_count": 6,
   "metadata": {
    "collapsed": true
   },
   "outputs": [],
   "source": [
    "def apriori(dataSet, minSupport = 0.5):\n",
    "    C1 = createC1(dataSet)\n",
    "    D = list(map(set, dataSet))\n",
    "    L1, supportData = scanD(D, C1, minSupport)\n",
    "    L = [L1]\n",
    "    k = 2\n",
    "    while (len(L[k-2]) > 0):\n",
    "        Ck = aprioriGen(L[k-2], k)\n",
    "        Lk, supK = scanD(D, Ck, minSupport)#scan DB to get Lk\n",
    "        supportData.update(supK)\n",
    "        L.append(Lk)\n",
    "        k += 1\n",
    "    return L, supportData"
   ]
  },
  {
   "cell_type": "code",
   "execution_count": 7,
   "metadata": {
    "collapsed": true
   },
   "outputs": [],
   "source": [
    "def generateRules(L, supportData, minConf=0.7):  #supportData is a dict coming from scanD\n",
    "    bigRuleList = []\n",
    "    for i in range(1, len(L)):#only get the sets with two or more items\n",
    "        for freqSet in L[i]:\n",
    "            H1 = [frozenset([item]) for item in freqSet]\n",
    "            if (i > 1):\n",
    "                rulesFromConseq(freqSet, H1, supportData, bigRuleList, minConf)\n",
    "            else:\n",
    "                calcConf(freqSet, H1, supportData, bigRuleList, minConf)\n",
    "    return bigRuleList         "
   ]
  },
  {
   "cell_type": "code",
   "execution_count": 8,
   "metadata": {
    "collapsed": true
   },
   "outputs": [],
   "source": [
    "def calcConf(freqSet, H, supportData, brl, minConf=0.7):\n",
    "    prunedH = [] #create new list to return\n",
    "    for conseq in H:\n",
    "        try:\n",
    "            conf = supportData[freqSet]/supportData[freqSet-conseq] #calc confidence\n",
    "            if conf >= minConf: \n",
    "                brl.append((freqSet-conseq, conseq, conf))\n",
    "                prunedH.append(conseq)\n",
    "        except:\n",
    "            pass\n",
    "    return prunedH"
   ]
  },
  {
   "cell_type": "code",
   "execution_count": 9,
   "metadata": {
    "collapsed": true
   },
   "outputs": [],
   "source": [
    "def rulesFromConseq(freqSet, H, supportData, brl, minConf=0.7):\n",
    "    m = len(H[0])\n",
    "    if (len(freqSet) > (m + 1)): #try further merging\n",
    "        Hmp1 = aprioriGen(H, m+1)#create Hm+1 new candidates\n",
    "        Hmp1 = calcConf(freqSet, Hmp1, supportData, brl, minConf)\n",
    "        if (len(Hmp1) > 1):    #need at least two sets to merge\n",
    "            rulesFromConseq(freqSet, Hmp1, supportData, brl, minConf)"
   ]
  },
  {
   "cell_type": "markdown",
   "metadata": {},
   "source": [
    "Since apriori is known to be slow on large data sets, we'll use a subset to make the problem more tractable.\n",
    "\n",
    "To measure the sensitivity with regards to the level of support and confidence, both will be iterated from 50%-90% in increments of 10%. For each combination, the number of rules will be computed and stored."
   ]
  },
  {
   "cell_type": "code",
   "execution_count": 10,
   "metadata": {},
   "outputs": [
    {
     "name": "stdout",
     "output_type": "stream",
     "text": [
      "Max = 8504\n",
      "[0.5, 0.6, 0.7, 0.8, 0.9]\n",
      "Support = 0.500000\n",
      "  Confidence: 0.500000\n",
      "  Confidence: 0.600000\n",
      "  Confidence: 0.700000\n",
      "  Confidence: 0.800000\n",
      "  Confidence: 0.900000\n",
      "Support = 0.600000\n",
      "  Confidence: 0.500000\n",
      "  Confidence: 0.600000\n",
      "  Confidence: 0.700000\n",
      "  Confidence: 0.800000\n",
      "  Confidence: 0.900000\n",
      "Support = 0.700000\n",
      "  Confidence: 0.500000\n",
      "  Confidence: 0.600000\n",
      "  Confidence: 0.700000\n",
      "  Confidence: 0.800000\n",
      "  Confidence: 0.900000\n",
      "Support = 0.800000\n",
      "  Confidence: 0.500000\n",
      "  Confidence: 0.600000\n",
      "  Confidence: 0.700000\n",
      "  Confidence: 0.800000\n",
      "  Confidence: 0.900000\n",
      "Support = 0.900000\n",
      "  Confidence: 0.500000\n",
      "  Confidence: 0.600000\n",
      "  Confidence: 0.700000\n",
      "  Confidence: 0.800000\n",
      "  Confidence: 0.900000\n"
     ]
    }
   ],
   "source": [
    "max = int(len(lines_formatted)/40)\n",
    "print('Max = %i' % max)\n",
    "support = [item / float(10) for item in range(5,10)]\n",
    "confidence = support\n",
    "num_rules = {}\n",
    "print(support)\n",
    "for sup in support:\n",
    "    print('Support = %f' % sup)\n",
    "    L,suppData = apriori(lines_formatted[0:max],minSupport=sup)\n",
    "    rlist = []\n",
    "    for conf in confidence:\n",
    "        print('  Confidence: %f' % conf)\n",
    "        rules = generateRules(L,suppData, minConf=conf)\n",
    "        rlist.append(len(rules))\n",
    "    num_rules[sup] = rlist"
   ]
  },
  {
   "cell_type": "markdown",
   "metadata": {},
   "source": [
    "Let's take a look at the number of rules generated for each combination of support and confidence. For each value of support, the rules for the five confidence levels are shown."
   ]
  },
  {
   "cell_type": "code",
   "execution_count": 11,
   "metadata": {},
   "outputs": [
    {
     "name": "stdout",
     "output_type": "stream",
     "text": [
      "Support = 0.5\n",
      "  [507403, 444107, 319485, 183365, 63496]\n",
      "Support = 0.6\n",
      "  [84297, 84297, 70500, 44253, 17452]\n",
      "Support = 0.7\n",
      "  [15040, 15040, 15040, 11523, 4986]\n",
      "Support = 0.8\n",
      "  [2322, 2322, 2322, 2322, 1288]\n",
      "Support = 0.9\n",
      "  [175, 175, 175, 175, 175]\n"
     ]
    }
   ],
   "source": [
    "for sup in support:\n",
    "    print('Support = %2.1f' % sup)\n",
    "    print('  ' + str(num_rules[sup]))"
   ]
  },
  {
   "cell_type": "markdown",
   "metadata": {},
   "source": [
    "Let's plot these to get a better look at the trend."
   ]
  },
  {
   "cell_type": "code",
   "execution_count": 12,
   "metadata": {},
   "outputs": [
    {
     "data": {
      "image/png": "[encoded data removed]",
      "text/plain": [
       "<matplotlib.figure.Figure at 0x7f0c901481d0>"
      ]
     },
     "metadata": {},
     "output_type": "display_data"
    }
   ],
   "source": [
    "import matplotlib.pyplot as plt\n",
    "import numpy as np\n",
    "legend = []\n",
    "for sup in support:\n",
    "    rules = num_rules[sup]\n",
    "    plt.plot(confidence,rules)\n",
    "    legend.append('Support = %2.1f' % sup)\n",
    "plt.legend(legend)\n",
    "plt.xlabel('Confidence')\n",
    "plt.xticks(confidence)\n",
    "plt.ylabel('Number of Rules')\n",
    "plt.show()"
   ]
  },
  {
   "cell_type": "markdown",
   "metadata": {},
   "source": [
    "From the plot, it's clear that a minimum support level of 50% is too low. A large number of rules are generated (between 60,000 and 500,000), resulting in far too much data to process. Even at 60% minimum support, there are still over 17,000 rules at a confidence level of 90%. Let's remake the plot below, starting at a minimum support level of 70%."
   ]
  },
  {
   "cell_type": "code",
   "execution_count": 13,
   "metadata": {},
   "outputs": [
    {
     "data": {
      "image/png": "[encoded data removed]",
      "text/plain": [
       "<matplotlib.figure.Figure at 0x7f0c9002b890>"
      ]
     },
     "metadata": {},
     "output_type": "display_data"
    }
   ],
   "source": [
    "legend = []\n",
    "for sup in support[2:]:\n",
    "    rules = num_rules[sup]\n",
    "    plt.plot(confidence,rules)\n",
    "    legend.append('Support = %2.1f' % sup)\n",
    "plt.legend(legend)\n",
    "plt.xlabel('Confidence')\n",
    "plt.xticks(confidence)\n",
    "plt.ylabel('Number of Rules')\n",
    "plt.show()"
   ]
  },
  {
   "cell_type": "markdown",
   "metadata": {
    "collapsed": true
   },
   "source": [
    "This plot definitely looks more reasonable. From these results, I would recommend a minimum support level between 70% and 80%, as 90% looks to be too high with too few rules generated at any level of confidence. For minimum confidence, I would recommend at least 70%, but note that at higher levels of support (>80%), there is not much sensitivity to the confidence level in terms of the number of rules generated."
   ]
  }
 ],
 "metadata": {
  "kernelspec": {
   "display_name": "Python 2",
   "language": "python",
   "name": "python2"
  },
  "language_info": {
   "codemirror_mode": {
    "name": "ipython",
    "version": 2
   },
   "file_extension": ".py",
   "mimetype": "text/x-python",
   "name": "python",
   "nbconvert_exporter": "python",
   "pygments_lexer": "ipython2",
   "version": "2.7.13"
  }
 },
 "nbformat": 4,
 "nbformat_minor": 1
}
